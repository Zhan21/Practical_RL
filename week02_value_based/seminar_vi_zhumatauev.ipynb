{
 "cells": [
  {
   "cell_type": "markdown",
   "metadata": {},
   "source": [
    "### Markov decision process\n",
    "\n",
    "This week's methods are all built to solve __M__arkov __D__ecision __P__rocesses. In the broadest sense, an MDP is defined by how it changes states and how rewards are computed.\n",
    "\n",
    "State transition is defined by $P(s' |s,a)$ - how likely are you to end at state $s'$ if you take action $a$ from state $s$. Now there's more than one way to define rewards, but we'll use $r(s,a,s')$ function for convenience.\n",
    "\n",
    "_This notebook is inspired by the awesome_ [CS294](https://github.com/berkeleydeeprlcourse/homework/blob/36a0b58261acde756abd55306fbe63df226bf62b/hw2/HW2.ipynb) _by Berkeley_"
   ]
  },
  {
   "cell_type": "markdown",
   "metadata": {},
   "source": [
    "For starters, let's define a simple MDP from this picture:\n",
    "\n",
    "<img src=\"https://upload.wikimedia.org/wikipedia/commons/a/ad/Markov_Decision_Process.svg\" width=\"400px\" alt=\"Diagram by Waldoalvarez via Wikimedia Commons, CC BY-SA 4.0\"/>"
   ]
  },
  {
   "cell_type": "code",
   "execution_count": 1,
   "metadata": {},
   "outputs": [
    {
     "name": "stdout",
     "output_type": "stream",
     "text": [
      "Starting virtual X frame buffer: Xvfbstart-stop-daemon: unable to stat /usr/bin/Xvfb (No such file or directory)\n",
      ".\n"
     ]
    }
   ],
   "source": [
    "import sys, os\n",
    "if 'google.colab' in sys.modules and not os.path.exists('.setup_complete'):\n",
    "    !wget -q https://raw.githubusercontent.com/yandexdataschool/Practical_RL/master/setup_colab.sh -O- | bash\n",
    "    !wget -q https://raw.githubusercontent.com/yandexdataschool/Practical_RL/master/week02_value_based/mdp.py\n",
    "    !touch .setup_complete\n",
    "\n",
    "# This code creates a virtual display to draw game images on.\n",
    "# It will have no effect if your machine has a monitor.\n",
    "if type(os.environ.get(\"DISPLAY\")) is not str or len(os.environ.get(\"DISPLAY\")) == 0:\n",
    "    !bash ../xvfb start\n",
    "    os.environ['DISPLAY'] = ':1'"
   ]
  },
  {
   "cell_type": "code",
   "execution_count": 2,
   "metadata": {},
   "outputs": [],
   "source": [
    "transition_probs = {\n",
    "    's0': {\n",
    "        'a0': {'s0': 0.5, 's2': 0.5},\n",
    "        'a1': {'s2': 1}\n",
    "    },\n",
    "    's1': {\n",
    "        'a0': {'s0': 0.7, 's1': 0.1, 's2': 0.2},\n",
    "        'a1': {'s1': 0.95, 's2': 0.05}\n",
    "    },\n",
    "    's2': {\n",
    "        'a0': {'s0': 0.4, 's2': 0.6},\n",
    "        'a1': {'s0': 0.3, 's1': 0.3, 's2': 0.4}\n",
    "    }\n",
    "}\n",
    "rewards = {\n",
    "    's1': {'a0': {'s0': +5}},\n",
    "    's2': {'a1': {'s0': -1}}\n",
    "}\n",
    "\n",
    "from mdp import MDP\n",
    "mdp = MDP(transition_probs, rewards, initial_state='s0')"
   ]
  },
  {
   "cell_type": "markdown",
   "metadata": {},
   "source": [
    "We can now use MDP just as any other gym environment:"
   ]
  },
  {
   "cell_type": "code",
   "execution_count": 3,
   "metadata": {},
   "outputs": [
    {
     "name": "stdout",
     "output_type": "stream",
     "text": [
      "initial state = s0\n",
      "next_state = s2, reward = 0.0, done = False\n"
     ]
    }
   ],
   "source": [
    "print('initial state =', mdp.reset())\n",
    "next_state, reward, done, info = mdp.step('a1')\n",
    "print('next_state = %s, reward = %s, done = %s' % (next_state, reward, done))"
   ]
  },
  {
   "cell_type": "markdown",
   "metadata": {},
   "source": [
    "but it also has other methods that you'll need for Value Iteration"
   ]
  },
  {
   "cell_type": "code",
   "execution_count": 3,
   "metadata": {
    "scrolled": true
   },
   "outputs": [
    {
     "name": "stdout",
     "output_type": "stream",
     "text": [
      "mdp.get_all_states = ('s0', 's1', 's2')\n",
      "mdp.get_possible_actions('s1') =  ('a0', 'a1')\n",
      "mdp.get_next_states('s1', 'a0') =  {'s0': 0.7, 's1': 0.1, 's2': 0.2}\n",
      "mdp.get_reward('s1', 'a0', 's0') =  5\n",
      "mdp.get_transition_prob('s1', 'a0', 's0') =  0.7\n"
     ]
    }
   ],
   "source": [
    "print(\"mdp.get_all_states =\", mdp.get_all_states())\n",
    "print(\"mdp.get_possible_actions('s1') = \", mdp.get_possible_actions('s1'))\n",
    "print(\"mdp.get_next_states('s1', 'a0') = \", mdp.get_next_states('s1', 'a0'))\n",
    "print(\"mdp.get_reward('s1', 'a0', 's0') = \", mdp.get_reward('s1', 'a0', 's0'))\n",
    "print(\"mdp.get_transition_prob('s1', 'a0', 's0') = \", mdp.get_transition_prob('s1', 'a0', 's0'))"
   ]
  },
  {
   "cell_type": "markdown",
   "metadata": {},
   "source": [
    "### Optional: Visualizing MDPs\n",
    "\n",
    "You can also visualize any MDP with the drawing fuction donated by [neer201](https://github.com/neer201).\n",
    "\n",
    "You have to install graphviz for system and for python. \n",
    "\n",
    "1. * For ubuntu just run: `sudo apt-get install graphviz` \n",
    "   * For OSX: `brew install graphviz`\n",
    "2. `pip install graphviz`\n",
    "3. restart the notebook\n",
    "\n",
    "__Note:__ Installing graphviz on some OS (esp. Windows) may be tricky. However, you can ignore this part alltogether and use the standart vizualization."
   ]
  },
  {
   "cell_type": "code",
   "execution_count": 4,
   "metadata": {},
   "outputs": [
    {
     "name": "stdout",
     "output_type": "stream",
     "text": [
      "Graphviz available: True\n"
     ]
    }
   ],
   "source": [
    "from mdp import has_graphviz\n",
    "from IPython.display import display\n",
    "print(\"Graphviz available:\", has_graphviz)"
   ]
  },
  {
   "cell_type": "code",
   "execution_count": 5,
   "metadata": {},
   "outputs": [
    {
     "data": {
      "image/svg+xml": "<?xml version=\"1.0\" encoding=\"UTF-8\" standalone=\"no\"?>\n<!DOCTYPE svg PUBLIC \"-//W3C//DTD SVG 1.1//EN\"\n \"http://www.w3.org/Graphics/SVG/1.1/DTD/svg11.dtd\">\n<!-- Generated by graphviz version 2.50.0 (0)\n -->\n<!-- Title: MDP Pages: 1 -->\n<svg width=\"720pt\" height=\"226pt\"\n viewBox=\"0.00 0.00 720.00 226.34\" xmlns=\"http://www.w3.org/2000/svg\" xmlns:xlink=\"http://www.w3.org/1999/xlink\">\n<g id=\"graph0\" class=\"graph\" transform=\"scale(0.7 0.7) rotate(0) translate(4 319)\">\n<title>MDP</title>\n<polygon fill=\"white\" stroke=\"transparent\" points=\"-4,4 -4,-319 1023.46,-319 1023.46,4 -4,4\"/>\n<!-- s0 -->\n<g id=\"node1\" class=\"node\">\n<title>s0</title>\n<ellipse fill=\"#85ff75\" stroke=\"#85ff75\" cx=\"40\" cy=\"-116\" rx=\"36\" ry=\"36\"/>\n<ellipse fill=\"none\" stroke=\"#85ff75\" cx=\"40\" cy=\"-116\" rx=\"40\" ry=\"40\"/>\n<text text-anchor=\"middle\" x=\"40\" y=\"-109.8\" font-family=\"Arial\" font-size=\"24.00\">s0</text>\n</g>\n<!-- s0&#45;a0 -->\n<g id=\"node2\" class=\"node\">\n<title>s0&#45;a0</title>\n<ellipse fill=\"lightpink\" stroke=\"lightpink\" cx=\"193.58\" cy=\"-160\" rx=\"27.65\" ry=\"27.65\"/>\n<text text-anchor=\"middle\" x=\"193.58\" y=\"-155\" font-family=\"Arial\" font-size=\"20.00\">a0</text>\n</g>\n<!-- s0&#45;&gt;s0&#45;a0 -->\n<g id=\"edge1\" class=\"edge\">\n<title>s0&#45;&gt;s0&#45;a0</title>\n<path fill=\"none\" stroke=\"red\" stroke-width=\"2\" d=\"M79.19,-124.49C99.74,-129.34 125.44,-135.88 148,-143 151.34,-144.05 154.79,-145.22 158.23,-146.44\"/>\n<polygon fill=\"red\" stroke=\"red\" stroke-width=\"2\" points=\"157.17,-149.78 167.77,-149.95 159.59,-143.21 157.17,-149.78\"/>\n</g>\n<!-- s0&#45;a1 -->\n<g id=\"node4\" class=\"node\">\n<title>s0&#45;a1</title>\n<ellipse fill=\"lightpink\" stroke=\"lightpink\" cx=\"193.58\" cy=\"-233\" rx=\"27.65\" ry=\"27.65\"/>\n<text text-anchor=\"middle\" x=\"193.58\" y=\"-228\" font-family=\"Arial\" font-size=\"20.00\">a1</text>\n</g>\n<!-- s0&#45;&gt;s0&#45;a1 -->\n<g id=\"edge4\" class=\"edge\">\n<title>s0&#45;&gt;s0&#45;a1</title>\n<path fill=\"none\" stroke=\"red\" stroke-width=\"2\" d=\"M66.9,-145.7C76.21,-155.57 87.12,-166.26 98,-175 117.23,-190.44 140.89,-204.94 159.73,-215.59\"/>\n<polygon fill=\"red\" stroke=\"red\" stroke-width=\"2\" points=\"158.11,-218.69 168.55,-220.49 161.51,-212.57 158.11,-218.69\"/>\n</g>\n<!-- s0&#45;a0&#45;&gt;s0 -->\n<g id=\"edge2\" class=\"edge\">\n<title>s0&#45;a0&#45;&gt;s0</title>\n<path fill=\"none\" stroke=\"blue\" stroke-dasharray=\"5,2\" d=\"M166.14,-155.8C146.98,-152.42 120.58,-147.07 98,-140 94.19,-138.81 90.28,-137.45 86.39,-136.01\"/>\n<polygon fill=\"blue\" stroke=\"blue\" points=\"87.39,-132.65 76.8,-132.29 84.85,-139.17 87.39,-132.65\"/>\n<text text-anchor=\"middle\" x=\"123\" y=\"-158.2\" font-family=\"Arial\" font-size=\"16.00\">p = 0.5</text>\n</g>\n<!-- s2 -->\n<g id=\"node3\" class=\"node\">\n<title>s2</title>\n<ellipse fill=\"#85ff75\" stroke=\"#85ff75\" cx=\"433.15\" cy=\"-183\" rx=\"36\" ry=\"36\"/>\n<ellipse fill=\"none\" stroke=\"#85ff75\" cx=\"433.15\" cy=\"-183\" rx=\"40\" ry=\"40\"/>\n<text text-anchor=\"middle\" x=\"433.15\" y=\"-176.8\" font-family=\"Arial\" font-size=\"24.00\">s2</text>\n</g>\n<!-- s0&#45;a0&#45;&gt;s2 -->\n<g id=\"edge3\" class=\"edge\">\n<title>s0&#45;a0&#45;&gt;s2</title>\n<path fill=\"none\" stroke=\"blue\" stroke-dasharray=\"5,2\" d=\"M221.37,-162.59C260.57,-166.39 334.21,-173.52 383.23,-178.26\"/>\n<polygon fill=\"blue\" stroke=\"blue\" points=\"383,-181.76 393.29,-179.24 383.67,-174.79 383,-181.76\"/>\n<text text-anchor=\"middle\" x=\"307.15\" y=\"-183.2\" font-family=\"Arial\" font-size=\"16.00\">p = 0.5</text>\n</g>\n<!-- s2&#45;a0 -->\n<g id=\"node8\" class=\"node\">\n<title>s2&#45;a0</title>\n<ellipse fill=\"lightpink\" stroke=\"lightpink\" cx=\"666.73\" cy=\"-162\" rx=\"27.65\" ry=\"27.65\"/>\n<text text-anchor=\"middle\" x=\"666.73\" y=\"-157\" font-family=\"Arial\" font-size=\"20.00\">a0</text>\n</g>\n<!-- s2&#45;&gt;s2&#45;a0 -->\n<g id=\"edge13\" class=\"edge\">\n<title>s2&#45;&gt;s2&#45;a0</title>\n<path fill=\"none\" stroke=\"red\" stroke-width=\"2\" d=\"M473.31,-186.98C511.48,-189.83 570.95,-191.53 621.15,-181 624.83,-180.23 628.58,-179.15 632.26,-177.89\"/>\n<polygon fill=\"red\" stroke=\"red\" stroke-width=\"2\" points=\"633.69,-181.09 641.77,-174.24 631.18,-174.56 633.69,-181.09\"/>\n</g>\n<!-- s2&#45;a1 -->\n<g id=\"node9\" class=\"node\">\n<title>s2&#45;a1</title>\n<ellipse fill=\"lightpink\" stroke=\"lightpink\" cx=\"666.73\" cy=\"-80\" rx=\"27.65\" ry=\"27.65\"/>\n<text text-anchor=\"middle\" x=\"666.73\" y=\"-75\" font-family=\"Arial\" font-size=\"20.00\">a1</text>\n</g>\n<!-- s2&#45;&gt;s2&#45;a1 -->\n<g id=\"edge16\" class=\"edge\">\n<title>s2&#45;&gt;s2&#45;a1</title>\n<path fill=\"none\" stroke=\"red\" stroke-width=\"2\" d=\"M467.41,-161.94C475.08,-157.43 483.3,-152.87 491.15,-149 538.2,-125.86 595.06,-104.55 630.82,-91.92\"/>\n<polygon fill=\"red\" stroke=\"red\" stroke-width=\"2\" points=\"632.04,-95.2 640.32,-88.59 629.73,-88.59 632.04,-95.2\"/>\n</g>\n<!-- s0&#45;a1&#45;&gt;s2 -->\n<g id=\"edge5\" class=\"edge\">\n<title>s0&#45;a1&#45;&gt;s2</title>\n<path fill=\"none\" stroke=\"blue\" stroke-dasharray=\"5,2\" d=\"M221.08,-229.08C256.45,-223.65 320.92,-213 375.15,-200 378.37,-199.23 381.67,-198.39 384.98,-197.5\"/>\n<polygon fill=\"blue\" stroke=\"blue\" points=\"386.21,-200.79 394.91,-194.74 384.33,-194.05 386.21,-200.79\"/>\n<text text-anchor=\"middle\" x=\"307.15\" y=\"-230.2\" font-family=\"Arial\" font-size=\"16.00\">p = 1</text>\n</g>\n<!-- s1 -->\n<g id=\"node5\" class=\"node\">\n<title>s1</title>\n<ellipse fill=\"#85ff75\" stroke=\"#85ff75\" cx=\"829.31\" cy=\"-116\" rx=\"36\" ry=\"36\"/>\n<ellipse fill=\"none\" stroke=\"#85ff75\" cx=\"829.31\" cy=\"-116\" rx=\"40\" ry=\"40\"/>\n<text text-anchor=\"middle\" x=\"829.31\" y=\"-109.8\" font-family=\"Arial\" font-size=\"24.00\">s1</text>\n</g>\n<!-- s1&#45;a0 -->\n<g id=\"node6\" class=\"node\">\n<title>s1&#45;a0</title>\n<ellipse fill=\"lightpink\" stroke=\"lightpink\" cx=\"991.89\" cy=\"-92\" rx=\"27.65\" ry=\"27.65\"/>\n<text text-anchor=\"middle\" x=\"991.89\" y=\"-87\" font-family=\"Arial\" font-size=\"20.00\">a0</text>\n</g>\n<!-- s1&#45;&gt;s1&#45;a0 -->\n<g id=\"edge6\" class=\"edge\">\n<title>s1&#45;&gt;s1&#45;a0</title>\n<path fill=\"none\" stroke=\"red\" stroke-width=\"2\" d=\"M869.38,-112.27C891.95,-109.88 920.82,-106.39 946.31,-102 949,-101.54 951.77,-101.02 954.56,-100.47\"/>\n<polygon fill=\"red\" stroke=\"red\" stroke-width=\"2\" points=\"955.51,-103.84 964.57,-98.36 954.07,-96.99 955.51,-103.84\"/>\n</g>\n<!-- s1&#45;a1 -->\n<g id=\"node7\" class=\"node\">\n<title>s1&#45;a1</title>\n<ellipse fill=\"lightpink\" stroke=\"lightpink\" cx=\"991.89\" cy=\"-174\" rx=\"27.65\" ry=\"27.65\"/>\n<text text-anchor=\"middle\" x=\"991.89\" y=\"-169\" font-family=\"Arial\" font-size=\"20.00\">a1</text>\n</g>\n<!-- s1&#45;&gt;s1&#45;a1 -->\n<g id=\"edge10\" class=\"edge\">\n<title>s1&#45;&gt;s1&#45;a1</title>\n<path fill=\"none\" stroke=\"red\" stroke-width=\"2\" d=\"M867.66,-127.73C890.53,-135.12 920.3,-145.1 946.31,-155 949.82,-156.34 953.46,-157.78 957.08,-159.26\"/>\n<polygon fill=\"red\" stroke=\"red\" stroke-width=\"2\" points=\"955.93,-162.57 966.5,-163.2 958.62,-156.11 955.93,-162.57\"/>\n</g>\n<!-- s1&#45;a0&#45;&gt;s0 -->\n<g id=\"edge7\" class=\"edge\">\n<title>s1&#45;a0&#45;&gt;s0</title>\n<path fill=\"none\" stroke=\"blue\" stroke-dasharray=\"5,2\" d=\"M972.12,-72.49C944.03,-45.48 888.14,0 830.31,0 192.58,0 192.58,0 192.58,0 141.5,0 96.98,-42.06 69.63,-75.52\"/>\n<polygon fill=\"blue\" stroke=\"blue\" points=\"66.87,-73.37 63.4,-83.38 72.35,-77.72 66.87,-73.37\"/>\n<text text-anchor=\"middle\" x=\"556.15\" y=\"-5.2\" font-family=\"Arial\" font-size=\"16.00\">p = 0.7 &#160;reward =5</text>\n</g>\n<!-- s1&#45;a0&#45;&gt;s2 -->\n<g id=\"edge9\" class=\"edge\">\n<title>s1&#45;a0&#45;&gt;s2</title>\n<path fill=\"none\" stroke=\"blue\" stroke-dasharray=\"5,2\" d=\"M976.15,-114.86C972.01,-121.81 967.72,-129.58 964.31,-137 953.93,-159.61 966.27,-175.15 946.31,-190 783.96,-310.76 691.37,-229.22 491.15,-200 487.88,-199.52 484.54,-198.9 481.19,-198.17\"/>\n<polygon fill=\"blue\" stroke=\"blue\" points=\"481.76,-194.71 471.21,-195.73 480.1,-201.51 481.76,-194.71\"/>\n<text text-anchor=\"middle\" x=\"741.81\" y=\"-259.2\" font-family=\"Arial\" font-size=\"16.00\">p = 0.2</text>\n</g>\n<!-- s1&#45;a0&#45;&gt;s1 -->\n<g id=\"edge8\" class=\"edge\">\n<title>s1&#45;a0&#45;&gt;s1</title>\n<path fill=\"none\" stroke=\"blue\" stroke-dasharray=\"5,2\" d=\"M965.31,-83.53C944.06,-77.8 913.22,-72.5 887.31,-80 881.62,-81.65 875.95,-84.05 870.52,-86.84\"/>\n<polygon fill=\"blue\" stroke=\"blue\" points=\"868.63,-83.89 861.64,-91.85 872.07,-89.99 868.63,-83.89\"/>\n<text text-anchor=\"middle\" x=\"916.81\" y=\"-85.2\" font-family=\"Arial\" font-size=\"16.00\">p = 0.1</text>\n</g>\n<!-- s1&#45;a1&#45;&gt;s2 -->\n<g id=\"edge12\" class=\"edge\">\n<title>s1&#45;a1&#45;&gt;s2</title>\n<path fill=\"none\" stroke=\"blue\" stroke-dasharray=\"5,2\" d=\"M979.29,-198.86C971.84,-211.79 960.81,-226.45 946.31,-234 766.9,-327.45 679.29,-308.33 491.15,-234 482.81,-230.7 474.9,-225.59 467.78,-219.86\"/>\n<polygon fill=\"blue\" stroke=\"blue\" points=\"469.64,-216.84 459.8,-212.91 465.04,-222.12 469.64,-216.84\"/>\n<text text-anchor=\"middle\" x=\"741.81\" y=\"-302.2\" font-family=\"Arial\" font-size=\"16.00\">p = 0.05</text>\n</g>\n<!-- s1&#45;a1&#45;&gt;s1 -->\n<g id=\"edge11\" class=\"edge\">\n<title>s1&#45;a1&#45;&gt;s1</title>\n<path fill=\"none\" stroke=\"blue\" stroke-dasharray=\"5,2\" d=\"M964.16,-170.97C942.78,-167.92 912.34,-162.18 887.31,-152 881.89,-149.8 876.42,-147.08 871.11,-144.14\"/>\n<polygon fill=\"blue\" stroke=\"blue\" points=\"872.79,-141.06 862.39,-139.02 869.25,-147.1 872.79,-141.06\"/>\n<text text-anchor=\"middle\" x=\"916.81\" y=\"-173.2\" font-family=\"Arial\" font-size=\"16.00\">p = 0.95</text>\n</g>\n<!-- s2&#45;a0&#45;&gt;s0 -->\n<g id=\"edge14\" class=\"edge\">\n<title>s2&#45;a0&#45;&gt;s0</title>\n<path fill=\"none\" stroke=\"blue\" stroke-dasharray=\"5,2\" d=\"M640,-153.63C633.88,-151.88 627.33,-150.2 621.15,-149 446.29,-114.94 399.16,-130.34 221.15,-123 176.89,-121.17 126.51,-119.23 90.3,-117.85\"/>\n<polygon fill=\"blue\" stroke=\"blue\" points=\"90.14,-114.34 80.01,-117.46 89.87,-121.34 90.14,-114.34\"/>\n<text text-anchor=\"middle\" x=\"307.15\" y=\"-131.2\" font-family=\"Arial\" font-size=\"16.00\">p = 0.4</text>\n</g>\n<!-- s2&#45;a0&#45;&gt;s2 -->\n<g id=\"edge15\" class=\"edge\">\n<title>s2&#45;a0&#45;&gt;s2</title>\n<path fill=\"none\" stroke=\"blue\" stroke-dasharray=\"5,2\" d=\"M639.38,-158.06C604.93,-153.7 542.86,-148.56 491.15,-159 487.07,-159.82 482.91,-160.95 478.8,-162.27\"/>\n<polygon fill=\"blue\" stroke=\"blue\" points=\"477.59,-158.99 469.34,-165.64 479.93,-165.58 477.59,-158.99\"/>\n<text text-anchor=\"middle\" x=\"556.15\" y=\"-164.2\" font-family=\"Arial\" font-size=\"16.00\">p = 0.6</text>\n</g>\n<!-- s2&#45;a1&#45;&gt;s0 -->\n<g id=\"edge17\" class=\"edge\">\n<title>s2&#45;a1&#45;&gt;s0</title>\n<path fill=\"none\" stroke=\"blue\" stroke-dasharray=\"5,2\" d=\"M643.56,-64.64C636.68,-60.71 628.88,-57.02 621.15,-55 456.84,-12.07 407.97,-45.54 239.15,-64 175.74,-70.93 158.85,-70.84 98,-90 93.92,-91.29 89.74,-92.79 85.59,-94.42\"/>\n<polygon fill=\"blue\" stroke=\"blue\" points=\"83.93,-91.32 76.04,-98.39 86.62,-97.78 83.93,-91.32\"/>\n<text text-anchor=\"middle\" x=\"307.15\" y=\"-69.2\" font-family=\"Arial\" font-size=\"16.00\">p = 0.3 &#160;reward =&#45;1</text>\n</g>\n<!-- s2&#45;a1&#45;&gt;s2 -->\n<g id=\"edge19\" class=\"edge\">\n<title>s2&#45;a1&#45;&gt;s2</title>\n<path fill=\"none\" stroke=\"blue\" stroke-dasharray=\"5,2\" d=\"M640.47,-71.31C604.47,-60.59 537.63,-46.98 491.15,-75 469.57,-88.02 455.74,-112.24 447.11,-134.45\"/>\n<polygon fill=\"blue\" stroke=\"blue\" points=\"443.72,-133.54 443.62,-144.14 450.3,-135.92 443.72,-133.54\"/>\n<text text-anchor=\"middle\" x=\"556.15\" y=\"-80.2\" font-family=\"Arial\" font-size=\"16.00\">p = 0.4</text>\n</g>\n<!-- s2&#45;a1&#45;&gt;s1 -->\n<g id=\"edge18\" class=\"edge\">\n<title>s2&#45;a1&#45;&gt;s1</title>\n<path fill=\"none\" stroke=\"blue\" stroke-dasharray=\"5,2\" d=\"M693.89,-85.86C717.16,-91.08 751.78,-98.84 780.06,-105.18\"/>\n<polygon fill=\"blue\" stroke=\"blue\" points=\"779.64,-108.68 790.16,-107.45 781.17,-101.85 779.64,-108.68\"/>\n<text text-anchor=\"middle\" x=\"741.81\" y=\"-108.2\" font-family=\"Arial\" font-size=\"16.00\">p = 0.3</text>\n</g>\n</g>\n</svg>\n",
      "text/plain": [
       "<graphviz.graphs.Digraph at 0x1ee8102feb0>"
      ]
     },
     "metadata": {},
     "output_type": "display_data"
    }
   ],
   "source": [
    "if has_graphviz:\n",
    "    from mdp import plot_graph, plot_graph_with_state_values, plot_graph_optimal_strategy_and_state_values\n",
    "    display(plot_graph(mdp))"
   ]
  },
  {
   "cell_type": "markdown",
   "metadata": {},
   "source": [
    "### Value Iteration\n",
    "\n",
    "Now let's build something to solve this MDP. The simplest algorithm so far is Value Iteration (__VI__)\n",
    "\n",
    "Here's the pseudo-code for VI:\n",
    "\n",
    "---\n",
    "\n",
    "`1.` Initialize $V^{(0)}(s)=0$, for all $s$\n",
    "\n",
    "`2.` For $i=0, 1, 2, \\dots$\n",
    " \n",
    "`3.` $ \\quad V_{(i+1)}(s) = \\max_a \\sum_{s'} P(s' | s,a) \\cdot [ r(s,a,s') + \\gamma V_{i}(s')]$, for all $s$\n",
    "\n",
    "---"
   ]
  },
  {
   "cell_type": "code",
   "execution_count": 6,
   "metadata": {
    "scrolled": true
   },
   "outputs": [
    {
     "name": "stdout",
     "output_type": "stream",
     "text": [
      "s0 0.3\n",
      "s1 0.3\n",
      "s2 0.4\n"
     ]
    }
   ],
   "source": [
    "state, action = 's2', 'a1'\n",
    "next_states = mdp.get_next_states(state, action)\n",
    "\n",
    "for next_state, prob in next_states.items():\n",
    "    print(next_state, prob)"
   ]
  },
  {
   "cell_type": "code",
   "execution_count": 7,
   "metadata": {},
   "outputs": [
    {
     "data": {
      "text/plain": [
       "-1"
      ]
     },
     "execution_count": 7,
     "metadata": {},
     "output_type": "execute_result"
    }
   ],
   "source": [
    "mdp.get_reward(state, action, 's0')"
   ]
  },
  {
   "cell_type": "markdown",
   "metadata": {},
   "source": [
    "First, let's write a function to compute the state-action value function $Q^{\\pi}$, defined as follows\n",
    "\n",
    "$$Q_i(s, a) = \\sum_{s'} P(s' | s,a) \\cdot [ r(s,a,s') + \\gamma V_{i}(s')]$$\n"
   ]
  },
  {
   "cell_type": "code",
   "execution_count": 8,
   "metadata": {},
   "outputs": [],
   "source": [
    "def get_action_value(mdp, state_values, state, action, gamma):\n",
    "    \"\"\" Computes Q(s,a) as in formula above \"\"\"\n",
    "    \n",
    "    # my code here\n",
    "    q_action_value = 0\n",
    "    next_states = mdp.get_next_states(state, action)\n",
    "    \n",
    "    for next_state, prob in next_states.items():\n",
    "        reward = mdp.get_reward(state, action, next_state)\n",
    "        q_action_value += prob * (reward + gamma * state_values[next_state])\n",
    "        \n",
    "    return q_action_value"
   ]
  },
  {
   "cell_type": "code",
   "execution_count": 9,
   "metadata": {},
   "outputs": [],
   "source": [
    "import numpy as np\n",
    "test_Vs = {s: i for i, s in enumerate(sorted(mdp.get_all_states()))}\n",
    "assert np.isclose(get_action_value(mdp, test_Vs, 's2', 'a1', 0.9), 0.69)\n",
    "assert np.isclose(get_action_value(mdp, test_Vs, 's1', 'a0', 0.9), 3.95)"
   ]
  },
  {
   "cell_type": "markdown",
   "metadata": {},
   "source": [
    "Using $Q(s,a)$ we can now define the \"next\" V(s) for value iteration.\n",
    " $$V_{(i+1)}(s) = \\max_a \\sum_{s'} P(s' | s,a) \\cdot [ r(s,a,s') + \\gamma V_{i}(s')] = \\max_a Q_i(s,a)$$"
   ]
  },
  {
   "cell_type": "code",
   "execution_count": 10,
   "metadata": {},
   "outputs": [],
   "source": [
    "def get_new_state_value(mdp, state_values, state, gamma):\n",
    "    \"\"\" Computes next V(s) as in formula above. Please do not change state_values in process. \"\"\"\n",
    "    if mdp.is_terminal(state):\n",
    "        return 0\n",
    "    \n",
    "    # my code here\n",
    "    actions = mdp.get_possible_actions(state)\n",
    "    v_state_value = get_action_value(mdp, state_values, state, actions[0], gamma)\n",
    "    \n",
    "    for action in actions[1:]:\n",
    "        q_action_value_a = get_action_value(mdp, state_values, state, action, gamma)\n",
    "        v_state_value = max(v_state_value, q_action_value_a)\n",
    "        \n",
    "    return v_state_value"
   ]
  },
  {
   "cell_type": "code",
   "execution_count": 11,
   "metadata": {},
   "outputs": [],
   "source": [
    "test_Vs_copy = dict(test_Vs)\n",
    "assert np.isclose(get_new_state_value(mdp, test_Vs, 's0', 0.9), 1.8)\n",
    "assert np.isclose(get_new_state_value(mdp, test_Vs, 's2', 0.9), 1.08)\n",
    "assert np.isclose(get_new_state_value(mdp, {'s0': -1e10, 's1': 0, 's2': -2e10}, 's0', 0.9), -13500000000.0), \\\n",
    "    \"Please ensure that you handle negative Q-values of arbitrary magnitude correctly\"\n",
    "assert test_Vs == test_Vs_copy, \"Please do not change state_values in get_new_state_value\""
   ]
  },
  {
   "cell_type": "markdown",
   "metadata": {},
   "source": [
    "Finally, let's combine everything we wrote into a working value iteration algo."
   ]
  },
  {
   "cell_type": "code",
   "execution_count": 12,
   "metadata": {
    "scrolled": true
   },
   "outputs": [
    {
     "data": {
      "text/plain": [
       "{'s0': 0.4, 's2': 0.6}"
      ]
     },
     "execution_count": 12,
     "metadata": {},
     "output_type": "execute_result"
    }
   ],
   "source": [
    "mdp.get_next_states('s2', 'a0')"
   ]
  },
  {
   "cell_type": "code",
   "execution_count": 13,
   "metadata": {
    "scrolled": true
   },
   "outputs": [
    {
     "data": {
      "image/svg+xml": "<?xml version=\"1.0\" encoding=\"UTF-8\" standalone=\"no\"?>\n<!DOCTYPE svg PUBLIC \"-//W3C//DTD SVG 1.1//EN\"\n \"http://www.w3.org/Graphics/SVG/1.1/DTD/svg11.dtd\">\n<!-- Generated by graphviz version 2.50.0 (0)\n -->\n<!-- Title: MDP Pages: 1 -->\n<svg width=\"720pt\" height=\"215pt\"\n viewBox=\"0.00 0.00 720.00 214.87\" xmlns=\"http://www.w3.org/2000/svg\" xmlns:xlink=\"http://www.w3.org/1999/xlink\">\n<g id=\"graph0\" class=\"graph\" transform=\"scale(0.66 0.66) rotate(0) translate(4 323)\">\n<title>MDP</title>\n<polygon fill=\"white\" stroke=\"transparent\" points=\"-4,4 -4,-323 1091.72,-323 1091.72,4 -4,4\"/>\n<!-- s0 -->\n<g id=\"node1\" class=\"node\">\n<title>s0</title>\n<ellipse fill=\"#85ff75\" stroke=\"#85ff75\" cx=\"51.38\" cy=\"-116\" rx=\"47.26\" ry=\"47.26\"/>\n<ellipse fill=\"none\" stroke=\"#85ff75\" cx=\"51.38\" cy=\"-116\" rx=\"51.25\" ry=\"51.25\"/>\n<text text-anchor=\"middle\" x=\"51.38\" y=\"-122.8\" font-family=\"Arial\" font-size=\"24.00\">s0</text>\n<text text-anchor=\"middle\" x=\"51.38\" y=\"-96.8\" font-family=\"Arial\" font-size=\"24.00\">V =0</text>\n</g>\n<!-- s0&#45;a0 -->\n<g id=\"node2\" class=\"node\">\n<title>s0&#45;a0</title>\n<ellipse fill=\"lightpink\" stroke=\"lightpink\" cx=\"216.33\" cy=\"-160\" rx=\"27.65\" ry=\"27.65\"/>\n<text text-anchor=\"middle\" x=\"216.33\" y=\"-155\" font-family=\"Arial\" font-size=\"20.00\">a0</text>\n</g>\n<!-- s0&#45;&gt;s0&#45;a0 -->\n<g id=\"edge1\" class=\"edge\">\n<title>s0&#45;&gt;s0&#45;a0</title>\n<path fill=\"none\" stroke=\"red\" stroke-width=\"2\" d=\"M102.02,-125.7C123.36,-130.29 148.46,-136.24 170.75,-143 174.1,-144.02 177.56,-145.16 181.01,-146.36\"/>\n<polygon fill=\"red\" stroke=\"red\" stroke-width=\"2\" points=\"179.96,-149.71 190.55,-149.85 182.36,-143.13 179.96,-149.71\"/>\n</g>\n<!-- s0&#45;a1 -->\n<g id=\"node4\" class=\"node\">\n<title>s0&#45;a1</title>\n<ellipse fill=\"lightpink\" stroke=\"lightpink\" cx=\"216.33\" cy=\"-233\" rx=\"27.65\" ry=\"27.65\"/>\n<text text-anchor=\"middle\" x=\"216.33\" y=\"-228\" font-family=\"Arial\" font-size=\"20.00\">a1</text>\n</g>\n<!-- s0&#45;&gt;s0&#45;a1 -->\n<g id=\"edge4\" class=\"edge\">\n<title>s0&#45;&gt;s0&#45;a1</title>\n<path fill=\"none\" stroke=\"red\" stroke-width=\"2\" d=\"M90.27,-149.83C99.98,-158.03 110.57,-166.57 120.75,-174 140.77,-188.61 164.42,-203.37 183.07,-214.47\"/>\n<polygon fill=\"red\" stroke=\"red\" stroke-width=\"2\" points=\"181.39,-217.54 191.78,-219.61 184.94,-211.51 181.39,-217.54\"/>\n</g>\n<!-- s0&#45;a0&#45;&gt;s0 -->\n<g id=\"edge2\" class=\"edge\">\n<title>s0&#45;a0&#45;&gt;s0</title>\n<path fill=\"none\" stroke=\"blue\" stroke-dasharray=\"5,2\" d=\"M189.02,-155.38C169.92,-151.8 143.54,-146.38 120.75,-140 117.15,-138.99 113.46,-137.89 109.75,-136.74\"/>\n<polygon fill=\"blue\" stroke=\"blue\" points=\"110.54,-133.31 99.95,-133.58 108.39,-139.98 110.54,-133.31\"/>\n<text text-anchor=\"middle\" x=\"145.75\" y=\"-157.2\" font-family=\"Arial\" font-size=\"16.00\">p = 0.5</text>\n</g>\n<!-- s2 -->\n<g id=\"node3\" class=\"node\">\n<title>s2</title>\n<ellipse fill=\"#85ff75\" stroke=\"#85ff75\" cx=\"467.28\" cy=\"-189\" rx=\"47.26\" ry=\"47.26\"/>\n<ellipse fill=\"none\" stroke=\"#85ff75\" cx=\"467.28\" cy=\"-189\" rx=\"51.25\" ry=\"51.25\"/>\n<text text-anchor=\"middle\" x=\"467.28\" y=\"-195.8\" font-family=\"Arial\" font-size=\"24.00\">s2</text>\n<text text-anchor=\"middle\" x=\"467.28\" y=\"-169.8\" font-family=\"Arial\" font-size=\"24.00\">V =0</text>\n</g>\n<!-- s0&#45;a0&#45;&gt;s2 -->\n<g id=\"edge3\" class=\"edge\">\n<title>s0&#45;a0&#45;&gt;s2</title>\n<path fill=\"none\" stroke=\"blue\" stroke-dasharray=\"5,2\" d=\"M243.97,-163.1C282.31,-167.57 354.09,-175.93 405.73,-181.95\"/>\n<polygon fill=\"blue\" stroke=\"blue\" points=\"405.43,-185.44 415.77,-183.12 406.24,-178.48 405.43,-185.44\"/>\n<text text-anchor=\"middle\" x=\"329.91\" y=\"-186.2\" font-family=\"Arial\" font-size=\"16.00\">p = 0.5</text>\n</g>\n<!-- s2&#45;a0 -->\n<g id=\"node8\" class=\"node\">\n<title>s2&#45;a0</title>\n<ellipse fill=\"lightpink\" stroke=\"lightpink\" cx=\"712.24\" cy=\"-162\" rx=\"27.65\" ry=\"27.65\"/>\n<text text-anchor=\"middle\" x=\"712.24\" y=\"-157\" font-family=\"Arial\" font-size=\"20.00\">a0</text>\n</g>\n<!-- s2&#45;&gt;s2&#45;a0 -->\n<g id=\"edge13\" class=\"edge\">\n<title>s2&#45;&gt;s2&#45;a0</title>\n<path fill=\"none\" stroke=\"red\" stroke-width=\"2\" d=\"M518.67,-191.94C559.16,-193.12 617.23,-192.14 666.66,-181 670.32,-180.17 674.06,-179.06 677.74,-177.78\"/>\n<polygon fill=\"red\" stroke=\"red\" stroke-width=\"2\" points=\"679.18,-180.98 687.24,-174.1 676.65,-174.45 679.18,-180.98\"/>\n</g>\n<!-- s2&#45;a1 -->\n<g id=\"node9\" class=\"node\">\n<title>s2&#45;a1</title>\n<ellipse fill=\"lightpink\" stroke=\"lightpink\" cx=\"712.24\" cy=\"-77\" rx=\"27.65\" ry=\"27.65\"/>\n<text text-anchor=\"middle\" x=\"712.24\" y=\"-72\" font-family=\"Arial\" font-size=\"20.00\">a1</text>\n</g>\n<!-- s2&#45;&gt;s2&#45;a1 -->\n<g id=\"edge16\" class=\"edge\">\n<title>s2&#45;&gt;s2&#45;a1</title>\n<path fill=\"none\" stroke=\"red\" stroke-width=\"2\" d=\"M511.56,-162.48C519.79,-157.78 528.4,-153.09 536.66,-149 584.05,-125.51 641.04,-103.03 676.71,-89.62\"/>\n<polygon fill=\"red\" stroke=\"red\" stroke-width=\"2\" points=\"678.04,-92.86 686.18,-86.08 675.59,-86.3 678.04,-92.86\"/>\n</g>\n<!-- s0&#45;a1&#45;&gt;s2 -->\n<g id=\"edge5\" class=\"edge\">\n<title>s0&#45;a1&#45;&gt;s2</title>\n<path fill=\"none\" stroke=\"blue\" stroke-dasharray=\"5,2\" d=\"M243.7,-228.93C278.92,-223.43 343.22,-213.14 397.91,-203 400.75,-202.47 403.67,-201.92 406.61,-201.35\"/>\n<polygon fill=\"blue\" stroke=\"blue\" points=\"407.51,-204.74 416.66,-199.39 406.17,-197.87 407.51,-204.74\"/>\n<text text-anchor=\"middle\" x=\"329.91\" y=\"-230.2\" font-family=\"Arial\" font-size=\"16.00\">p = 1</text>\n</g>\n<!-- s1 -->\n<g id=\"node5\" class=\"node\">\n<title>s1</title>\n<ellipse fill=\"#85ff75\" stroke=\"#85ff75\" cx=\"886.19\" cy=\"-86\" rx=\"47.26\" ry=\"47.26\"/>\n<ellipse fill=\"none\" stroke=\"#85ff75\" cx=\"886.19\" cy=\"-86\" rx=\"51.25\" ry=\"51.25\"/>\n<text text-anchor=\"middle\" x=\"886.19\" y=\"-92.8\" font-family=\"Arial\" font-size=\"24.00\">s1</text>\n<text text-anchor=\"middle\" x=\"886.19\" y=\"-66.8\" font-family=\"Arial\" font-size=\"24.00\">V =0</text>\n</g>\n<!-- s1&#45;a0 -->\n<g id=\"node6\" class=\"node\">\n<title>s1&#45;a0</title>\n<ellipse fill=\"lightpink\" stroke=\"lightpink\" cx=\"1060.14\" cy=\"-62\" rx=\"27.65\" ry=\"27.65\"/>\n<text text-anchor=\"middle\" x=\"1060.14\" y=\"-57\" font-family=\"Arial\" font-size=\"20.00\">a0</text>\n</g>\n<!-- s1&#45;&gt;s1&#45;a0 -->\n<g id=\"edge6\" class=\"edge\">\n<title>s1&#45;&gt;s1&#45;a0</title>\n<path fill=\"none\" stroke=\"red\" stroke-width=\"2\" d=\"M937.58,-81.76C961.06,-79.46 989.33,-76.2 1014.57,-72 1017.26,-71.55 1020.04,-71.04 1022.82,-70.5\"/>\n<polygon fill=\"red\" stroke=\"red\" stroke-width=\"2\" points=\"1023.76,-73.88 1032.84,-68.41 1022.33,-67.02 1023.76,-73.88\"/>\n</g>\n<!-- s1&#45;a1 -->\n<g id=\"node7\" class=\"node\">\n<title>s1&#45;a1</title>\n<ellipse fill=\"lightpink\" stroke=\"lightpink\" cx=\"1060.14\" cy=\"-144\" rx=\"27.65\" ry=\"27.65\"/>\n<text text-anchor=\"middle\" x=\"1060.14\" y=\"-139\" font-family=\"Arial\" font-size=\"20.00\">a1</text>\n</g>\n<!-- s1&#45;&gt;s1&#45;a1 -->\n<g id=\"edge10\" class=\"edge\">\n<title>s1&#45;&gt;s1&#45;a1</title>\n<path fill=\"none\" stroke=\"red\" stroke-width=\"2\" d=\"M935.98,-99.62C959.86,-106.62 988.93,-115.64 1014.57,-125 1018.09,-126.29 1021.74,-127.7 1025.37,-129.16\"/>\n<polygon fill=\"red\" stroke=\"red\" stroke-width=\"2\" points=\"1024.23,-132.48 1034.8,-133.08 1026.91,-126.01 1024.23,-132.48\"/>\n</g>\n<!-- s1&#45;a0&#45;&gt;s0 -->\n<g id=\"edge7\" class=\"edge\">\n<title>s1&#45;a0&#45;&gt;s0</title>\n<path fill=\"none\" stroke=\"blue\" stroke-dasharray=\"5,2\" d=\"M1036.17,-47.93C1004.06,-29.64 943.36,0 887.19,0 215.33,0 215.33,0 215.33,0 165.66,0 120.62,-36.21 90.55,-68.17\"/>\n<polygon fill=\"blue\" stroke=\"blue\" points=\"87.78,-66.01 83.61,-75.75 92.94,-70.74 87.78,-66.01\"/>\n<text text-anchor=\"middle\" x=\"601.66\" y=\"-5.2\" font-family=\"Arial\" font-size=\"16.00\">p = 0.7 &#160;reward =5</text>\n</g>\n<!-- s1&#45;a0&#45;&gt;s2 -->\n<g id=\"edge9\" class=\"edge\">\n<title>s1&#45;a0&#45;&gt;s2</title>\n<path fill=\"none\" stroke=\"blue\" stroke-dasharray=\"5,2\" d=\"M1044.41,-84.86C1040.27,-91.81 1035.97,-99.58 1032.57,-107 1022.19,-129.61 1033.72,-144.12 1014.57,-160 873.83,-276.68 635.88,-234.29 526.48,-206.07\"/>\n<polygon fill=\"blue\" stroke=\"blue\" points=\"527.18,-202.64 516.62,-203.48 525.4,-209.41 527.18,-202.64\"/>\n<text text-anchor=\"middle\" x=\"787.31\" y=\"-242.2\" font-family=\"Arial\" font-size=\"16.00\">p = 0.2</text>\n</g>\n<!-- s1&#45;a0&#45;&gt;s1 -->\n<g id=\"edge8\" class=\"edge\">\n<title>s1&#45;a0&#45;&gt;s1</title>\n<path fill=\"none\" stroke=\"blue\" stroke-dasharray=\"5,2\" d=\"M1033.71,-54.07C1012.54,-48.65 981.75,-43.53 955.57,-50 950.27,-51.31 944.94,-53.11 939.71,-55.21\"/>\n<polygon fill=\"blue\" stroke=\"blue\" points=\"938.19,-52.05 930.44,-59.28 941.01,-58.46 938.19,-52.05\"/>\n<text text-anchor=\"middle\" x=\"985.07\" y=\"-55.2\" font-family=\"Arial\" font-size=\"16.00\">p = 0.1</text>\n</g>\n<!-- s1&#45;a1&#45;&gt;s2 -->\n<g id=\"edge12\" class=\"edge\">\n<title>s1&#45;a1&#45;&gt;s2</title>\n<path fill=\"none\" stroke=\"blue\" stroke-dasharray=\"5,2\" d=\"M1053.65,-171.13C1047.82,-192.2 1036.32,-220.12 1014.57,-234 835.53,-348.28 739.43,-297.24 536.66,-234 530.01,-231.92 523.39,-228.99 517.05,-225.61\"/>\n<polygon fill=\"blue\" stroke=\"blue\" points=\"518.38,-222.34 507.97,-220.37 514.88,-228.4 518.38,-222.34\"/>\n<text text-anchor=\"middle\" x=\"787.31\" y=\"-306.2\" font-family=\"Arial\" font-size=\"16.00\">p = 0.05</text>\n</g>\n<!-- s1&#45;a1&#45;&gt;s1 -->\n<g id=\"edge11\" class=\"edge\">\n<title>s1&#45;a1&#45;&gt;s1</title>\n<path fill=\"none\" stroke=\"blue\" stroke-dasharray=\"5,2\" d=\"M1032.62,-140.43C1011.36,-137.08 980.98,-131.19 955.57,-122 950.52,-120.18 945.38,-118.04 940.3,-115.74\"/>\n<polygon fill=\"blue\" stroke=\"blue\" points=\"941.79,-112.57 931.26,-111.45 938.79,-118.9 941.79,-112.57\"/>\n<text text-anchor=\"middle\" x=\"985.07\" y=\"-143.2\" font-family=\"Arial\" font-size=\"16.00\">p = 0.95</text>\n</g>\n<!-- s2&#45;a0&#45;&gt;s0 -->\n<g id=\"edge14\" class=\"edge\">\n<title>s2&#45;a0&#45;&gt;s0</title>\n<path fill=\"none\" stroke=\"blue\" stroke-dasharray=\"5,2\" d=\"M685.47,-153.78C679.35,-152.02 672.81,-150.3 666.66,-149 601.73,-135.23 584.82,-134.38 518.66,-129 373.47,-117.2 202.1,-115.56 113.03,-115.63\"/>\n<polygon fill=\"blue\" stroke=\"blue\" points=\"112.84,-112.13 102.84,-115.65 112.85,-119.13 112.84,-112.13\"/>\n<text text-anchor=\"middle\" x=\"329.91\" y=\"-127.2\" font-family=\"Arial\" font-size=\"16.00\">p = 0.4</text>\n</g>\n<!-- s2&#45;a0&#45;&gt;s2 -->\n<g id=\"edge15\" class=\"edge\">\n<title>s2&#45;a0&#45;&gt;s2</title>\n<path fill=\"none\" stroke=\"blue\" stroke-dasharray=\"5,2\" d=\"M684.86,-157.94C650.38,-153.45 588.28,-148.17 536.66,-159 532.18,-159.94 527.65,-161.19 523.14,-162.64\"/>\n<polygon fill=\"blue\" stroke=\"blue\" points=\"521.63,-159.47 513.39,-166.12 523.99,-166.06 521.63,-159.47\"/>\n<text text-anchor=\"middle\" x=\"601.66\" y=\"-164.2\" font-family=\"Arial\" font-size=\"16.00\">p = 0.6</text>\n</g>\n<!-- s2&#45;a1&#45;&gt;s0 -->\n<g id=\"edge17\" class=\"edge\">\n<title>s2&#45;a1&#45;&gt;s0</title>\n<path fill=\"none\" stroke=\"blue\" stroke-dasharray=\"5,2\" d=\"M688.53,-62C681.77,-58.32 674.16,-54.89 666.66,-53 610.63,-38.88 594.43,-51.84 536.66,-53 351.12,-56.71 299.47,-40.01 120.75,-90 116.94,-91.07 113.04,-92.26 109.14,-93.53\"/>\n<polygon fill=\"blue\" stroke=\"blue\" points=\"107.79,-90.29 99.45,-96.83 110.05,-96.92 107.79,-90.29\"/>\n<text text-anchor=\"middle\" x=\"329.91\" y=\"-65.2\" font-family=\"Arial\" font-size=\"16.00\">p = 0.3 &#160;reward =&#45;1</text>\n</g>\n<!-- s2&#45;a1&#45;&gt;s2 -->\n<g id=\"edge19\" class=\"edge\">\n<title>s2&#45;a1&#45;&gt;s2</title>\n<path fill=\"none\" stroke=\"blue\" stroke-dasharray=\"5,2\" d=\"M685.84,-68.74C649.98,-58.69 583.65,-46.15 536.66,-73 514.45,-85.69 498.73,-108.73 488.02,-130.94\"/>\n<polygon fill=\"blue\" stroke=\"blue\" points=\"484.83,-129.5 483.87,-140.05 491.2,-132.4 484.83,-129.5\"/>\n<text text-anchor=\"middle\" x=\"601.66\" y=\"-78.2\" font-family=\"Arial\" font-size=\"16.00\">p = 0.4</text>\n</g>\n<!-- s2&#45;a1&#45;&gt;s1 -->\n<g id=\"edge18\" class=\"edge\">\n<title>s2&#45;a1&#45;&gt;s1</title>\n<path fill=\"none\" stroke=\"blue\" stroke-dasharray=\"5,2\" d=\"M740.1,-78.41C762.66,-79.59 795.75,-81.32 824.63,-82.83\"/>\n<polygon fill=\"blue\" stroke=\"blue\" points=\"824.47,-86.33 834.64,-83.35 824.84,-79.34 824.47,-86.33\"/>\n<text text-anchor=\"middle\" x=\"787.31\" y=\"-88.2\" font-family=\"Arial\" font-size=\"16.00\">p = 0.3</text>\n</g>\n</g>\n</svg>\n",
      "text/plain": [
       "<graphviz.graphs.Digraph at 0x1ee82dbaef0>"
      ]
     },
     "metadata": {},
     "output_type": "display_data"
    },
    {
     "name": "stdout",
     "output_type": "stream",
     "text": [
      "iter    0   |   diff: 3.50000   |   V(s0) = 0.000   V(s1) = 0.000   V(s2) = 0.000\n",
      "iter    1   |   diff: 0.64500   |   V(s0) = 0.000   V(s1) = 3.500   V(s2) = 0.000\n",
      "iter    2   |   diff: 0.58050   |   V(s0) = 0.000   V(s1) = 3.815   V(s2) = 0.645\n",
      "iter    3   |   diff: 0.43582   |   V(s0) = 0.581   V(s1) = 3.959   V(s2) = 0.962\n",
      "iter    4   |   diff: 0.30634   |   V(s0) = 0.866   V(s1) = 4.395   V(s2) = 1.272\n",
      "iter    5   |   diff: 0.27571   |   V(s0) = 1.145   V(s1) = 4.670   V(s2) = 1.579\n",
      "iter    6   |   diff: 0.24347   |   V(s0) = 1.421   V(s1) = 4.926   V(s2) = 1.838\n",
      "iter    7   |   diff: 0.21419   |   V(s0) = 1.655   V(s1) = 5.169   V(s2) = 2.075\n",
      "iter    8   |   diff: 0.19277   |   V(s0) = 1.868   V(s1) = 5.381   V(s2) = 2.290\n",
      "iter    9   |   diff: 0.17327   |   V(s0) = 2.061   V(s1) = 5.573   V(s2) = 2.481\n",
      "iter   10   |   diff: 0.15569   |   V(s0) = 2.233   V(s1) = 5.746   V(s2) = 2.654\n",
      "iter   11   |   diff: 0.14012   |   V(s0) = 2.389   V(s1) = 5.902   V(s2) = 2.810\n",
      "iter   12   |   diff: 0.12610   |   V(s0) = 2.529   V(s1) = 6.042   V(s2) = 2.950\n",
      "iter   13   |   diff: 0.11348   |   V(s0) = 2.655   V(s1) = 6.168   V(s2) = 3.076\n",
      "iter   14   |   diff: 0.10213   |   V(s0) = 2.769   V(s1) = 6.282   V(s2) = 3.190\n",
      "iter   15   |   diff: 0.09192   |   V(s0) = 2.871   V(s1) = 6.384   V(s2) = 3.292\n",
      "iter   16   |   diff: 0.08272   |   V(s0) = 2.963   V(s1) = 6.476   V(s2) = 3.384\n",
      "iter   17   |   diff: 0.07445   |   V(s0) = 3.045   V(s1) = 6.558   V(s2) = 3.467\n",
      "iter   18   |   diff: 0.06701   |   V(s0) = 3.120   V(s1) = 6.633   V(s2) = 3.541\n",
      "iter   19   |   diff: 0.06031   |   V(s0) = 3.187   V(s1) = 6.700   V(s2) = 3.608\n",
      "iter   20   |   diff: 0.05428   |   V(s0) = 3.247   V(s1) = 6.760   V(s2) = 3.668\n",
      "iter   21   |   diff: 0.04885   |   V(s0) = 3.301   V(s1) = 6.814   V(s2) = 3.723\n",
      "iter   22   |   diff: 0.04396   |   V(s0) = 3.350   V(s1) = 6.863   V(s2) = 3.771\n",
      "iter   23   |   diff: 0.03957   |   V(s0) = 3.394   V(s1) = 6.907   V(s2) = 3.815\n",
      "iter   24   |   diff: 0.03561   |   V(s0) = 3.434   V(s1) = 6.947   V(s2) = 3.855\n",
      "iter   25   |   diff: 0.03205   |   V(s0) = 3.469   V(s1) = 6.982   V(s2) = 3.891\n",
      "iter   26   |   diff: 0.02884   |   V(s0) = 3.502   V(s1) = 7.014   V(s2) = 3.923\n",
      "iter   27   |   diff: 0.02596   |   V(s0) = 3.530   V(s1) = 7.043   V(s2) = 3.951\n",
      "iter   28   |   diff: 0.02336   |   V(s0) = 3.556   V(s1) = 7.069   V(s2) = 3.977\n",
      "iter   29   |   diff: 0.02103   |   V(s0) = 3.580   V(s1) = 7.093   V(s2) = 4.001\n",
      "iter   30   |   diff: 0.01892   |   V(s0) = 3.601   V(s1) = 7.114   V(s2) = 4.022\n",
      "iter   31   |   diff: 0.01703   |   V(s0) = 3.620   V(s1) = 7.133   V(s2) = 4.041\n",
      "iter   32   |   diff: 0.01533   |   V(s0) = 3.637   V(s1) = 7.150   V(s2) = 4.058\n",
      "iter   33   |   diff: 0.01380   |   V(s0) = 3.652   V(s1) = 7.165   V(s2) = 4.073\n",
      "iter   34   |   diff: 0.01242   |   V(s0) = 3.666   V(s1) = 7.179   V(s2) = 4.087\n",
      "iter   35   |   diff: 0.01117   |   V(s0) = 3.678   V(s1) = 7.191   V(s2) = 4.099\n",
      "iter   36   |   diff: 0.01006   |   V(s0) = 3.689   V(s1) = 7.202   V(s2) = 4.110\n",
      "iter   37   |   diff: 0.00905   |   V(s0) = 3.699   V(s1) = 7.212   V(s2) = 4.121\n",
      "iter   38   |   diff: 0.00815   |   V(s0) = 3.708   V(s1) = 7.221   V(s2) = 4.130\n",
      "iter   39   |   diff: 0.00733   |   V(s0) = 3.717   V(s1) = 7.230   V(s2) = 4.138\n",
      "iter   40   |   diff: 0.00660   |   V(s0) = 3.724   V(s1) = 7.237   V(s2) = 4.145\n",
      "iter   41   |   diff: 0.00594   |   V(s0) = 3.731   V(s1) = 7.244   V(s2) = 4.152\n",
      "iter   42   |   diff: 0.00534   |   V(s0) = 3.736   V(s1) = 7.249   V(s2) = 4.158\n",
      "iter   43   |   diff: 0.00481   |   V(s0) = 3.742   V(s1) = 7.255   V(s2) = 4.163\n",
      "iter   44   |   diff: 0.00433   |   V(s0) = 3.747   V(s1) = 7.260   V(s2) = 4.168\n",
      "iter   45   |   diff: 0.00390   |   V(s0) = 3.751   V(s1) = 7.264   V(s2) = 4.172\n",
      "iter   46   |   diff: 0.00351   |   V(s0) = 3.755   V(s1) = 7.268   V(s2) = 4.176\n",
      "iter   47   |   diff: 0.00316   |   V(s0) = 3.758   V(s1) = 7.271   V(s2) = 4.179\n",
      "iter   48   |   diff: 0.00284   |   V(s0) = 3.762   V(s1) = 7.275   V(s2) = 4.183\n",
      "iter   49   |   diff: 0.00256   |   V(s0) = 3.764   V(s1) = 7.277   V(s2) = 4.185\n",
      "iter   50   |   diff: 0.00230   |   V(s0) = 3.767   V(s1) = 7.280   V(s2) = 4.188\n",
      "iter   51   |   diff: 0.00207   |   V(s0) = 3.769   V(s1) = 7.282   V(s2) = 4.190\n",
      "iter   52   |   diff: 0.00186   |   V(s0) = 3.771   V(s1) = 7.284   V(s2) = 4.192\n",
      "iter   53   |   diff: 0.00168   |   V(s0) = 3.773   V(s1) = 7.286   V(s2) = 4.194\n",
      "iter   54   |   diff: 0.00151   |   V(s0) = 3.775   V(s1) = 7.288   V(s2) = 4.196\n",
      "iter   55   |   diff: 0.00136   |   V(s0) = 3.776   V(s1) = 7.289   V(s2) = 4.197\n",
      "iter   56   |   diff: 0.00122   |   V(s0) = 3.778   V(s1) = 7.291   V(s2) = 4.199\n",
      "iter   57   |   diff: 0.00110   |   V(s0) = 3.779   V(s1) = 7.292   V(s2) = 4.200\n",
      "iter   58   |   diff: 0.00099   |   V(s0) = 3.780   V(s1) = 7.293   V(s2) = 4.201\n",
      "Terminated\n"
     ]
    }
   ],
   "source": [
    "# parameters\n",
    "gamma = 0.9            # discount for MDP\n",
    "num_iter = 100         # maximum iterations, excluding initialization\n",
    "# stop VI if new values are this close to old values (or closer)\n",
    "min_difference = 0.001\n",
    "\n",
    "# initialize V(s)\n",
    "state_values = {s: 0 for s in mdp.get_all_states()}\n",
    "\n",
    "if has_graphviz:\n",
    "    display(plot_graph_with_state_values(mdp, state_values))\n",
    "\n",
    "for i in range(num_iter):\n",
    "\n",
    "    # Compute new state values using the functions you defined above.\n",
    "    # It must be a dict {state : float V_new(state)}\n",
    "    new_state_values = {s: get_new_state_value(mdp, state_values, s, gamma) for s in mdp.get_all_states()}\n",
    "\n",
    "    assert isinstance(new_state_values, dict)\n",
    "\n",
    "    # Compute difference\n",
    "    diff = max(abs(new_state_values[s] - state_values[s])\n",
    "               for s in mdp.get_all_states())\n",
    "    print(\"iter %4i   |   diff: %6.5f   |   \" % (i, diff), end=\"\")\n",
    "    print('   '.join(\"V(%s) = %.3f\" % (s, v) for s, v in state_values.items()))\n",
    "    state_values = new_state_values\n",
    "\n",
    "    if diff < min_difference:\n",
    "        print(\"Terminated\")\n",
    "        break"
   ]
  },
  {
   "cell_type": "code",
   "execution_count": 14,
   "metadata": {
    "scrolled": true
   },
   "outputs": [
    {
     "data": {
      "image/svg+xml": "<?xml version=\"1.0\" encoding=\"UTF-8\" standalone=\"no\"?>\n<!DOCTYPE svg PUBLIC \"-//W3C//DTD SVG 1.1//EN\"\n \"http://www.w3.org/Graphics/SVG/1.1/DTD/svg11.dtd\">\n<!-- Generated by graphviz version 2.50.0 (0)\n -->\n<!-- Title: MDP Pages: 1 -->\n<svg width=\"720pt\" height=\"180pt\"\n viewBox=\"0.00 0.00 720.00 180.00\" xmlns=\"http://www.w3.org/2000/svg\" xmlns:xlink=\"http://www.w3.org/1999/xlink\">\n<g id=\"graph0\" class=\"graph\" transform=\"scale(0.58 0.58) rotate(0) translate(4 306)\">\n<title>MDP</title>\n<polygon fill=\"white\" stroke=\"transparent\" points=\"-4,4 -4,-306 1235.97,-306 1235.97,4 -4,4\"/>\n<!-- s0 -->\n<g id=\"node1\" class=\"node\">\n<title>s0</title>\n<ellipse fill=\"#85ff75\" stroke=\"#85ff75\" cx=\"75.42\" cy=\"-110\" rx=\"71.34\" ry=\"71.34\"/>\n<ellipse fill=\"none\" stroke=\"#85ff75\" cx=\"75.42\" cy=\"-110\" rx=\"75.34\" ry=\"75.34\"/>\n<text text-anchor=\"middle\" x=\"75.42\" y=\"-116.8\" font-family=\"Arial\" font-size=\"24.00\">s0</text>\n<text text-anchor=\"middle\" x=\"75.42\" y=\"-90.8\" font-family=\"Arial\" font-size=\"24.00\">V =3.78</text>\n</g>\n<!-- s0&#45;a0 -->\n<g id=\"node2\" class=\"node\">\n<title>s0&#45;a0</title>\n<ellipse fill=\"lightpink\" stroke=\"lightpink\" cx=\"264.41\" cy=\"-154\" rx=\"27.65\" ry=\"27.65\"/>\n<text text-anchor=\"middle\" x=\"264.41\" y=\"-149\" font-family=\"Arial\" font-size=\"20.00\">a0</text>\n</g>\n<!-- s0&#45;&gt;s0&#45;a0 -->\n<g id=\"edge1\" class=\"edge\">\n<title>s0&#45;&gt;s0&#45;a0</title>\n<path fill=\"none\" stroke=\"red\" stroke-width=\"2\" d=\"M150.18,-121.42C172.44,-125.55 196.8,-130.76 218.84,-137 222.21,-137.95 225.68,-139.06 229.13,-140.23\"/>\n<polygon fill=\"red\" stroke=\"red\" stroke-width=\"2\" points=\"228.09,-143.58 238.68,-143.68 230.46,-136.99 228.09,-143.58\"/>\n</g>\n<!-- s0&#45;a1 -->\n<g id=\"node4\" class=\"node\">\n<title>s0&#45;a1</title>\n<ellipse fill=\"lightpink\" stroke=\"lightpink\" cx=\"264.41\" cy=\"-227\" rx=\"27.65\" ry=\"27.65\"/>\n<text text-anchor=\"middle\" x=\"264.41\" y=\"-222\" font-family=\"Arial\" font-size=\"20.00\">a1</text>\n</g>\n<!-- s0&#45;&gt;s0&#45;a1 -->\n<g id=\"edge4\" class=\"edge\">\n<title>s0&#45;&gt;s0&#45;a1</title>\n<path fill=\"none\" stroke=\"red\" stroke-width=\"2\" d=\"M139.73,-149.61C170.68,-168.98 206.57,-191.44 231.7,-207.16\"/>\n<polygon fill=\"red\" stroke=\"red\" stroke-width=\"2\" points=\"230.1,-210.29 240.44,-212.62 233.82,-204.35 230.1,-210.29\"/>\n</g>\n<!-- s0&#45;a0&#45;&gt;s0 -->\n<g id=\"edge2\" class=\"edge\">\n<title>s0&#45;a0&#45;&gt;s0</title>\n<path fill=\"none\" stroke=\"blue\" stroke-dasharray=\"5,2\" d=\"M237.25,-148.8C218.22,-144.94 191.87,-139.42 168.84,-134 165.42,-133.2 161.95,-132.36 158.44,-131.51\"/>\n<polygon fill=\"blue\" stroke=\"blue\" points=\"159.03,-128.05 148.48,-129.05 157.36,-134.85 159.03,-128.05\"/>\n<text text-anchor=\"middle\" x=\"193.84\" y=\"-150.2\" font-family=\"Arial\" font-size=\"16.00\">p = 0.5</text>\n</g>\n<!-- s2 -->\n<g id=\"node3\" class=\"node\">\n<title>s2</title>\n<ellipse fill=\"#85ff75\" stroke=\"#85ff75\" cx=\"539.41\" cy=\"-201\" rx=\"71.34\" ry=\"71.34\"/>\n<ellipse fill=\"none\" stroke=\"#85ff75\" cx=\"539.41\" cy=\"-201\" rx=\"75.34\" ry=\"75.34\"/>\n<text text-anchor=\"middle\" x=\"539.41\" y=\"-207.8\" font-family=\"Arial\" font-size=\"24.00\">s2</text>\n<text text-anchor=\"middle\" x=\"539.41\" y=\"-181.8\" font-family=\"Arial\" font-size=\"24.00\">V =4.20</text>\n</g>\n<!-- s0&#45;a0&#45;&gt;s2 -->\n<g id=\"edge3\" class=\"edge\">\n<title>s0&#45;a0&#45;&gt;s2</title>\n<path fill=\"none\" stroke=\"blue\" stroke-dasharray=\"5,2\" d=\"M292.09,-158.59C329.49,-165.03 399.18,-177.03 454.91,-186.63\"/>\n<polygon fill=\"blue\" stroke=\"blue\" points=\"454.34,-190.08 464.79,-188.33 455.53,-183.18 454.34,-190.08\"/>\n<text text-anchor=\"middle\" x=\"377.99\" y=\"-190.2\" font-family=\"Arial\" font-size=\"16.00\">p = 0.5</text>\n</g>\n<!-- s2&#45;a0 -->\n<g id=\"node8\" class=\"node\">\n<title>s2&#45;a0</title>\n<ellipse fill=\"lightpink\" stroke=\"lightpink\" cx=\"808.4\" cy=\"-162\" rx=\"27.65\" ry=\"27.65\"/>\n<text text-anchor=\"middle\" x=\"808.4\" y=\"-157\" font-family=\"Arial\" font-size=\"20.00\">a0</text>\n</g>\n<!-- s2&#45;&gt;s2&#45;a0 -->\n<g id=\"edge13\" class=\"edge\">\n<title>s2&#45;&gt;s2&#45;a0</title>\n<path fill=\"none\" stroke=\"red\" stroke-width=\"2\" d=\"M615.01,-200.1C658.66,-198.14 714.51,-193.15 762.83,-181 766.47,-180.08 770.19,-178.91 773.86,-177.6\"/>\n<polygon fill=\"red\" stroke=\"red\" stroke-width=\"2\" points=\"775.33,-180.78 783.36,-173.87 772.77,-174.27 775.33,-180.78\"/>\n</g>\n<!-- s2&#45;a1 -->\n<g id=\"node9\" class=\"node\">\n<title>s2&#45;a1</title>\n<ellipse fill=\"lightpink\" stroke=\"lightpink\" cx=\"808.4\" cy=\"-80\" rx=\"27.65\" ry=\"27.65\"/>\n<text text-anchor=\"middle\" x=\"808.4\" y=\"-75\" font-family=\"Arial\" font-size=\"20.00\">a1</text>\n</g>\n<!-- s2&#45;&gt;s2&#45;a1 -->\n<g id=\"edge16\" class=\"edge\">\n<title>s2&#45;&gt;s2&#45;a1</title>\n<path fill=\"none\" stroke=\"red\" stroke-width=\"2\" d=\"M604.95,-163.22C614.2,-158.24 623.68,-153.35 632.83,-149 680.16,-126.46 736.95,-105 772.61,-92.16\"/>\n<polygon fill=\"red\" stroke=\"red\" stroke-width=\"2\" points=\"773.84,-95.44 782.08,-88.78 771.49,-88.85 773.84,-95.44\"/>\n</g>\n<!-- s0&#45;a1&#45;&gt;s2 -->\n<g id=\"edge5\" class=\"edge\">\n<title>s0&#45;a1&#45;&gt;s2</title>\n<path fill=\"none\" stroke=\"blue\" stroke-dasharray=\"5,2\" d=\"M292.09,-224.46C329.28,-220.92 398.42,-214.33 454,-209.04\"/>\n<polygon fill=\"blue\" stroke=\"blue\" points=\"454.59,-212.5 464.21,-208.07 453.92,-205.53 454.59,-212.5\"/>\n<text text-anchor=\"middle\" x=\"377.99\" y=\"-227.2\" font-family=\"Arial\" font-size=\"16.00\">p = 1</text>\n</g>\n<!-- s1 -->\n<g id=\"node5\" class=\"node\">\n<title>s1</title>\n<ellipse fill=\"#85ff75\" stroke=\"#85ff75\" cx=\"1006.4\" cy=\"-110\" rx=\"71.34\" ry=\"71.34\"/>\n<ellipse fill=\"none\" stroke=\"#85ff75\" cx=\"1006.4\" cy=\"-110\" rx=\"75.34\" ry=\"75.34\"/>\n<text text-anchor=\"middle\" x=\"1006.4\" y=\"-116.8\" font-family=\"Arial\" font-size=\"24.00\">s1</text>\n<text text-anchor=\"middle\" x=\"1006.4\" y=\"-90.8\" font-family=\"Arial\" font-size=\"24.00\">V =7.29</text>\n</g>\n<!-- s1&#45;a0 -->\n<g id=\"node6\" class=\"node\">\n<title>s1&#45;a0</title>\n<ellipse fill=\"lightpink\" stroke=\"lightpink\" cx=\"1204.39\" cy=\"-86\" rx=\"27.65\" ry=\"27.65\"/>\n<text text-anchor=\"middle\" x=\"1204.39\" y=\"-81\" font-family=\"Arial\" font-size=\"20.00\">a0</text>\n</g>\n<!-- s1&#45;&gt;s1&#45;a0 -->\n<g id=\"edge6\" class=\"edge\">\n<title>s1&#45;&gt;s1&#45;a0</title>\n<path fill=\"none\" stroke=\"red\" stroke-width=\"2\" d=\"M1081.95,-105.02C1106.52,-102.87 1133.91,-99.93 1158.82,-96 1161.51,-95.57 1164.29,-95.08 1167.08,-94.55\"/>\n<polygon fill=\"red\" stroke=\"red\" stroke-width=\"2\" points=\"1168.01,-97.93 1177.1,-92.49 1166.6,-91.08 1168.01,-97.93\"/>\n</g>\n<!-- s1&#45;a1 -->\n<g id=\"node7\" class=\"node\">\n<title>s1&#45;a1</title>\n<ellipse fill=\"lightpink\" stroke=\"lightpink\" cx=\"1204.39\" cy=\"-168\" rx=\"27.65\" ry=\"27.65\"/>\n<text text-anchor=\"middle\" x=\"1204.39\" y=\"-163\" font-family=\"Arial\" font-size=\"20.00\">a1</text>\n</g>\n<!-- s1&#45;&gt;s1&#45;a1 -->\n<g id=\"edge10\" class=\"edge\">\n<title>s1&#45;&gt;s1&#45;a1</title>\n<path fill=\"none\" stroke=\"red\" stroke-width=\"2\" d=\"M1080.07,-126.35C1105.25,-132.64 1133.5,-140.4 1158.82,-149 1162.37,-150.21 1166.04,-151.57 1169.68,-153\"/>\n<polygon fill=\"red\" stroke=\"red\" stroke-width=\"2\" points=\"1168.55,-156.32 1179.13,-156.87 1171.2,-149.84 1168.55,-156.32\"/>\n</g>\n<!-- s1&#45;a0&#45;&gt;s0 -->\n<g id=\"edge7\" class=\"edge\">\n<title>s1&#45;a0&#45;&gt;s0</title>\n<path fill=\"none\" stroke=\"blue\" stroke-dasharray=\"5,2\" d=\"M1182.11,-69.62C1147.5,-44.67 1075.95,0 1007.4,0 263.41,0 263.41,0 263.41,0 217.21,0 172.35,-25.26 138.16,-51.56\"/>\n<polygon fill=\"blue\" stroke=\"blue\" points=\"135.82,-48.95 130.14,-57.9 140.16,-54.44 135.82,-48.95\"/>\n<text text-anchor=\"middle\" x=\"697.83\" y=\"-5.2\" font-family=\"Arial\" font-size=\"16.00\">p = 0.7 &#160;reward =5</text>\n</g>\n<!-- s1&#45;a0&#45;&gt;s2 -->\n<g id=\"edge9\" class=\"edge\">\n<title>s1&#45;a0&#45;&gt;s2</title>\n<path fill=\"none\" stroke=\"blue\" stroke-dasharray=\"5,2\" d=\"M1188.69,-108.88C1184.55,-115.83 1180.24,-123.59 1176.82,-131 1166.55,-153.2 1177.68,-167.44 1158.82,-183 1132.15,-205 1116.26,-191.06 1081.82,-194 920.76,-207.73 731.8,-206.17 625.08,-203.67\"/>\n<polygon fill=\"blue\" stroke=\"blue\" points=\"625.1,-200.17 615.01,-203.43 624.93,-207.17 625.1,-200.17\"/>\n<text text-anchor=\"middle\" x=\"883.48\" y=\"-209.2\" font-family=\"Arial\" font-size=\"16.00\">p = 0.2</text>\n</g>\n<!-- s1&#45;a0&#45;&gt;s1 -->\n<g id=\"edge8\" class=\"edge\">\n<title>s1&#45;a0&#45;&gt;s1</title>\n<path fill=\"none\" stroke=\"blue\" stroke-dasharray=\"5,2\" d=\"M1177.7,-77.85C1171.57,-76.25 1165.01,-74.82 1158.82,-74 1132.82,-70.56 1125.59,-69.16 1099.82,-74 1095.09,-74.89 1090.3,-76.01 1085.51,-77.3\"/>\n<polygon fill=\"blue\" stroke=\"blue\" points=\"1084.32,-74.01 1075.71,-80.18 1086.29,-80.72 1084.32,-74.01\"/>\n<text text-anchor=\"middle\" x=\"1129.32\" y=\"-79.2\" font-family=\"Arial\" font-size=\"16.00\">p = 0.1</text>\n</g>\n<!-- s1&#45;a1&#45;&gt;s2 -->\n<g id=\"edge12\" class=\"edge\">\n<title>s1&#45;a1&#45;&gt;s2</title>\n<path fill=\"none\" stroke=\"blue\" stroke-dasharray=\"5,2\" d=\"M1193.43,-193.31C1186.2,-208 1174.85,-225.27 1158.82,-234 985.97,-328.1 744.14,-270.76 620.34,-230.44\"/>\n<polygon fill=\"blue\" stroke=\"blue\" points=\"621.14,-227.02 610.55,-227.21 618.95,-233.67 621.14,-227.02\"/>\n<text text-anchor=\"middle\" x=\"883.48\" y=\"-289.2\" font-family=\"Arial\" font-size=\"16.00\">p = 0.05</text>\n</g>\n<!-- s1&#45;a1&#45;&gt;s1 -->\n<g id=\"edge11\" class=\"edge\">\n<title>s1&#45;a1&#45;&gt;s1</title>\n<path fill=\"none\" stroke=\"blue\" stroke-dasharray=\"5,2\" d=\"M1177.13,-163.64C1156.02,-159.84 1125.71,-153.74 1099.82,-146 1095.26,-144.64 1090.61,-143.15 1085.95,-141.58\"/>\n<polygon fill=\"blue\" stroke=\"blue\" points=\"1086.96,-138.23 1076.36,-138.26 1084.66,-144.84 1086.96,-138.23\"/>\n<text text-anchor=\"middle\" x=\"1129.32\" y=\"-166.2\" font-family=\"Arial\" font-size=\"16.00\">p = 0.95</text>\n</g>\n<!-- s2&#45;a0&#45;&gt;s0 -->\n<g id=\"edge14\" class=\"edge\">\n<title>s2&#45;a0&#45;&gt;s0</title>\n<path fill=\"none\" stroke=\"blue\" stroke-dasharray=\"5,2\" d=\"M781.88,-154.02C745.32,-143.06 675.72,-123.91 614.83,-117 455.33,-98.9 267.57,-101.93 161.21,-105.89\"/>\n<polygon fill=\"blue\" stroke=\"blue\" points=\"161.04,-102.4 151.18,-106.28 161.31,-109.39 161.04,-102.4\"/>\n<text text-anchor=\"middle\" x=\"377.99\" y=\"-111.2\" font-family=\"Arial\" font-size=\"16.00\">p = 0.4</text>\n</g>\n<!-- s2&#45;a0&#45;&gt;s2 -->\n<g id=\"edge15\" class=\"edge\">\n<title>s2&#45;a0&#45;&gt;s2</title>\n<path fill=\"none\" stroke=\"blue\" stroke-dasharray=\"5,2\" d=\"M781.01,-157.84C746.5,-153.23 684.38,-147.84 632.83,-159 627.44,-160.17 622,-161.67 616.58,-163.42\"/>\n<polygon fill=\"blue\" stroke=\"blue\" points=\"615.18,-160.2 606.9,-166.8 617.49,-166.81 615.18,-160.2\"/>\n<text text-anchor=\"middle\" x=\"697.83\" y=\"-164.2\" font-family=\"Arial\" font-size=\"16.00\">p = 0.6</text>\n</g>\n<!-- s2&#45;a1&#45;&gt;s0 -->\n<g id=\"edge17\" class=\"edge\">\n<title>s2&#45;a1&#45;&gt;s0</title>\n<path fill=\"none\" stroke=\"blue\" stroke-dasharray=\"5,2\" d=\"M784.63,-65.62C777.87,-62.09 770.27,-58.81 762.83,-57 706.68,-43.37 690.6,-56.91 632.83,-57 489.34,-57.22 452.86,-44.73 309.99,-58 246.47,-63.9 230.97,-69.57 168.84,-84 165.26,-84.83 161.61,-85.71 157.93,-86.63\"/>\n<polygon fill=\"blue\" stroke=\"blue\" points=\"156.97,-83.26 148.15,-89.12 158.7,-90.04 156.97,-83.26\"/>\n<text text-anchor=\"middle\" x=\"377.99\" y=\"-63.2\" font-family=\"Arial\" font-size=\"16.00\">p = 0.3 &#160;reward =&#45;1</text>\n</g>\n<!-- s2&#45;a1&#45;&gt;s2 -->\n<g id=\"edge19\" class=\"edge\">\n<title>s2&#45;a1&#45;&gt;s2</title>\n<path fill=\"none\" stroke=\"blue\" stroke-dasharray=\"5,2\" d=\"M781.77,-72.02C746.2,-62.49 680.83,-50.67 632.83,-75 611.02,-86.05 593.11,-104.94 579.06,-124.77\"/>\n<polygon fill=\"blue\" stroke=\"blue\" points=\"575.98,-123.07 573.27,-133.31 581.78,-127 575.98,-123.07\"/>\n<text text-anchor=\"middle\" x=\"697.83\" y=\"-80.2\" font-family=\"Arial\" font-size=\"16.00\">p = 0.4</text>\n</g>\n<!-- s2&#45;a1&#45;&gt;s1 -->\n<g id=\"edge18\" class=\"edge\">\n<title>s2&#45;a1&#45;&gt;s1</title>\n<path fill=\"none\" stroke=\"blue\" stroke-dasharray=\"5,2\" d=\"M835.84,-84.05C857.99,-87.44 890.88,-92.47 921.81,-97.21\"/>\n<polygon fill=\"blue\" stroke=\"blue\" points=\"921.35,-100.68 931.77,-98.73 922.41,-93.76 921.35,-100.68\"/>\n<text text-anchor=\"middle\" x=\"883.48\" y=\"-100.2\" font-family=\"Arial\" font-size=\"16.00\">p = 0.3</text>\n</g>\n</g>\n</svg>\n",
      "text/plain": [
       "<graphviz.graphs.Digraph at 0x1ee82dbae30>"
      ]
     },
     "metadata": {},
     "output_type": "display_data"
    }
   ],
   "source": [
    "if has_graphviz:\n",
    "    display(plot_graph_with_state_values(mdp, state_values))"
   ]
  },
  {
   "cell_type": "code",
   "execution_count": 15,
   "metadata": {},
   "outputs": [
    {
     "name": "stdout",
     "output_type": "stream",
     "text": [
      "Final state values: {'s0': 3.7810348735476405, 's1': 7.294006423867229, 's2': 4.202140275227048}\n"
     ]
    }
   ],
   "source": [
    "print(\"Final state values:\", state_values)\n",
    "\n",
    "assert abs(state_values['s0'] - 3.781) < 0.01\n",
    "assert abs(state_values['s1'] - 7.294) < 0.01\n",
    "assert abs(state_values['s2'] - 4.202) < 0.01"
   ]
  },
  {
   "cell_type": "markdown",
   "metadata": {},
   "source": [
    "Now let's use those $V^{*}(s)$ to find optimal actions in each state\n",
    "\n",
    " $$\\pi^*(s) = argmax_a \\sum_{s'} P(s' | s,a) \\cdot [ r(s,a,s') + \\gamma V_{i}(s')] = argmax_a Q_i(s,a)$$\n",
    " \n",
    "The only difference vs V(s) is that here we take not max but argmax: find action such with maximum Q(s,a)."
   ]
  },
  {
   "cell_type": "code",
   "execution_count": 16,
   "metadata": {},
   "outputs": [],
   "source": [
    "def get_optimal_action(mdp, state_values, state, gamma=0.9):\n",
    "    \"\"\" Finds optimal action using formula above. \"\"\"\n",
    "    if mdp.is_terminal(state):\n",
    "        return None\n",
    "    \n",
    "    # my code here\n",
    "    actions = mdp.get_possible_actions(state)\n",
    "    max_action = actions[0]\n",
    "    max_Q = get_action_value(mdp, state_values, state, actions[0], gamma)\n",
    "    \n",
    "    for action in actions[1:]:\n",
    "        q_action_value = get_action_value(mdp, state_values, state, action, gamma)\n",
    "        \n",
    "        if max_Q < q_action_value:\n",
    "            max_Q = q_action_value\n",
    "            max_action = action\n",
    "        \n",
    "    return max_action"
   ]
  },
  {
   "cell_type": "code",
   "execution_count": 17,
   "metadata": {},
   "outputs": [],
   "source": [
    "assert get_optimal_action(mdp, state_values, 's0', gamma) == 'a1'\n",
    "assert get_optimal_action(mdp, state_values, 's1', gamma) == 'a0'\n",
    "assert get_optimal_action(mdp, state_values, 's2', gamma) == 'a1'\n",
    "\n",
    "assert get_optimal_action(mdp, {'s0': -1e10, 's1': 0, 's2': -2e10}, 's0', 0.9) == 'a0', \\\n",
    "    \"Please ensure that you handle negative Q-values of arbitrary magnitude correctly\"\n",
    "assert get_optimal_action(mdp, {'s0': -2e10, 's1': 0, 's2': -1e10}, 's0', 0.9) == 'a1', \\\n",
    "    \"Please ensure that you handle negative Q-values of arbitrary magnitude correctly\""
   ]
  },
  {
   "cell_type": "code",
   "execution_count": 18,
   "metadata": {},
   "outputs": [
    {
     "data": {
      "image/svg+xml": "<?xml version=\"1.0\" encoding=\"UTF-8\" standalone=\"no\"?>\n<!DOCTYPE svg PUBLIC \"-//W3C//DTD SVG 1.1//EN\"\n \"http://www.w3.org/Graphics/SVG/1.1/DTD/svg11.dtd\">\n<!-- Generated by graphviz version 2.50.0 (0)\n -->\n<!-- Title: MDP Pages: 1 -->\n<svg width=\"720pt\" height=\"196pt\"\n viewBox=\"0.00 0.00 720.00 195.68\" xmlns=\"http://www.w3.org/2000/svg\" xmlns:xlink=\"http://www.w3.org/1999/xlink\">\n<g id=\"graph0\" class=\"graph\" transform=\"scale(0.58 0.58) rotate(0) translate(4 333)\">\n<title>MDP</title>\n<polygon fill=\"white\" stroke=\"transparent\" points=\"-4,4 -4,-333 1235.97,-333 1235.97,4 -4,4\"/>\n<!-- s0 -->\n<g id=\"node1\" class=\"node\">\n<title>s0</title>\n<ellipse fill=\"#85ff75\" stroke=\"#85ff75\" cx=\"75.42\" cy=\"-129\" rx=\"71.34\" ry=\"71.34\"/>\n<ellipse fill=\"none\" stroke=\"#85ff75\" cx=\"75.42\" cy=\"-129\" rx=\"75.34\" ry=\"75.34\"/>\n<text text-anchor=\"middle\" x=\"75.42\" y=\"-135.8\" font-family=\"Arial\" font-size=\"24.00\">s0</text>\n<text text-anchor=\"middle\" x=\"75.42\" y=\"-109.8\" font-family=\"Arial\" font-size=\"24.00\">V =3.78</text>\n</g>\n<!-- s0&#45;a0 -->\n<g id=\"node2\" class=\"node\">\n<title>s0&#45;a0</title>\n<ellipse fill=\"lightpink\" stroke=\"lightpink\" cx=\"264.41\" cy=\"-160\" rx=\"27.65\" ry=\"27.65\"/>\n<text text-anchor=\"middle\" x=\"264.41\" y=\"-155\" font-family=\"Arial\" font-size=\"20.00\">a0</text>\n</g>\n<!-- s0&#45;&gt;s0&#45;a0 -->\n<g id=\"edge1\" class=\"edge\">\n<title>s0&#45;&gt;s0&#45;a0</title>\n<path fill=\"none\" stroke=\"red\" stroke-width=\"2\" d=\"M150.95,-132.56C173.01,-134.63 197.07,-137.88 218.84,-143 222.24,-143.8 225.74,-144.8 229.21,-145.92\"/>\n<polygon fill=\"red\" stroke=\"red\" stroke-width=\"2\" points=\"228.19,-149.27 238.79,-149.27 230.51,-142.66 228.19,-149.27\"/>\n</g>\n<!-- s0&#45;a1 -->\n<g id=\"node4\" class=\"node\">\n<title>s0&#45;a1</title>\n<ellipse fill=\"lightpink\" stroke=\"lightpink\" cx=\"264.41\" cy=\"-233\" rx=\"27.65\" ry=\"27.65\"/>\n<text text-anchor=\"middle\" x=\"264.41\" y=\"-228\" font-family=\"Arial\" font-size=\"20.00\">a1</text>\n</g>\n<!-- s0&#45;&gt;s0&#45;a1 -->\n<g id=\"edge4\" class=\"edge\">\n<title>s0&#45;&gt;s0&#45;a1</title>\n<path fill=\"none\" stroke=\"red\" stroke-width=\"2\" d=\"M144.19,-160.18C174.78,-176.62 209.34,-196.31 233.35,-211.16\"/>\n<polygon fill=\"red\" stroke=\"red\" stroke-width=\"2\" points=\"231.67,-214.25 242,-216.6 235.4,-208.32 231.67,-214.25\"/>\n</g>\n<!-- s0&#45;&gt;s0&#45;a1 -->\n<g id=\"edge20\" class=\"edge\">\n<title>s0&#45;&gt;s0&#45;a1</title>\n<path fill=\"none\" stroke=\"green\" stroke-width=\"6\" d=\"M138.94,-170.18C169.07,-187.63 204.03,-206.72 229.22,-219.34\"/>\n<polygon fill=\"green\" stroke=\"green\" stroke-width=\"6\" points=\"227.07,-224.14 238.36,-223.84 231.71,-214.72 227.07,-224.14\"/>\n</g>\n<!-- s0&#45;a0&#45;&gt;s0 -->\n<g id=\"edge2\" class=\"edge\">\n<title>s0&#45;a0&#45;&gt;s0</title>\n<path fill=\"none\" stroke=\"blue\" stroke-dasharray=\"5,2\" d=\"M236.97,-155.62C216.84,-152.28 187.94,-147.49 160.2,-142.89\"/>\n<polygon fill=\"blue\" stroke=\"blue\" points=\"160.49,-139.39 150.05,-141.21 159.35,-146.3 160.49,-139.39\"/>\n<text text-anchor=\"middle\" x=\"193.84\" y=\"-158.2\" font-family=\"Arial\" font-size=\"16.00\">p = 0.5</text>\n</g>\n<!-- s2 -->\n<g id=\"node3\" class=\"node\">\n<title>s2</title>\n<ellipse fill=\"#85ff75\" stroke=\"#85ff75\" cx=\"539.41\" cy=\"-207\" rx=\"71.34\" ry=\"71.34\"/>\n<ellipse fill=\"none\" stroke=\"#85ff75\" cx=\"539.41\" cy=\"-207\" rx=\"75.34\" ry=\"75.34\"/>\n<text text-anchor=\"middle\" x=\"539.41\" y=\"-213.8\" font-family=\"Arial\" font-size=\"24.00\">s2</text>\n<text text-anchor=\"middle\" x=\"539.41\" y=\"-187.8\" font-family=\"Arial\" font-size=\"24.00\">V =4.20</text>\n</g>\n<!-- s0&#45;a0&#45;&gt;s2 -->\n<g id=\"edge3\" class=\"edge\">\n<title>s0&#45;a0&#45;&gt;s2</title>\n<path fill=\"none\" stroke=\"blue\" stroke-dasharray=\"5,2\" d=\"M292.09,-164.59C329.49,-171.03 399.18,-183.03 454.91,-192.63\"/>\n<polygon fill=\"blue\" stroke=\"blue\" points=\"454.34,-196.08 464.79,-194.33 455.53,-189.18 454.34,-196.08\"/>\n<text text-anchor=\"middle\" x=\"377.99\" y=\"-196.2\" font-family=\"Arial\" font-size=\"16.00\">p = 0.5</text>\n</g>\n<!-- s2&#45;a0 -->\n<g id=\"node8\" class=\"node\">\n<title>s2&#45;a0</title>\n<ellipse fill=\"lightpink\" stroke=\"lightpink\" cx=\"808.4\" cy=\"-181\" rx=\"27.65\" ry=\"27.65\"/>\n<text text-anchor=\"middle\" x=\"808.4\" y=\"-176\" font-family=\"Arial\" font-size=\"20.00\">a0</text>\n</g>\n<!-- s2&#45;&gt;s2&#45;a0 -->\n<g id=\"edge13\" class=\"edge\">\n<title>s2&#45;&gt;s2&#45;a0</title>\n<path fill=\"none\" stroke=\"red\" stroke-width=\"2\" d=\"M614.83,-210.72C658.41,-211.32 714.26,-209.34 762.83,-199 766.28,-198.26 769.8,-197.28 773.29,-196.15\"/>\n<polygon fill=\"red\" stroke=\"red\" stroke-width=\"2\" points=\"774.69,-199.37 782.89,-192.67 772.3,-192.79 774.69,-199.37\"/>\n</g>\n<!-- s2&#45;a1 -->\n<g id=\"node9\" class=\"node\">\n<title>s2&#45;a1</title>\n<ellipse fill=\"lightpink\" stroke=\"lightpink\" cx=\"808.4\" cy=\"-108\" rx=\"27.65\" ry=\"27.65\"/>\n<text text-anchor=\"middle\" x=\"808.4\" y=\"-103\" font-family=\"Arial\" font-size=\"20.00\">a1</text>\n</g>\n<!-- s2&#45;&gt;s2&#45;a1 -->\n<g id=\"edge16\" class=\"edge\">\n<title>s2&#45;&gt;s2&#45;a1</title>\n<path fill=\"none\" stroke=\"red\" stroke-width=\"2\" d=\"M605.62,-170.76C614.72,-167.01 623.99,-163.36 632.83,-160 680.22,-141.99 735.57,-122.99 771.03,-113.18\"/>\n<polygon fill=\"red\" stroke=\"red\" stroke-width=\"2\" points=\"772.15,-116.51 780.92,-110.56 770.36,-109.74 772.15,-116.51\"/>\n</g>\n<!-- s2&#45;&gt;s2&#45;a1 -->\n<g id=\"edge22\" class=\"edge\">\n<title>s2&#45;&gt;s2&#45;a1</title>\n<path fill=\"none\" stroke=\"green\" stroke-width=\"6\" d=\"M611.9,-186.12C618.95,-183.35 626.01,-180.59 632.83,-178 681.93,-159.34 739.58,-139.62 774.79,-125.46\"/>\n<polygon fill=\"green\" stroke=\"green\" stroke-width=\"6\" points=\"776.86,-130.29 784.1,-121.62 772.86,-120.58 776.86,-130.29\"/>\n</g>\n<!-- s0&#45;a1&#45;&gt;s2 -->\n<g id=\"edge5\" class=\"edge\">\n<title>s0&#45;a1&#45;&gt;s2</title>\n<path fill=\"none\" stroke=\"blue\" stroke-dasharray=\"5,2\" d=\"M292.09,-230.46C329.28,-226.92 398.42,-220.33 454,-215.04\"/>\n<polygon fill=\"blue\" stroke=\"blue\" points=\"454.59,-218.5 464.21,-214.07 453.92,-211.53 454.59,-218.5\"/>\n<text text-anchor=\"middle\" x=\"377.99\" y=\"-233.2\" font-family=\"Arial\" font-size=\"16.00\">p = 1</text>\n</g>\n<!-- s1 -->\n<g id=\"node5\" class=\"node\">\n<title>s1</title>\n<ellipse fill=\"#85ff75\" stroke=\"#85ff75\" cx=\"1006.4\" cy=\"-127\" rx=\"71.34\" ry=\"71.34\"/>\n<ellipse fill=\"none\" stroke=\"#85ff75\" cx=\"1006.4\" cy=\"-127\" rx=\"75.34\" ry=\"75.34\"/>\n<text text-anchor=\"middle\" x=\"1006.4\" y=\"-133.8\" font-family=\"Arial\" font-size=\"24.00\">s1</text>\n<text text-anchor=\"middle\" x=\"1006.4\" y=\"-107.8\" font-family=\"Arial\" font-size=\"24.00\">V =7.29</text>\n</g>\n<!-- s1&#45;a0 -->\n<g id=\"node6\" class=\"node\">\n<title>s1&#45;a0</title>\n<ellipse fill=\"lightpink\" stroke=\"lightpink\" cx=\"1204.39\" cy=\"-126\" rx=\"27.65\" ry=\"27.65\"/>\n<text text-anchor=\"middle\" x=\"1204.39\" y=\"-121\" font-family=\"Arial\" font-size=\"20.00\">a0</text>\n</g>\n<!-- s1&#45;&gt;s1&#45;a0 -->\n<g id=\"edge6\" class=\"edge\">\n<title>s1&#45;&gt;s1&#45;a0</title>\n<path fill=\"none\" stroke=\"red\" stroke-width=\"2\" d=\"M1081.49,-120.05C1110.77,-119.45 1143.07,-119.68 1167.07,-120.8\"/>\n<polygon fill=\"red\" stroke=\"red\" stroke-width=\"2\" points=\"1166.96,-124.3 1177.13,-121.36 1167.34,-117.31 1166.96,-124.3\"/>\n</g>\n<!-- s1&#45;&gt;s1&#45;a0 -->\n<g id=\"edge21\" class=\"edge\">\n<title>s1&#45;&gt;s1&#45;a0</title>\n<path fill=\"none\" stroke=\"green\" stroke-width=\"6\" d=\"M1081.77,-133.19C1111.02,-133.49 1143.24,-132.93 1167.17,-131.56\"/>\n<polygon fill=\"green\" stroke=\"green\" stroke-width=\"6\" points=\"1167.58,-136.8 1177.21,-130.9 1166.89,-126.32 1167.58,-136.8\"/>\n</g>\n<!-- s1&#45;a1 -->\n<g id=\"node7\" class=\"node\">\n<title>s1&#45;a1</title>\n<ellipse fill=\"lightpink\" stroke=\"lightpink\" cx=\"1204.39\" cy=\"-199\" rx=\"27.65\" ry=\"27.65\"/>\n<text text-anchor=\"middle\" x=\"1204.39\" y=\"-194\" font-family=\"Arial\" font-size=\"20.00\">a1</text>\n</g>\n<!-- s1&#45;&gt;s1&#45;a1 -->\n<g id=\"edge10\" class=\"edge\">\n<title>s1&#45;&gt;s1&#45;a1</title>\n<path fill=\"none\" stroke=\"red\" stroke-width=\"2\" d=\"M1078.88,-149.2C1104.35,-157.6 1133.08,-167.64 1158.82,-178 1162.46,-179.47 1166.23,-181.08 1169.97,-182.75\"/>\n<polygon fill=\"red\" stroke=\"red\" stroke-width=\"2\" points=\"1168.54,-185.95 1179.09,-186.93 1171.46,-179.58 1168.54,-185.95\"/>\n</g>\n<!-- s1&#45;a0&#45;&gt;s0 -->\n<g id=\"edge7\" class=\"edge\">\n<title>s1&#45;a0&#45;&gt;s0</title>\n<path fill=\"none\" stroke=\"blue\" stroke-dasharray=\"5,2\" d=\"M1186.11,-104.91C1154.62,-69.04 1084.05,0 1007.4,0 263.41,0 263.41,0 263.41,0 213,0 166.3,-32.17 132.19,-64.37\"/>\n<polygon fill=\"blue\" stroke=\"blue\" points=\"129.41,-62.19 124.67,-71.67 134.28,-67.22 129.41,-62.19\"/>\n<text text-anchor=\"middle\" x=\"697.83\" y=\"-5.2\" font-family=\"Arial\" font-size=\"16.00\">p = 0.7 &#160;reward =5</text>\n</g>\n<!-- s1&#45;a0&#45;&gt;s2 -->\n<g id=\"edge9\" class=\"edge\">\n<title>s1&#45;a0&#45;&gt;s2</title>\n<path fill=\"none\" stroke=\"blue\" stroke-dasharray=\"5,2\" d=\"M1186.25,-147C1182.84,-151.76 1179.49,-156.91 1176.82,-162 1165.42,-183.64 1178.65,-199.69 1158.82,-214 1075.72,-273.95 772.78,-240.62 624,-219.77\"/>\n<polygon fill=\"blue\" stroke=\"blue\" points=\"624.38,-216.29 613.99,-218.36 623.4,-223.22 624.38,-216.29\"/>\n<text text-anchor=\"middle\" x=\"883.48\" y=\"-252.2\" font-family=\"Arial\" font-size=\"16.00\">p = 0.2</text>\n</g>\n<!-- s1&#45;a0&#45;&gt;s1 -->\n<g id=\"edge8\" class=\"edge\">\n<title>s1&#45;a0&#45;&gt;s1</title>\n<path fill=\"none\" stroke=\"blue\" stroke-dasharray=\"5,2\" d=\"M1180.03,-112.64C1173.38,-109.5 1166,-106.61 1158.82,-105 1136.35,-99.97 1111.74,-100.87 1089.01,-104.26\"/>\n<polygon fill=\"blue\" stroke=\"blue\" points=\"1088.35,-100.82 1079.06,-105.92 1089.49,-107.73 1088.35,-100.82\"/>\n<text text-anchor=\"middle\" x=\"1129.32\" y=\"-110.2\" font-family=\"Arial\" font-size=\"16.00\">p = 0.1</text>\n</g>\n<!-- s1&#45;a1&#45;&gt;s2 -->\n<g id=\"edge12\" class=\"edge\">\n<title>s1&#45;a1&#45;&gt;s2</title>\n<path fill=\"none\" stroke=\"blue\" stroke-dasharray=\"5,2\" d=\"M1190.04,-222.71C1182.44,-233.74 1171.83,-245.78 1158.82,-252 947.9,-352.82 860.02,-307.08 632.83,-252 627.05,-250.6 621.21,-248.8 615.42,-246.73\"/>\n<polygon fill=\"blue\" stroke=\"blue\" points=\"616.34,-243.34 605.75,-243.02 613.83,-249.87 616.34,-243.34\"/>\n<text text-anchor=\"middle\" x=\"883.48\" y=\"-316.2\" font-family=\"Arial\" font-size=\"16.00\">p = 0.05</text>\n</g>\n<!-- s1&#45;a1&#45;&gt;s1 -->\n<g id=\"edge11\" class=\"edge\">\n<title>s1&#45;a1&#45;&gt;s1</title>\n<path fill=\"none\" stroke=\"blue\" stroke-dasharray=\"5,2\" d=\"M1176.87,-195.13C1155.6,-191.56 1125.22,-185.36 1099.82,-176 1093.83,-173.8 1087.75,-171.27 1081.71,-168.56\"/>\n<polygon fill=\"blue\" stroke=\"blue\" points=\"1082.82,-165.22 1072.28,-164.17 1079.87,-171.56 1082.82,-165.22\"/>\n<text text-anchor=\"middle\" x=\"1129.32\" y=\"-197.2\" font-family=\"Arial\" font-size=\"16.00\">p = 0.95</text>\n</g>\n<!-- s2&#45;a0&#45;&gt;s0 -->\n<g id=\"edge14\" class=\"edge\">\n<title>s2&#45;a0&#45;&gt;s0</title>\n<path fill=\"none\" stroke=\"blue\" stroke-dasharray=\"5,2\" d=\"M782.4,-170.89C746.17,-156.84 676.66,-132.11 614.83,-123 455.58,-99.54 266.96,-110.35 160.54,-119.95\"/>\n<polygon fill=\"blue\" stroke=\"blue\" points=\"160.14,-116.47 150.5,-120.87 160.78,-123.44 160.14,-116.47\"/>\n<text text-anchor=\"middle\" x=\"377.99\" y=\"-116.2\" font-family=\"Arial\" font-size=\"16.00\">p = 0.4</text>\n</g>\n<!-- s2&#45;a0&#45;&gt;s2 -->\n<g id=\"edge15\" class=\"edge\">\n<title>s2&#45;a0&#45;&gt;s2</title>\n<path fill=\"none\" stroke=\"blue\" stroke-dasharray=\"5,2\" d=\"M780.88,-177.46C746.5,-173.54 684.78,-168.78 632.83,-177 628.7,-177.65 624.51,-178.46 620.31,-179.38\"/>\n<polygon fill=\"blue\" stroke=\"blue\" points=\"619.4,-176 610.49,-181.74 621.03,-182.81 619.4,-176\"/>\n<text text-anchor=\"middle\" x=\"697.83\" y=\"-182.2\" font-family=\"Arial\" font-size=\"16.00\">p = 0.6</text>\n</g>\n<!-- s2&#45;a1&#45;&gt;s0 -->\n<g id=\"edge17\" class=\"edge\">\n<title>s2&#45;a1&#45;&gt;s0</title>\n<path fill=\"none\" stroke=\"blue\" stroke-dasharray=\"5,2\" d=\"M784.02,-94.34C777.37,-91.05 769.99,-87.94 762.83,-86 568.3,-33.44 510.65,-45.67 309.99,-64 246.46,-69.8 229.95,-71.71 168.84,-90 163.96,-91.46 158.98,-93.1 154.01,-94.85\"/>\n<polygon fill=\"blue\" stroke=\"blue\" points=\"152.64,-91.62 144.45,-98.34 155.04,-98.2 152.64,-91.62\"/>\n<text text-anchor=\"middle\" x=\"377.99\" y=\"-69.2\" font-family=\"Arial\" font-size=\"16.00\">p = 0.3 &#160;reward =&#45;1</text>\n</g>\n<!-- s2&#45;a1&#45;&gt;s2 -->\n<g id=\"edge19\" class=\"edge\">\n<title>s2&#45;a1&#45;&gt;s2</title>\n<path fill=\"none\" stroke=\"blue\" stroke-dasharray=\"5,2\" d=\"M781.76,-100.32C746.47,-91.22 681.74,-79.89 632.83,-102 615.83,-109.68 600.72,-122.2 587.89,-135.96\"/>\n<polygon fill=\"blue\" stroke=\"blue\" points=\"585.03,-133.92 581,-143.71 590.26,-138.57 585.03,-133.92\"/>\n<text text-anchor=\"middle\" x=\"697.83\" y=\"-107.2\" font-family=\"Arial\" font-size=\"16.00\">p = 0.4</text>\n</g>\n<!-- s2&#45;a1&#45;&gt;s1 -->\n<g id=\"edge18\" class=\"edge\">\n<title>s2&#45;a1&#45;&gt;s1</title>\n<path fill=\"none\" stroke=\"blue\" stroke-dasharray=\"5,2\" d=\"M836.24,-110.6C858.19,-112.73 890.47,-115.86 920.96,-118.81\"/>\n<polygon fill=\"blue\" stroke=\"blue\" points=\"920.92,-122.33 931.21,-119.81 921.6,-115.36 920.92,-122.33\"/>\n<text text-anchor=\"middle\" x=\"883.48\" y=\"-123.2\" font-family=\"Arial\" font-size=\"16.00\">p = 0.3</text>\n</g>\n</g>\n</svg>\n",
      "text/plain": [
       "<graphviz.graphs.Digraph at 0x1ee82dbb3d0>"
      ]
     },
     "metadata": {},
     "output_type": "display_data"
    }
   ],
   "source": [
    "if has_graphviz:\n",
    "    display(plot_graph_optimal_strategy_and_state_values(mdp, state_values, get_action_value))"
   ]
  },
  {
   "cell_type": "code",
   "execution_count": 19,
   "metadata": {},
   "outputs": [
    {
     "name": "stdout",
     "output_type": "stream",
     "text": [
      "average reward:  0.4773\n"
     ]
    }
   ],
   "source": [
    "# Measure agent's average reward\n",
    "\n",
    "s = mdp.reset()\n",
    "rewards = []\n",
    "for _ in range(10000):\n",
    "    s, r, done, _ = mdp.step(get_optimal_action(mdp, state_values, s, gamma))\n",
    "    rewards.append(r)\n",
    "\n",
    "print(\"average reward: \", np.mean(rewards))\n",
    "\n",
    "assert(0.40 < np.mean(rewards) < 0.55)"
   ]
  },
  {
   "cell_type": "markdown",
   "metadata": {},
   "source": [
    "### Frozen lake"
   ]
  },
  {
   "cell_type": "code",
   "execution_count": 77,
   "metadata": {},
   "outputs": [
    {
     "name": "stdout",
     "output_type": "stream",
     "text": [
      "*FFF\n",
      "FHFH\n",
      "FFFH\n",
      "HFFG\n",
      "\n"
     ]
    }
   ],
   "source": [
    "from mdp import FrozenLakeEnv\n",
    "mdp = FrozenLakeEnv(slip_chance=0)\n",
    "\n",
    "mdp.render()"
   ]
  },
  {
   "cell_type": "code",
   "execution_count": 24,
   "metadata": {},
   "outputs": [],
   "source": [
    "def value_iteration(mdp, state_values=None, gamma=0.9, num_iter=1000, min_difference=1e-5):\n",
    "    \"\"\" performs num_iter value iteration steps starting from state_values. Same as before but in a function \"\"\"\n",
    "    state_values = state_values or {s: 0 for s in mdp.get_all_states()}\n",
    "    for i in range(num_iter):\n",
    "\n",
    "        # Compute new state values using the functions you defined above. It must be a dict {state : new_V(state)}\n",
    "        new_state_values = {s: get_new_state_value(mdp, state_values, s, gamma) for s in mdp.get_all_states()}\n",
    "\n",
    "        assert isinstance(new_state_values, dict)\n",
    "\n",
    "        # Compute difference\n",
    "        diff = max(abs(new_state_values[s] - state_values[s])\n",
    "                   for s in mdp.get_all_states())\n",
    "\n",
    "        print(\"iter %4i   |   diff: %6.5f   |   V(start): %.3f \" %\n",
    "              (i, diff, new_state_values[mdp._initial_state]))\n",
    "\n",
    "        state_values = new_state_values\n",
    "        if diff < min_difference:\n",
    "            break\n",
    "\n",
    "    return state_values"
   ]
  },
  {
   "cell_type": "code",
   "execution_count": 79,
   "metadata": {},
   "outputs": [
    {
     "name": "stdout",
     "output_type": "stream",
     "text": [
      "iter    0   |   diff: 1.00000   |   V(start): 0.000 \n",
      "iter    1   |   diff: 0.90000   |   V(start): 0.000 \n",
      "iter    2   |   diff: 0.81000   |   V(start): 0.000 \n",
      "iter    3   |   diff: 0.72900   |   V(start): 0.000 \n",
      "iter    4   |   diff: 0.65610   |   V(start): 0.000 \n",
      "iter    5   |   diff: 0.59049   |   V(start): 0.590 \n",
      "iter    6   |   diff: 0.00000   |   V(start): 0.590 \n"
     ]
    }
   ],
   "source": [
    "state_values = value_iteration(mdp)"
   ]
  },
  {
   "cell_type": "code",
   "execution_count": 80,
   "metadata": {
    "scrolled": true
   },
   "outputs": [
    {
     "name": "stdout",
     "output_type": "stream",
     "text": [
      "*FFF\n",
      "FHFH\n",
      "FFFH\n",
      "HFFG\n",
      "\n",
      "down\n",
      "\n",
      "SFFF\n",
      "*HFH\n",
      "FFFH\n",
      "HFFG\n",
      "\n",
      "down\n",
      "\n",
      "SFFF\n",
      "FHFH\n",
      "*FFH\n",
      "HFFG\n",
      "\n",
      "right\n",
      "\n",
      "SFFF\n",
      "FHFH\n",
      "F*FH\n",
      "HFFG\n",
      "\n",
      "down\n",
      "\n",
      "SFFF\n",
      "FHFH\n",
      "FFFH\n",
      "H*FG\n",
      "\n",
      "right\n",
      "\n",
      "SFFF\n",
      "FHFH\n",
      "FFFH\n",
      "HF*G\n",
      "\n",
      "right\n",
      "\n",
      "SFFF\n",
      "FHFH\n",
      "FFFH\n",
      "HFF*\n",
      "\n"
     ]
    }
   ],
   "source": [
    "s = mdp.reset()\n",
    "mdp.render()\n",
    "for t in range(100):\n",
    "    a = get_optimal_action(mdp, state_values, s, gamma)\n",
    "    print(a, end='\\n\\n')\n",
    "    s, r, done, _ = mdp.step(a)\n",
    "    mdp.render()\n",
    "    if done:\n",
    "        break"
   ]
  },
  {
   "cell_type": "markdown",
   "metadata": {},
   "source": [
    "### Let's visualize!\n",
    "\n",
    "It's usually interesting to see what your algorithm actually learned under the hood. To do so, we'll plot state value functions and optimal actions at each VI step."
   ]
  },
  {
   "cell_type": "code",
   "execution_count": 25,
   "metadata": {},
   "outputs": [],
   "source": [
    "import matplotlib.pyplot as plt\n",
    "%matplotlib inline\n",
    "\n",
    "\n",
    "def draw_policy(mdp, state_values):\n",
    "    plt.figure(figsize=(3, 3))\n",
    "    h, w = mdp.desc.shape\n",
    "    states = sorted(mdp.get_all_states())\n",
    "    V = np.array([state_values[s] for s in states])\n",
    "    Pi = {s: get_optimal_action(mdp, state_values, s, gamma) for s in states}\n",
    "    plt.imshow(V.reshape(w, h), cmap='gray', interpolation='none', clim=(0, 1))\n",
    "    ax = plt.gca()\n",
    "    ax.set_xticks(np.arange(h)-.5)\n",
    "    ax.set_yticks(np.arange(w)-.5)\n",
    "    ax.set_xticklabels([])\n",
    "    ax.set_yticklabels([])\n",
    "    Y, X = np.mgrid[0:4, 0:4]\n",
    "    a2uv = {'left': (-1, 0), 'down': (0, -1), 'right': (1, 0), 'up': (0, 1)}\n",
    "    for y in range(h):\n",
    "        for x in range(w):\n",
    "            plt.text(x, y, str(mdp.desc[y, x].item()),\n",
    "                     color='g', size=12,  verticalalignment='center',\n",
    "                     horizontalalignment='center', fontweight='bold')\n",
    "            a = Pi[y, x]\n",
    "            if a is None:\n",
    "                continue\n",
    "            u, v = a2uv[a]\n",
    "            plt.arrow(x, y, u*.3, -v*.3, color='m',\n",
    "                      head_width=0.1, head_length=0.1)\n",
    "    plt.grid(color='b', lw=2, ls='-')\n",
    "    plt.show()"
   ]
  },
  {
   "cell_type": "code",
   "execution_count": 82,
   "metadata": {
    "scrolled": true
   },
   "outputs": [
    {
     "name": "stdout",
     "output_type": "stream",
     "text": [
      "after iteration 9\n",
      "iter    0   |   diff: 0.00000   |   V(start): 0.590 \n"
     ]
    },
    {
     "data": {
      "image/png": "[encoded data removed]",
      "text/plain": [
       "<Figure size 300x300 with 1 Axes>"
      ]
     },
     "metadata": {},
     "output_type": "display_data"
    }
   ],
   "source": [
    "state_values = {s: 0 for s in mdp.get_all_states()}\n",
    "\n",
    "for i in range(10):\n",
    "    clear_output(True)\n",
    "    print(\"after iteration %i\" % i)\n",
    "    state_values = value_iteration(mdp, state_values, num_iter=1)\n",
    "    draw_policy(mdp, state_values)\n",
    "# please ignore iter 0 at each step"
   ]
  },
  {
   "cell_type": "code",
   "execution_count": 74,
   "metadata": {},
   "outputs": [
    {
     "name": "stdout",
     "output_type": "stream",
     "text": [
      "after iteration 29\n",
      "iter    0   |   diff: 0.00000   |   V(start): 0.198 \n"
     ]
    },
    {
     "data": {
      "image/png": "[encoded data removed]",
      "text/plain": [
       "<Figure size 300x300 with 1 Axes>"
      ]
     },
     "metadata": {},
     "output_type": "display_data"
    }
   ],
   "source": [
    "from IPython.display import clear_output\n",
    "from time import sleep\n",
    "mdp = FrozenLakeEnv(map_name='8x8', slip_chance=0.1)\n",
    "state_values = {s: 0 for s in mdp.get_all_states()}\n",
    "\n",
    "for i in range(30):\n",
    "    clear_output(True)\n",
    "    print(\"after iteration %i\" % i)\n",
    "    state_values = value_iteration(mdp, state_values, num_iter=1)\n",
    "    draw_policy(mdp, state_values)\n",
    "    sleep(0.5)\n",
    "# please ignore iter 0 at each step"
   ]
  },
  {
   "cell_type": "markdown",
   "metadata": {},
   "source": [
    "Massive tests"
   ]
  },
  {
   "cell_type": "code",
   "execution_count": 83,
   "metadata": {},
   "outputs": [
    {
     "name": "stdout",
     "output_type": "stream",
     "text": [
      "iter    0   |   diff: 1.00000   |   V(start): 0.000 \n",
      "iter    1   |   diff: 0.90000   |   V(start): 0.000 \n",
      "iter    2   |   diff: 0.81000   |   V(start): 0.000 \n",
      "iter    3   |   diff: 0.72900   |   V(start): 0.000 \n",
      "iter    4   |   diff: 0.65610   |   V(start): 0.000 \n",
      "iter    5   |   diff: 0.59049   |   V(start): 0.590 \n",
      "iter    6   |   diff: 0.00000   |   V(start): 0.590 \n",
      "average reward:  1.0\n",
      "Well done!\n"
     ]
    }
   ],
   "source": [
    "mdp = FrozenLakeEnv(slip_chance=0)\n",
    "state_values = value_iteration(mdp)\n",
    "\n",
    "total_rewards = []\n",
    "for game_i in range(1000):\n",
    "    s = mdp.reset()\n",
    "    rewards = []\n",
    "    for t in range(100):\n",
    "        s, r, done, _ = mdp.step(\n",
    "            get_optimal_action(mdp, state_values, s, gamma))\n",
    "        rewards.append(r)\n",
    "        if done:\n",
    "            break\n",
    "    total_rewards.append(np.sum(rewards))\n",
    "\n",
    "print(\"average reward: \", np.mean(total_rewards))\n",
    "assert(1.0 <= np.mean(total_rewards) <= 1.0)\n",
    "print(\"Well done!\")"
   ]
  },
  {
   "cell_type": "code",
   "execution_count": 84,
   "metadata": {
    "collapsed": true
   },
   "outputs": [
    {
     "name": "stdout",
     "output_type": "stream",
     "text": [
      "iter    0   |   diff: 0.90000   |   V(start): 0.000 \n",
      "iter    1   |   diff: 0.72900   |   V(start): 0.000 \n",
      "iter    2   |   diff: 0.62330   |   V(start): 0.000 \n",
      "iter    3   |   diff: 0.50487   |   V(start): 0.000 \n",
      "iter    4   |   diff: 0.40894   |   V(start): 0.000 \n",
      "iter    5   |   diff: 0.34868   |   V(start): 0.349 \n",
      "iter    6   |   diff: 0.06529   |   V(start): 0.410 \n",
      "iter    7   |   diff: 0.05832   |   V(start): 0.468 \n",
      "iter    8   |   diff: 0.01139   |   V(start): 0.480 \n",
      "iter    9   |   diff: 0.00764   |   V(start): 0.487 \n",
      "iter   10   |   diff: 0.00164   |   V(start): 0.489 \n",
      "iter   11   |   diff: 0.00094   |   V(start): 0.490 \n",
      "iter   12   |   diff: 0.00022   |   V(start): 0.490 \n",
      "iter   13   |   diff: 0.00011   |   V(start): 0.490 \n",
      "iter   14   |   diff: 0.00003   |   V(start): 0.490 \n",
      "iter   15   |   diff: 0.00001   |   V(start): 0.490 \n",
      "iter   16   |   diff: 0.00000   |   V(start): 0.490 \n",
      "average reward:  0.877\n",
      "Well done!\n"
     ]
    }
   ],
   "source": [
    "# Measure agent's average reward\n",
    "mdp = FrozenLakeEnv(slip_chance=0.1)\n",
    "state_values = value_iteration(mdp)\n",
    "\n",
    "total_rewards = []\n",
    "for game_i in range(1000):\n",
    "    s = mdp.reset()\n",
    "    rewards = []\n",
    "    for t in range(100):\n",
    "        s, r, done, _ = mdp.step(\n",
    "            get_optimal_action(mdp, state_values, s, gamma))\n",
    "        rewards.append(r)\n",
    "        if done:\n",
    "            break\n",
    "    total_rewards.append(np.sum(rewards))\n",
    "\n",
    "print(\"average reward: \", np.mean(total_rewards))\n",
    "assert(0.8 <= np.mean(total_rewards) <= 0.95)\n",
    "print(\"Well done!\")"
   ]
  },
  {
   "cell_type": "code",
   "execution_count": 85,
   "metadata": {
    "collapsed": true
   },
   "outputs": [
    {
     "name": "stdout",
     "output_type": "stream",
     "text": [
      "iter    0   |   diff: 0.75000   |   V(start): 0.000 \n",
      "iter    1   |   diff: 0.50625   |   V(start): 0.000 \n",
      "iter    2   |   diff: 0.39867   |   V(start): 0.000 \n",
      "iter    3   |   diff: 0.26910   |   V(start): 0.000 \n",
      "iter    4   |   diff: 0.18164   |   V(start): 0.000 \n",
      "iter    5   |   diff: 0.14013   |   V(start): 0.140 \n",
      "iter    6   |   diff: 0.07028   |   V(start): 0.199 \n",
      "iter    7   |   diff: 0.06030   |   V(start): 0.260 \n",
      "iter    8   |   diff: 0.02594   |   V(start): 0.285 \n",
      "iter    9   |   diff: 0.01918   |   V(start): 0.305 \n",
      "iter   10   |   diff: 0.00858   |   V(start): 0.313 \n",
      "iter   11   |   diff: 0.00560   |   V(start): 0.319 \n",
      "iter   12   |   diff: 0.00260   |   V(start): 0.321 \n",
      "iter   13   |   diff: 0.00159   |   V(start): 0.323 \n",
      "iter   14   |   diff: 0.00076   |   V(start): 0.324 \n",
      "iter   15   |   diff: 0.00045   |   V(start): 0.324 \n",
      "iter   16   |   diff: 0.00022   |   V(start): 0.324 \n",
      "iter   17   |   diff: 0.00012   |   V(start): 0.325 \n",
      "iter   18   |   diff: 0.00006   |   V(start): 0.325 \n",
      "iter   19   |   diff: 0.00003   |   V(start): 0.325 \n",
      "iter   20   |   diff: 0.00002   |   V(start): 0.325 \n",
      "iter   21   |   diff: 0.00001   |   V(start): 0.325 \n",
      "average reward:  0.678\n",
      "Well done!\n"
     ]
    }
   ],
   "source": [
    "# Measure agent's average reward\n",
    "mdp = FrozenLakeEnv(slip_chance=0.25)\n",
    "state_values = value_iteration(mdp)\n",
    "\n",
    "total_rewards = []\n",
    "for game_i in range(1000):\n",
    "    s = mdp.reset()\n",
    "    rewards = []\n",
    "    for t in range(100):\n",
    "        s, r, done, _ = mdp.step(\n",
    "            get_optimal_action(mdp, state_values, s, gamma))\n",
    "        rewards.append(r)\n",
    "        if done:\n",
    "            break\n",
    "    total_rewards.append(np.sum(rewards))\n",
    "\n",
    "print(\"average reward: \", np.mean(total_rewards))\n",
    "assert(0.6 <= np.mean(total_rewards) <= 0.7)\n",
    "print(\"Well done!\")"
   ]
  },
  {
   "cell_type": "code",
   "execution_count": 86,
   "metadata": {
    "collapsed": true
   },
   "outputs": [
    {
     "name": "stdout",
     "output_type": "stream",
     "text": [
      "iter    0   |   diff: 0.80000   |   V(start): 0.000 \n",
      "iter    1   |   diff: 0.57600   |   V(start): 0.000 \n",
      "iter    2   |   diff: 0.41472   |   V(start): 0.000 \n",
      "iter    3   |   diff: 0.29860   |   V(start): 0.000 \n",
      "iter    4   |   diff: 0.24186   |   V(start): 0.000 \n",
      "iter    5   |   diff: 0.19349   |   V(start): 0.000 \n",
      "iter    6   |   diff: 0.15325   |   V(start): 0.000 \n",
      "iter    7   |   diff: 0.12288   |   V(start): 0.000 \n",
      "iter    8   |   diff: 0.09930   |   V(start): 0.000 \n",
      "iter    9   |   diff: 0.08037   |   V(start): 0.000 \n",
      "iter   10   |   diff: 0.06426   |   V(start): 0.000 \n",
      "iter   11   |   diff: 0.05129   |   V(start): 0.000 \n",
      "iter   12   |   diff: 0.04330   |   V(start): 0.000 \n",
      "iter   13   |   diff: 0.03802   |   V(start): 0.033 \n",
      "iter   14   |   diff: 0.03332   |   V(start): 0.058 \n",
      "iter   15   |   diff: 0.02910   |   V(start): 0.087 \n",
      "iter   16   |   diff: 0.01855   |   V(start): 0.106 \n",
      "iter   17   |   diff: 0.01403   |   V(start): 0.120 \n",
      "iter   18   |   diff: 0.00810   |   V(start): 0.128 \n",
      "iter   19   |   diff: 0.00555   |   V(start): 0.133 \n",
      "iter   20   |   diff: 0.00321   |   V(start): 0.137 \n",
      "iter   21   |   diff: 0.00247   |   V(start): 0.138 \n",
      "iter   22   |   diff: 0.00147   |   V(start): 0.139 \n",
      "iter   23   |   diff: 0.00104   |   V(start): 0.140 \n",
      "iter   24   |   diff: 0.00058   |   V(start): 0.140 \n",
      "iter   25   |   diff: 0.00036   |   V(start): 0.141 \n",
      "iter   26   |   diff: 0.00024   |   V(start): 0.141 \n",
      "iter   27   |   diff: 0.00018   |   V(start): 0.141 \n",
      "iter   28   |   diff: 0.00012   |   V(start): 0.141 \n",
      "iter   29   |   diff: 0.00007   |   V(start): 0.141 \n",
      "iter   30   |   diff: 0.00004   |   V(start): 0.141 \n",
      "iter   31   |   diff: 0.00003   |   V(start): 0.141 \n",
      "iter   32   |   diff: 0.00001   |   V(start): 0.141 \n",
      "iter   33   |   diff: 0.00001   |   V(start): 0.141 \n",
      "average reward:  0.758\n",
      "Well done!\n"
     ]
    }
   ],
   "source": [
    "# Measure agent's average reward\n",
    "mdp = FrozenLakeEnv(slip_chance=0.2, map_name='8x8')\n",
    "state_values = value_iteration(mdp)\n",
    "\n",
    "total_rewards = []\n",
    "for game_i in range(1000):\n",
    "    s = mdp.reset()\n",
    "    rewards = []\n",
    "    for t in range(100):\n",
    "        s, r, done, _ = mdp.step(\n",
    "            get_optimal_action(mdp, state_values, s, gamma))\n",
    "        rewards.append(r)\n",
    "        if done:\n",
    "            break\n",
    "    total_rewards.append(np.sum(rewards))\n",
    "\n",
    "print(\"average reward: \", np.mean(total_rewards))\n",
    "assert(0.6 <= np.mean(total_rewards) <= 0.8)\n",
    "print(\"Well done!\")"
   ]
  },
  {
   "cell_type": "markdown",
   "metadata": {},
   "source": [
    "# HW Part 1: Value iteration convergence\n",
    "\n",
    "### Find an MDP for which value iteration takes long to converge  (1 pts)\n",
    "\n",
    "When we ran value iteration on the small frozen lake problem, the last iteration where an action changed was iteration 6--i.e., value iteration computed the optimal policy at iteration 6. Are there any guarantees regarding how many iterations it'll take value iteration to compute the optimal policy? There are no such guarantees without additional assumptions--we can construct the MDP in such a way that the greedy policy will change after arbitrarily many iterations.\n",
    "\n",
    "Your task: define an MDP with at most 3 states and 2 actions, such that when you run value iteration, the optimal action changes at iteration >= 50. Use discount=0.95. (However, note that the discount doesn't matter here--you can construct an appropriate MDP with any discount.)\n",
    "\n",
    "Note: value function must change at least once after iteration >=50, not necessarily change on every iteration till >=50."
   ]
  },
  {
   "cell_type": "markdown",
   "metadata": {},
   "source": [
    "**Подбор MDP**\n",
    "\n",
    "Генератор, который считает state-value и action-value функции для заданного MDP. \\\n",
    "Хотим, чтобы оптимальная политика переключалась между $a_0$ и $a_1$. Пусть выплаты будут устроены таким образом, что $Q(s, a_0)$ и $Q(s, a_1)$ были близки. Тогда в какой-то момент при обновлении $V(s) = \\max_a Q(s, a)$ политика будет меняться."
   ]
  },
  {
   "cell_type": "code",
   "execution_count": 518,
   "metadata": {
    "collapsed": true
   },
   "outputs": [
    {
     "name": "stdout",
     "output_type": "stream",
     "text": [
      "it \t| Q(s, a0) \t| Q(s, a1) \t| a0 > a1\n",
      "0 \t| 8.0 \t| 8.0 \t| False\n",
      "1 \t| 15.6 \t| 15.6 \t| False\n",
      "2 \t| 22.82 \t| 22.82 \t| False\n",
      "3 \t| 29.679 \t| 29.679 \t| False\n",
      "4 \t| 36.19505 \t| 36.19505 \t| False\n",
      "5 \t| 42.3853 \t| 42.3853 \t| False\n",
      "6 \t| 48.26603 \t| 48.26603 \t| False\n",
      "7 \t| 53.85273 \t| 53.85273 \t| True\n",
      "8 \t| 59.16009 \t| 59.16009 \t| False\n",
      "9 \t| 64.20209 \t| 64.20209 \t| False\n",
      "10 \t| 68.99199 \t| 68.99199 \t| False\n",
      "11 \t| 73.54239 \t| 73.54239 \t| False\n",
      "12 \t| 77.86527 \t| 77.86527 \t| False\n",
      "13 \t| 81.972 \t| 81.972 \t| False\n",
      "14 \t| 85.8734 \t| 85.8734 \t| False\n",
      "15 \t| 89.57973 \t| 89.57973 \t| False\n",
      "16 \t| 93.10075 \t| 93.10075 \t| True\n",
      "17 \t| 96.44571 \t| 96.44571 \t| False\n",
      "18 \t| 99.62342 \t| 99.62342 \t| False\n",
      "19 \t| 102.64225 \t| 102.64225 \t| False\n",
      "20 \t| 105.51014 \t| 105.51014 \t| False\n",
      "21 \t| 108.23463 \t| 108.23463 \t| False\n",
      "22 \t| 110.8229 \t| 110.8229 \t| False\n",
      "23 \t| 113.28176 \t| 113.28176 \t| False\n",
      "24 \t| 115.61767 \t| 115.61767 \t| False\n",
      "25 \t| 117.83678 \t| 117.83678 \t| False\n",
      "26 \t| 119.94495 \t| 119.94495 \t| False\n",
      "27 \t| 121.9477 \t| 121.9477 \t| False\n",
      "28 \t| 123.85031 \t| 123.85031 \t| True\n",
      "29 \t| 125.6578 \t| 125.6578 \t| False\n",
      "30 \t| 127.37491 \t| 127.37491 \t| False\n",
      "31 \t| 129.00616 \t| 129.00616 \t| False\n",
      "32 \t| 130.55585 \t| 130.55585 \t| False\n",
      "33 \t| 132.02806 \t| 132.02806 \t| False\n",
      "34 \t| 133.42666 \t| 133.42666 \t| False\n",
      "35 \t| 134.75533 \t| 134.75533 \t| False\n",
      "36 \t| 136.01756 \t| 136.01756 \t| False\n",
      "37 \t| 137.21668 \t| 137.21668 \t| False\n",
      "38 \t| 138.35585 \t| 138.35585 \t| False\n",
      "39 \t| 139.43805 \t| 139.43805 \t| False\n",
      "40 \t| 140.46615 \t| 140.46615 \t| False\n",
      "41 \t| 141.44284 \t| 141.44284 \t| False\n",
      "42 \t| 142.3707 \t| 142.3707 \t| False\n",
      "43 \t| 143.25217 \t| 143.25217 \t| False\n",
      "44 \t| 144.08956 \t| 144.08956 \t| False\n",
      "45 \t| 144.88508 \t| 144.88508 \t| False\n",
      "46 \t| 145.64083 \t| 145.64083 \t| False\n",
      "47 \t| 146.35879 \t| 146.35879 \t| False\n",
      "48 \t| 147.04085 \t| 147.04085 \t| False\n",
      "49 \t| 147.6888 \t| 147.6888 \t| False\n",
      "50 \t| 148.30436 \t| 148.30436 \t| False\n",
      "51 \t| 148.88915 \t| 148.88915 \t| False\n",
      "52 \t| 149.44469 \t| 149.44469 \t| False\n",
      "53 \t| 149.97245 \t| 149.97245 \t| False\n",
      "54 \t| 150.47383 \t| 150.47383 \t| False\n",
      "55 \t| 150.95014 \t| 150.95014 \t| False\n",
      "56 \t| 151.40263 \t| 151.40263 \t| False\n",
      "57 \t| 151.8325 \t| 151.8325 \t| False\n",
      "58 \t| 152.24088 \t| 152.24088 \t| False\n",
      "59 \t| 152.62883 \t| 152.62883 \t| False\n",
      "60 \t| 152.99739 \t| 152.99739 \t| True\n",
      "61 \t| 153.34752 \t| 153.34752 \t| False\n",
      "62 \t| 153.68014 \t| 153.68014 \t| False\n",
      "63 \t| 153.99614 \t| 153.99614 \t| True\n",
      "64 \t| 154.29633 \t| 154.29633 \t| False\n",
      "65 \t| 154.58151 \t| 154.58151 \t| False\n",
      "66 \t| 154.85244 \t| 154.85244 \t| False\n",
      "67 \t| 155.10982 \t| 155.10982 \t| False\n",
      "68 \t| 155.35433 \t| 155.35433 \t| False\n",
      "69 \t| 155.58661 \t| 155.58661 \t| False\n",
      "70 \t| 155.80728 \t| 155.80728 \t| False\n",
      "71 \t| 156.01692 \t| 156.01692 \t| False\n",
      "72 \t| 156.21607 \t| 156.21607 \t| False\n",
      "73 \t| 156.40527 \t| 156.40527 \t| False\n",
      "74 \t| 156.585 \t| 156.585 \t| False\n",
      "75 \t| 156.75575 \t| 156.75575 \t| False\n",
      "76 \t| 156.91796 \t| 156.91796 \t| False\n",
      "77 \t| 157.07207 \t| 157.07207 \t| False\n",
      "78 \t| 157.21846 \t| 157.21846 \t| False\n",
      "79 \t| 157.35754 \t| 157.35754 \t| False\n",
      "80 \t| 157.48966 \t| 157.48966 \t| False\n",
      "81 \t| 157.61518 \t| 157.61518 \t| False\n",
      "82 \t| 157.73442 \t| 157.73442 \t| False\n",
      "83 \t| 157.8477 \t| 157.8477 \t| False\n",
      "84 \t| 157.95531 \t| 157.95531 \t| False\n",
      "85 \t| 158.05755 \t| 158.05755 \t| False\n",
      "86 \t| 158.15467 \t| 158.15467 \t| True\n",
      "87 \t| 158.24694 \t| 158.24694 \t| False\n",
      "88 \t| 158.33459 \t| 158.33459 \t| False\n",
      "89 \t| 158.41786 \t| 158.41786 \t| False\n",
      "90 \t| 158.49697 \t| 158.49697 \t| False\n",
      "91 \t| 158.57212 \t| 158.57212 \t| False\n",
      "92 \t| 158.64351 \t| 158.64351 \t| False\n",
      "93 \t| 158.71134 \t| 158.71134 \t| False\n",
      "94 \t| 158.77577 \t| 158.77577 \t| False\n",
      "95 \t| 158.83698 \t| 158.83698 \t| False\n",
      "96 \t| 158.89513 \t| 158.89513 \t| False\n",
      "97 \t| 158.95038 \t| 158.95038 \t| False\n",
      "98 \t| 159.00286 \t| 159.00286 \t| False\n",
      "99 \t| 159.05272 \t| 159.05272 \t| False\n"
     ]
    }
   ],
   "source": [
    "gamma = 0.95\n",
    "v_0, v_1 = 0, 0\n",
    "p0, p1 = 0.8, 0.4\n",
    "\n",
    "print(f\"it \\t| Q(s, a0) \\t| Q(s, a1) \\t| a0 > a1\")\n",
    "\n",
    "for i in range(100):\n",
    "    \n",
    "    # Policy changes for state 0\n",
    "    q0_a0 = p0 * (10 + gamma * v_0) + (1 - p0) * gamma * v_1\n",
    "    q0_a1 = p1 * (20 + gamma * v_0) + (1 - p1) * gamma * v_1\n",
    "    # print(f\"{i} | {round(q0_a0, 5)} \\t| {round(q0_a1, 5)} \\t| {q0_a0 > q0_a1}\")\n",
    "    \n",
    "    # Policy changes for state 1\n",
    "    q1_a0 = p0 * (10 + gamma * v_1) + (1 - p0) * gamma * v_0\n",
    "    q1_a1 = p1 * (20 + gamma * v_1) + (1 - p1) * gamma * v_0\n",
    "    print(f\"{i} \\t| {round(q1_a0, 5)} \\t| {round(q1_a1, 5)} \\t| {q1_a0 > q1_a1}\")\n",
    "    \n",
    "    # Policy changes for state 2\n",
    "    q2_a0 = p0 * (10 + gamma * v_1) + (1 - p0) * gamma * v_0\n",
    "    q2_a1 = p1 * (20 + gamma * v_1) + (1 - p1) * gamma * v_0\n",
    "    # print(f\"{i} \\t| {round(q2_a0, 5)} \\t| {round(q2_a1, 5)} \\t| {q2_a0 > q2_a1}\")\n",
    "    \n",
    "    # Update state-value function\n",
    "    v_0 = max(q0_a0, q0_a1)\n",
    "    v_1 = max(q1_a0, q1_a1)\n",
    "    v_2 = max(q2_a0, q2_a1)"
   ]
  },
  {
   "cell_type": "code",
   "execution_count": 523,
   "metadata": {},
   "outputs": [],
   "source": [
    "transition_probs = {\n",
    "    's0': {\n",
    "        'a0': {'s0': 0.8, 's1': 0.2},\n",
    "        'a1': {'s0': 0.4, 's1': 0.6}\n",
    "    },\n",
    "    's1': {\n",
    "        'a0': {'s0': 0.2, 's1': 0.8},\n",
    "        'a1': {'s0': 0.6, 's1': 0.4}\n",
    "    },\n",
    "    's2': {\n",
    "        'a0': {'s0': 0.2, 's1': 0.8},\n",
    "        'a1': {'s0': 0.6, 's1': 0.4}\n",
    "    }\n",
    "}\n",
    "rewards = {\n",
    "    's0': {'a0': {'s0': 10}, \n",
    "           'a1': {'s0': 20}},\n",
    "    's1': {'a0': {'s1': 10},\n",
    "           'a1': {'s1': 20}},\n",
    "    's2': {'a0': {'s1': 10},\n",
    "           'a1': {'s1': 20}}\n",
    "}\n",
    "\n",
    "\n",
    "from mdp import MDP\n",
    "from numpy import random\n",
    "mdp = MDP(transition_probs, rewards, initial_state=random.choice(tuple(transition_probs.keys())))\n",
    "# Feel free to change the initial_state"
   ]
  },
  {
   "cell_type": "code",
   "execution_count": 524,
   "metadata": {},
   "outputs": [
    {
     "data": {
      "text/plain": [
       "True"
      ]
     },
     "execution_count": 524,
     "metadata": {},
     "output_type": "execute_result"
    }
   ],
   "source": [
    "# actions a0 and a1 are equivalent if we don't include the future V(s')\n",
    "0.4 * 20 == 0.8 * 10"
   ]
  },
  {
   "cell_type": "code",
   "execution_count": 525,
   "metadata": {
    "scrolled": true
   },
   "outputs": [
    {
     "data": {
      "image/svg+xml": "<?xml version=\"1.0\" encoding=\"UTF-8\" standalone=\"no\"?>\n<!DOCTYPE svg PUBLIC \"-//W3C//DTD SVG 1.1//EN\"\n \"http://www.w3.org/Graphics/SVG/1.1/DTD/svg11.dtd\">\n<!-- Generated by graphviz version 2.50.0 (0)\n -->\n<!-- Title: MDP Pages: 1 -->\n<svg width=\"720pt\" height=\"208pt\"\n viewBox=\"0.00 0.00 720.00 208.44\" xmlns=\"http://www.w3.org/2000/svg\" xmlns:xlink=\"http://www.w3.org/1999/xlink\">\n<g id=\"graph0\" class=\"graph\" transform=\"scale(0.69 0.69) rotate(0) translate(4 297.29)\">\n<title>MDP</title>\n<polygon fill=\"white\" stroke=\"transparent\" points=\"-4,4 -4,-297.29 1036.72,-297.29 1036.72,4 -4,4\"/>\n<!-- s0 -->\n<g id=\"node1\" class=\"node\">\n<title>s0</title>\n<ellipse fill=\"#85ff75\" stroke=\"#85ff75\" cx=\"332.28\" cy=\"-126.29\" rx=\"47.26\" ry=\"47.26\"/>\n<ellipse fill=\"none\" stroke=\"#85ff75\" cx=\"332.28\" cy=\"-126.29\" rx=\"51.25\" ry=\"51.25\"/>\n<text text-anchor=\"middle\" x=\"332.28\" y=\"-133.09\" font-family=\"Arial\" font-size=\"24.00\">s0</text>\n<text text-anchor=\"middle\" x=\"332.28\" y=\"-107.09\" font-family=\"Arial\" font-size=\"24.00\">V =0</text>\n</g>\n<!-- s0&#45;a0 -->\n<g id=\"node2\" class=\"node\">\n<title>s0&#45;a0</title>\n<ellipse fill=\"lightpink\" stroke=\"lightpink\" cx=\"586.24\" cy=\"-90.29\" rx=\"27.65\" ry=\"27.65\"/>\n<text text-anchor=\"middle\" x=\"586.24\" y=\"-85.29\" font-family=\"Arial\" font-size=\"20.00\">a0</text>\n</g>\n<!-- s0&#45;&gt;s0&#45;a0 -->\n<g id=\"edge1\" class=\"edge\">\n<title>s0&#45;&gt;s0&#45;a0</title>\n<path fill=\"none\" stroke=\"red\" stroke-width=\"2\" d=\"M375.22,-97.93C383.64,-93.54 392.68,-89.67 401.66,-87.29 451.37,-74.11 511.33,-78.73 548.88,-83.95\"/>\n<polygon fill=\"red\" stroke=\"red\" stroke-width=\"2\" points=\"548.45,-87.42 558.85,-85.43 549.47,-80.5 548.45,-87.42\"/>\n</g>\n<!-- s0&#45;a1 -->\n<g id=\"node4\" class=\"node\">\n<title>s0&#45;a1</title>\n<ellipse fill=\"lightpink\" stroke=\"lightpink\" cx=\"586.24\" cy=\"-163.29\" rx=\"27.65\" ry=\"27.65\"/>\n<text text-anchor=\"middle\" x=\"586.24\" y=\"-158.29\" font-family=\"Arial\" font-size=\"20.00\">a1</text>\n</g>\n<!-- s0&#45;&gt;s0&#45;a1 -->\n<g id=\"edge4\" class=\"edge\">\n<title>s0&#45;&gt;s0&#45;a1</title>\n<path fill=\"none\" stroke=\"red\" stroke-width=\"2\" d=\"M375.14,-155.36C383.58,-159.87 392.63,-163.84 401.66,-166.29 451.29,-179.74 511.28,-175.04 548.85,-169.73\"/>\n<polygon fill=\"red\" stroke=\"red\" stroke-width=\"2\" points=\"549.46,-173.18 558.83,-168.23 548.42,-166.26 549.46,-173.18\"/>\n</g>\n<!-- s0&#45;a0&#45;&gt;s0 -->\n<g id=\"edge2\" class=\"edge\">\n<title>s0&#45;a0&#45;&gt;s0</title>\n<path fill=\"none\" stroke=\"blue\" stroke-dasharray=\"5,2\" d=\"M558.58,-91.26C522.68,-92.91 456.91,-97.14 401.66,-107.29 398.28,-107.91 394.84,-108.61 391.37,-109.39\"/>\n<polygon fill=\"blue\" stroke=\"blue\" points=\"390.51,-105.99 381.59,-111.71 392.13,-112.8 390.51,-105.99\"/>\n<text text-anchor=\"middle\" x=\"471.16\" y=\"-112.49\" font-family=\"Arial\" font-size=\"16.00\">p = 0.8 &#160;reward =10</text>\n</g>\n<!-- s1 -->\n<g id=\"node3\" class=\"node\">\n<title>s1</title>\n<ellipse fill=\"#85ff75\" stroke=\"#85ff75\" cx=\"751.19\" cy=\"-134.29\" rx=\"47.26\" ry=\"47.26\"/>\n<ellipse fill=\"none\" stroke=\"#85ff75\" cx=\"751.19\" cy=\"-134.29\" rx=\"51.25\" ry=\"51.25\"/>\n<text text-anchor=\"middle\" x=\"751.19\" y=\"-141.09\" font-family=\"Arial\" font-size=\"24.00\">s1</text>\n<text text-anchor=\"middle\" x=\"751.19\" y=\"-115.09\" font-family=\"Arial\" font-size=\"24.00\">V =0</text>\n</g>\n<!-- s0&#45;a0&#45;&gt;s1 -->\n<g id=\"edge3\" class=\"edge\">\n<title>s0&#45;a0&#45;&gt;s1</title>\n<path fill=\"none\" stroke=\"blue\" stroke-dasharray=\"5,2\" d=\"M613.06,-97.26C634.16,-102.95 664.8,-111.23 691.77,-118.51\"/>\n<polygon fill=\"blue\" stroke=\"blue\" points=\"690.95,-121.91 701.51,-121.14 692.77,-115.16 690.95,-121.91\"/>\n<text text-anchor=\"middle\" x=\"656.81\" y=\"-119.49\" font-family=\"Arial\" font-size=\"16.00\">p = 0.2</text>\n</g>\n<!-- s1&#45;a0 -->\n<g id=\"node5\" class=\"node\">\n<title>s1&#45;a0</title>\n<ellipse fill=\"lightpink\" stroke=\"lightpink\" cx=\"1005.14\" cy=\"-181.29\" rx=\"27.65\" ry=\"27.65\"/>\n<text text-anchor=\"middle\" x=\"1005.14\" y=\"-176.29\" font-family=\"Arial\" font-size=\"20.00\">a0</text>\n</g>\n<!-- s1&#45;&gt;s1&#45;a0 -->\n<g id=\"edge7\" class=\"edge\">\n<title>s1&#45;&gt;s1&#45;a0</title>\n<path fill=\"none\" stroke=\"red\" stroke-width=\"2\" d=\"M796.51,-158.59C804.33,-162.03 812.55,-165.13 820.57,-167.29 870.01,-180.59 929.45,-182.73 967.02,-182.46\"/>\n<polygon fill=\"red\" stroke=\"red\" stroke-width=\"2\" points=\"967.53,-185.96 977.48,-182.32 967.43,-178.96 967.53,-185.96\"/>\n</g>\n<!-- s1&#45;a1 -->\n<g id=\"node6\" class=\"node\">\n<title>s1&#45;a1</title>\n<ellipse fill=\"lightpink\" stroke=\"lightpink\" cx=\"1005.14\" cy=\"-82.29\" rx=\"27.65\" ry=\"27.65\"/>\n<text text-anchor=\"middle\" x=\"1005.14\" y=\"-77.29\" font-family=\"Arial\" font-size=\"20.00\">a1</text>\n</g>\n<!-- s1&#45;&gt;s1&#45;a1 -->\n<g id=\"edge10\" class=\"edge\">\n<title>s1&#45;&gt;s1&#45;a1</title>\n<path fill=\"none\" stroke=\"red\" stroke-width=\"2\" d=\"M802.38,-129.78C844.85,-125.15 907.02,-116.42 959.57,-101.29 963.17,-100.25 966.88,-98.99 970.54,-97.63\"/>\n<polygon fill=\"red\" stroke=\"red\" stroke-width=\"2\" points=\"972.02,-100.8 980.01,-93.84 969.43,-94.3 972.02,-100.8\"/>\n</g>\n<!-- s0&#45;a1&#45;&gt;s0 -->\n<g id=\"edge5\" class=\"edge\">\n<title>s0&#45;a1&#45;&gt;s0</title>\n<path fill=\"none\" stroke=\"blue\" stroke-dasharray=\"5,2\" d=\"M561.19,-151.4C554.67,-148.63 547.52,-146 540.66,-144.29 492.24,-132.19 435.7,-127.91 393.9,-126.53\"/>\n<polygon fill=\"blue\" stroke=\"blue\" points=\"393.97,-123.03 383.88,-126.24 393.77,-130.02 393.97,-123.03\"/>\n<text text-anchor=\"middle\" x=\"471.16\" y=\"-149.49\" font-family=\"Arial\" font-size=\"16.00\">p = 0.4 &#160;reward =20</text>\n</g>\n<!-- s0&#45;a1&#45;&gt;s1 -->\n<g id=\"edge6\" class=\"edge\">\n<title>s0&#45;a1&#45;&gt;s1</title>\n<path fill=\"none\" stroke=\"blue\" stroke-dasharray=\"5,2\" d=\"M613.42,-158.63C634.16,-154.93 663.95,-149.63 690.44,-144.92\"/>\n<polygon fill=\"blue\" stroke=\"blue\" points=\"691.17,-148.34 700.41,-143.15 689.95,-141.45 691.17,-148.34\"/>\n<text text-anchor=\"middle\" x=\"656.81\" y=\"-159.49\" font-family=\"Arial\" font-size=\"16.00\">p = 0.6</text>\n</g>\n<!-- s1&#45;a0&#45;&gt;s0 -->\n<g id=\"edge8\" class=\"edge\">\n<title>s1&#45;a0&#45;&gt;s0</title>\n<path fill=\"none\" stroke=\"blue\" stroke-dasharray=\"5,2\" d=\"M977.81,-185.95C971.83,-186.86 965.49,-187.71 959.57,-188.29 890.06,-195.05 872.35,-191.84 802.57,-194.29 624.44,-200.52 565.65,-254.11 401.66,-184.29 392.93,-180.57 384.48,-175.33 376.67,-169.51\"/>\n<polygon fill=\"blue\" stroke=\"blue\" points=\"378.48,-166.48 368.47,-163.01 374.13,-171.97 378.48,-166.48\"/>\n<text text-anchor=\"middle\" x=\"656.81\" y=\"-217.49\" font-family=\"Arial\" font-size=\"16.00\">p = 0.2</text>\n</g>\n<!-- s1&#45;a0&#45;&gt;s1 -->\n<g id=\"edge9\" class=\"edge\">\n<title>s1&#45;a0&#45;&gt;s1</title>\n<path fill=\"none\" stroke=\"blue\" stroke-dasharray=\"5,2\" d=\"M985.44,-161.82C978.04,-155.37 969.04,-148.92 959.57,-145.29 912.61,-127.28 855.25,-125.63 812.77,-127.86\"/>\n<polygon fill=\"blue\" stroke=\"blue\" points=\"812.34,-124.38 802.58,-128.48 812.77,-131.36 812.34,-124.38\"/>\n<text text-anchor=\"middle\" x=\"890.07\" y=\"-150.49\" font-family=\"Arial\" font-size=\"16.00\">p = 0.8 &#160;reward =10</text>\n</g>\n<!-- s1&#45;a1&#45;&gt;s0 -->\n<g id=\"edge11\" class=\"edge\">\n<title>s1&#45;a1&#45;&gt;s0</title>\n<path fill=\"none\" stroke=\"blue\" stroke-dasharray=\"5,2\" d=\"M980.16,-70.13C973.64,-67.37 966.47,-64.8 959.57,-63.29 789.82,-26.05 681.45,-45.11 558.66,-53.29 488.42,-57.96 466.73,-47.42 401.66,-74.29 393.93,-77.48 386.31,-81.76 379.12,-86.51\"/>\n<polygon fill=\"blue\" stroke=\"blue\" points=\"377.08,-83.67 370.89,-92.26 381.09,-89.4 377.08,-83.67\"/>\n<text text-anchor=\"middle\" x=\"656.81\" y=\"-52.49\" font-family=\"Arial\" font-size=\"16.00\">p = 0.6</text>\n</g>\n<!-- s1&#45;a1&#45;&gt;s1 -->\n<g id=\"edge12\" class=\"edge\">\n<title>s1&#45;a1&#45;&gt;s1</title>\n<path fill=\"none\" stroke=\"blue\" stroke-dasharray=\"5,2\" d=\"M978,-76.31C941.55,-69.2 873.93,-60.49 820.57,-79.29 812.2,-82.23 804.1,-86.68 796.59,-91.8\"/>\n<polygon fill=\"blue\" stroke=\"blue\" points=\"794.04,-89.33 788.04,-98.07 798.18,-94.97 794.04,-89.33\"/>\n<text text-anchor=\"middle\" x=\"890.07\" y=\"-84.49\" font-family=\"Arial\" font-size=\"16.00\">p = 0.4 &#160;reward =20</text>\n</g>\n<!-- s2 -->\n<g id=\"node7\" class=\"node\">\n<title>s2</title>\n<ellipse fill=\"#85ff75\" stroke=\"#85ff75\" cx=\"51.38\" cy=\"-125.29\" rx=\"47.26\" ry=\"47.26\"/>\n<ellipse fill=\"none\" stroke=\"#85ff75\" cx=\"51.38\" cy=\"-125.29\" rx=\"51.25\" ry=\"51.25\"/>\n<text text-anchor=\"middle\" x=\"51.38\" y=\"-132.09\" font-family=\"Arial\" font-size=\"24.00\">s2</text>\n<text text-anchor=\"middle\" x=\"51.38\" y=\"-106.09\" font-family=\"Arial\" font-size=\"24.00\">V =0</text>\n</g>\n<!-- s2&#45;a0 -->\n<g id=\"node8\" class=\"node\">\n<title>s2&#45;a0</title>\n<ellipse fill=\"lightpink\" stroke=\"lightpink\" cx=\"167.33\" cy=\"-162.29\" rx=\"27.65\" ry=\"27.65\"/>\n<text text-anchor=\"middle\" x=\"167.33\" y=\"-157.29\" font-family=\"Arial\" font-size=\"20.00\">a0</text>\n</g>\n<!-- s2&#45;&gt;s2&#45;a0 -->\n<g id=\"edge13\" class=\"edge\">\n<title>s2&#45;&gt;s2&#45;a0</title>\n<path fill=\"none\" stroke=\"red\" stroke-width=\"2\" d=\"M100.37,-140.87C110.67,-144.21 121.36,-147.68 131.06,-150.83\"/>\n<polygon fill=\"red\" stroke=\"red\" stroke-width=\"2\" points=\"130.17,-154.22 140.76,-153.98 132.33,-147.57 130.17,-154.22\"/>\n</g>\n<!-- s2&#45;a1 -->\n<g id=\"node9\" class=\"node\">\n<title>s2&#45;a1</title>\n<ellipse fill=\"lightpink\" stroke=\"lightpink\" cx=\"167.33\" cy=\"-89.29\" rx=\"27.65\" ry=\"27.65\"/>\n<text text-anchor=\"middle\" x=\"167.33\" y=\"-84.29\" font-family=\"Arial\" font-size=\"20.00\">a1</text>\n</g>\n<!-- s2&#45;&gt;s2&#45;a1 -->\n<g id=\"edge16\" class=\"edge\">\n<title>s2&#45;&gt;s2&#45;a1</title>\n<path fill=\"none\" stroke=\"red\" stroke-width=\"2\" d=\"M100.7,-110.02C110.97,-106.78 121.62,-103.41 131.27,-100.36\"/>\n<polygon fill=\"red\" stroke=\"red\" stroke-width=\"2\" points=\"132.44,-103.66 140.92,-97.31 130.33,-96.99 132.44,-103.66\"/>\n</g>\n<!-- s2&#45;a0&#45;&gt;s0 -->\n<g id=\"edge14\" class=\"edge\">\n<title>s2&#45;a0&#45;&gt;s0</title>\n<path fill=\"none\" stroke=\"blue\" stroke-dasharray=\"5,2\" d=\"M194.51,-156.5C215.33,-151.9 245.28,-145.29 271.84,-139.42\"/>\n<polygon fill=\"blue\" stroke=\"blue\" points=\"272.82,-142.79 281.83,-137.21 271.31,-135.95 272.82,-142.79\"/>\n<text text-anchor=\"middle\" x=\"237.91\" y=\"-156.49\" font-family=\"Arial\" font-size=\"16.00\">p = 0.2</text>\n</g>\n<!-- s2&#45;a0&#45;&gt;s1 -->\n<g id=\"edge15\" class=\"edge\">\n<title>s2&#45;a0&#45;&gt;s1</title>\n<path fill=\"none\" stroke=\"blue\" stroke-dasharray=\"5,2\" d=\"M191.59,-175.45C267.45,-216.51 512.52,-334.01 681.81,-241.29 701.85,-230.31 716.87,-210.69 727.65,-191.22\"/>\n<polygon fill=\"blue\" stroke=\"blue\" points=\"730.77,-192.8 732.31,-182.31 724.57,-189.55 730.77,-192.8\"/>\n<text text-anchor=\"middle\" x=\"471.16\" y=\"-280.49\" font-family=\"Arial\" font-size=\"16.00\">p = 0.8 &#160;reward =10</text>\n</g>\n<!-- s2&#45;a1&#45;&gt;s0 -->\n<g id=\"edge17\" class=\"edge\">\n<title>s2&#45;a1&#45;&gt;s0</title>\n<path fill=\"none\" stroke=\"blue\" stroke-dasharray=\"5,2\" d=\"M194.51,-95.23C215.33,-99.96 245.28,-106.76 271.84,-112.79\"/>\n<polygon fill=\"blue\" stroke=\"blue\" points=\"271.3,-116.26 281.83,-115.06 272.85,-109.43 271.3,-116.26\"/>\n<text text-anchor=\"middle\" x=\"237.91\" y=\"-114.49\" font-family=\"Arial\" font-size=\"16.00\">p = 0.6</text>\n</g>\n<!-- s2&#45;a1&#45;&gt;s1 -->\n<g id=\"edge18\" class=\"edge\">\n<title>s2&#45;a1&#45;&gt;s1</title>\n<path fill=\"none\" stroke=\"blue\" stroke-dasharray=\"5,2\" d=\"M192.5,-77.88C269.58,-43.3 514.35,52.58 681.81,-39.29 698.5,-48.44 712.13,-63.61 722.7,-79.17\"/>\n<polygon fill=\"blue\" stroke=\"blue\" points=\"719.91,-81.3 728.26,-87.82 725.8,-77.52 719.91,-81.3\"/>\n<text text-anchor=\"middle\" x=\"471.16\" y=\"-15.49\" font-family=\"Arial\" font-size=\"16.00\">p = 0.4 &#160;reward =20</text>\n</g>\n</g>\n</svg>\n",
      "text/plain": [
       "<graphviz.graphs.Digraph at 0x1ee854f3e50>"
      ]
     },
     "metadata": {},
     "output_type": "display_data"
    }
   ],
   "source": [
    "state_values = {s: 0 for s in mdp.get_all_states()}\n",
    "display(plot_graph_with_state_values(mdp, state_values))"
   ]
  },
  {
   "cell_type": "code",
   "execution_count": 539,
   "metadata": {
    "collapsed": true
   },
   "outputs": [
    {
     "name": "stdout",
     "output_type": "stream",
     "text": [
      "iter    0   |   diff: 8.00000   |   V(start): 8.000 \n",
      "iter    0   |   diff: 7.20000   |   V(start): 15.200 \n",
      "iter    0   |   diff: 6.48000   |   V(start): 21.680 \n",
      "iteration 2, N actions changed = 3\n",
      "iter    0   |   diff: 5.83200   |   V(start): 27.512 \n",
      "iteration 3, N actions changed = 3\n",
      "iter    0   |   diff: 5.24880   |   V(start): 32.761 \n",
      "iteration 4, N actions changed = 3\n",
      "iter    0   |   diff: 4.72392   |   V(start): 37.485 \n",
      "iter    0   |   diff: 4.25153   |   V(start): 41.736 \n",
      "iteration 6, N actions changed = 3\n",
      "iter    0   |   diff: 3.82638   |   V(start): 45.563 \n",
      "iter    0   |   diff: 3.44374   |   V(start): 49.006 \n",
      "iter    0   |   diff: 3.09936   |   V(start): 52.106 \n",
      "iter    0   |   diff: 2.78943   |   V(start): 54.895 \n",
      "iter    0   |   diff: 2.51048   |   V(start): 57.406 \n",
      "iter    0   |   diff: 2.25944   |   V(start): 59.665 \n",
      "iter    0   |   diff: 2.03349   |   V(start): 61.699 \n",
      "iter    0   |   diff: 1.83014   |   V(start): 63.529 \n",
      "iter    0   |   diff: 1.64713   |   V(start): 65.176 \n",
      "iter    0   |   diff: 1.48242   |   V(start): 66.658 \n",
      "iter    0   |   diff: 1.33417   |   V(start): 67.992 \n",
      "iter    0   |   diff: 1.20076   |   V(start): 69.193 \n",
      "iter    0   |   diff: 1.08068   |   V(start): 70.274 \n",
      "iter    0   |   diff: 0.97261   |   V(start): 71.246 \n",
      "iter    0   |   diff: 0.87535   |   V(start): 72.122 \n",
      "iter    0   |   diff: 0.78782   |   V(start): 72.910 \n",
      "iter    0   |   diff: 0.70904   |   V(start): 73.619 \n",
      "iter    0   |   diff: 0.63813   |   V(start): 74.257 \n",
      "iter    0   |   diff: 0.57432   |   V(start): 74.831 \n",
      "iter    0   |   diff: 0.51689   |   V(start): 75.348 \n",
      "iter    0   |   diff: 0.46520   |   V(start): 75.813 \n",
      "iter    0   |   diff: 0.41868   |   V(start): 76.232 \n",
      "iter    0   |   diff: 0.37681   |   V(start): 76.609 \n",
      "iter    0   |   diff: 0.33913   |   V(start): 76.948 \n",
      "iter    0   |   diff: 0.30522   |   V(start): 77.253 \n",
      "iter    0   |   diff: 0.27469   |   V(start): 77.528 \n",
      "iter    0   |   diff: 0.24723   |   V(start): 77.775 \n",
      "iter    0   |   diff: 0.22250   |   V(start): 77.997 \n",
      "iteration 34, N actions changed = 3\n",
      "iter    0   |   diff: 0.20025   |   V(start): 78.198 \n",
      "iteration 35, N actions changed = 3\n",
      "iter    0   |   diff: 0.18023   |   V(start): 78.378 \n",
      "iter    0   |   diff: 0.16220   |   V(start): 78.540 \n",
      "iter    0   |   diff: 0.14598   |   V(start): 78.686 \n",
      "iter    0   |   diff: 0.13139   |   V(start): 78.818 \n",
      "iteration 39, N actions changed = 3\n",
      "iter    0   |   diff: 0.11825   |   V(start): 78.936 \n",
      "iteration 40, N actions changed = 3\n",
      "iter    0   |   diff: 0.10642   |   V(start): 79.042 \n",
      "iter    0   |   diff: 0.09578   |   V(start): 79.138 \n",
      "iter    0   |   diff: 0.08620   |   V(start): 79.224 \n",
      "iter    0   |   diff: 0.07758   |   V(start): 79.302 \n",
      "iter    0   |   diff: 0.06982   |   V(start): 79.372 \n",
      "iter    0   |   diff: 0.06284   |   V(start): 79.434 \n",
      "iteration 46, N actions changed = 3\n",
      "iter    0   |   diff: 0.05656   |   V(start): 79.491 \n",
      "iteration 47, N actions changed = 3\n",
      "iter    0   |   diff: 0.05090   |   V(start): 79.542 \n",
      "iteration 48, N actions changed = 3\n",
      "iter    0   |   diff: 0.04581   |   V(start): 79.588 \n",
      "iteration 49, N actions changed = 3\n",
      "iter    0   |   diff: 0.04123   |   V(start): 79.629 \n",
      "iter    0   |   diff: 0.03711   |   V(start): 79.666 \n",
      "iter    0   |   diff: 0.03340   |   V(start): 79.699 \n",
      "iter    0   |   diff: 0.03006   |   V(start): 79.729 \n",
      "iter    0   |   diff: 0.02705   |   V(start): 79.757 \n",
      "iter    0   |   diff: 0.02435   |   V(start): 79.781 \n",
      "iteration 55, N actions changed = 3\n",
      "iter    0   |   diff: 0.02191   |   V(start): 79.803 \n",
      "iteration 56, N actions changed = 3\n",
      "iter    0   |   diff: 0.01972   |   V(start): 79.823 \n",
      "iteration 57, N actions changed = 3\n",
      "iter    0   |   diff: 0.01775   |   V(start): 79.840 \n",
      "iter    0   |   diff: 0.01597   |   V(start): 79.856 \n",
      "iteration 59, N actions changed = 3\n",
      "iter    0   |   diff: 0.01438   |   V(start): 79.871 \n",
      "iter    0   |   diff: 0.01294   |   V(start): 79.884 \n",
      "iter    0   |   diff: 0.01164   |   V(start): 79.895 \n",
      "iter    0   |   diff: 0.01048   |   V(start): 79.906 \n",
      "iter    0   |   diff: 0.00943   |   V(start): 79.915 \n",
      "iter    0   |   diff: 0.00849   |   V(start): 79.924 \n",
      "iter    0   |   diff: 0.00764   |   V(start): 79.931 \n",
      "iter    0   |   diff: 0.00688   |   V(start): 79.938 \n",
      "iter    0   |   diff: 0.00619   |   V(start): 79.944 \n",
      "iter    0   |   diff: 0.00557   |   V(start): 79.950 \n",
      "iter    0   |   diff: 0.00501   |   V(start): 79.955 \n",
      "iter    0   |   diff: 0.00451   |   V(start): 79.959 \n",
      "iter    0   |   diff: 0.00406   |   V(start): 79.963 \n",
      "iter    0   |   diff: 0.00365   |   V(start): 79.967 \n",
      "iter    0   |   diff: 0.00329   |   V(start): 79.970 \n",
      "iter    0   |   diff: 0.00296   |   V(start): 79.973 \n",
      "iter    0   |   diff: 0.00266   |   V(start): 79.976 \n",
      "iter    0   |   diff: 0.00240   |   V(start): 79.978 \n",
      "iter    0   |   diff: 0.00216   |   V(start): 79.981 \n",
      "iter    0   |   diff: 0.00194   |   V(start): 79.983 \n",
      "iter    0   |   diff: 0.00175   |   V(start): 79.984 \n",
      "iter    0   |   diff: 0.00157   |   V(start): 79.986 \n",
      "iter    0   |   diff: 0.00142   |   V(start): 79.987 \n",
      "iteration 82, N actions changed = 3\n",
      "iter    0   |   diff: 0.00127   |   V(start): 79.989 \n",
      "iteration 83, N actions changed = 3\n",
      "iter    0   |   diff: 0.00115   |   V(start): 79.990 \n",
      "iter    0   |   diff: 0.00103   |   V(start): 79.991 \n",
      "iteration 85, N actions changed = 3\n",
      "iter    0   |   diff: 0.00093   |   V(start): 79.992 \n",
      "iteration 86, N actions changed = 3\n",
      "iter    0   |   diff: 0.00084   |   V(start): 79.992 \n",
      "iter    0   |   diff: 0.00075   |   V(start): 79.993 \n",
      "iter    0   |   diff: 0.00068   |   V(start): 79.994 \n",
      "iter    0   |   diff: 0.00061   |   V(start): 79.995 \n",
      "iter    0   |   diff: 0.00055   |   V(start): 79.995 \n",
      "iter    0   |   diff: 0.00049   |   V(start): 79.996 \n",
      "iteration 92, N actions changed = 3\n",
      "iter    0   |   diff: 0.00044   |   V(start): 79.996 \n",
      "iteration 93, N actions changed = 3\n",
      "iter    0   |   diff: 0.00040   |   V(start): 79.996 \n",
      "iter    0   |   diff: 0.00036   |   V(start): 79.997 \n",
      "iter    0   |   diff: 0.00032   |   V(start): 79.997 \n",
      "iter    0   |   diff: 0.00029   |   V(start): 79.997 \n",
      "iter    0   |   diff: 0.00026   |   V(start): 79.998 \n",
      "iter    0   |   diff: 0.00024   |   V(start): 79.998 \n"
     ]
    }
   ],
   "source": [
    "state_values = {s: 0 for s in mdp.get_all_states()}\n",
    "gamma = 0.95\n",
    "policy = np.array([get_optimal_action(mdp, state_values, state, gamma)\n",
    "                   for state in sorted(mdp.get_all_states())])\n",
    "\n",
    "for i in range(100):\n",
    "    state_values = value_iteration(mdp, state_values, num_iter=1)\n",
    "\n",
    "    new_policy = np.array([get_optimal_action(mdp, state_values, state, gamma)\n",
    "                           for state in sorted(mdp.get_all_states())])\n",
    "    \n",
    "    n_changes = (policy != new_policy).sum()\n",
    "    if n_changes > 0:\n",
    "        print(\"iteration %i, N actions changed = %i\" % (i, n_changes))\n",
    "    policy = new_policy\n",
    "\n",
    "# please ignore iter 0 at each step"
   ]
  },
  {
   "cell_type": "markdown",
   "metadata": {},
   "source": [
    "### Value iteration convervence proof (1 pts)\n",
    "**Note:** Assume that $\\mathcal{S}, \\mathcal{A}$ are finite.\n",
    "\n",
    "Update of value function in value iteration can be rewritten in a form of Bellman operator:\n",
    "\n",
    "$$(TV)(s) = \\max_{a \\in \\mathcal{A}}\\mathbb{E}\\left[ r_{t+1} + \\gamma V(s_{t+1}) | s_t = s, a_t = a\\right]$$\n",
    "\n",
    "Value iteration algorithm with Bellman operator:\n",
    "\n",
    "---\n",
    "&nbsp;&nbsp; Initialize $V_0$\n",
    "\n",
    "&nbsp;&nbsp; **for** $k = 0,1,2,...$ **do**\n",
    "\n",
    "&nbsp;&nbsp;&nbsp;&nbsp; $V_{k+1} \\leftarrow TV_k$\n",
    "\n",
    "&nbsp;&nbsp;**end for**\n",
    "\n",
    "---\n",
    "\n",
    "In [lecture](https://docs.google.com/presentation/d/1lz2oIUTvd2MHWKEQSH8hquS66oe4MZ_eRvVViZs2uuE/edit#slide=id.g4fd6bae29e_2_4) we established contraction property of bellman operator:\n",
    "\n",
    "$$\n",
    "||TV - TU||_{\\infty} \\le \\gamma ||V - U||_{\\infty}\n",
    "$$\n",
    "\n",
    "For all $V, U$\n",
    "\n",
    "Using contraction property of Bellman operator, Banach fixed-point theorem and Bellman equations prove that value function converges to $V^*$ in value iteration.\n",
    "\n",
    "**Proof:** \\\n",
    "Let $(\\mathcal{V}, d)$ be a non-empty complete space with a contraction mapping $T:\\mathcal{V} \\to \\mathcal{V}$. Then $T$ admits a unique fixed-point $V^{*}$ in $\\mathcal{V}$ (i.e. $T(V^{*})=V^{*}$). Furthermore, $V^{*}$ can be found as follows: start with an arbitrary element $V_{0}\\in \\mathcal{V}$ and define a sequence $(V_{k})_{{k\\in {\\mathbb N}}}$ by $V_{k}=T(V_{k-1})$ for $k\\geq 1$. Which is the exact value iteration algorithm. Then $lim _{k\\to \\infty }V_{k}=V^{*}$.\n",
    "\n",
    "[Banach_fixed-point_theorem source](https://en.wikipedia.org/wiki/Banach_fixed-point_theorem)"
   ]
  },
  {
   "cell_type": "markdown",
   "metadata": {},
   "source": [
    "### Asynchronious value iteration (2 pts)\n",
    "\n",
    "Consider the following algorithm:\n",
    "\n",
    "---\n",
    "\n",
    "Initialize $V_0$\n",
    "\n",
    "**for** $k = 0,1,2,...$ **do**\n",
    "\n",
    "&nbsp;&nbsp;&nbsp;&nbsp; Select some state $s_k \\in \\mathcal{S}$    \n",
    "\n",
    "&nbsp;&nbsp;&nbsp;&nbsp; $V(s_k) := (TV)(s_k)$\n",
    "\n",
    "**end for**\n",
    "\n",
    "---\n",
    "\n",
    "\n",
    "Note that unlike common value iteration, here we update only a single state at a time.\n",
    "\n",
    "**Homework.** Prove the following proposition:\n",
    "\n",
    "If for all $s \\in \\mathcal{S}$, $s$ appears in the sequence $(s_0, s_1, ...)$ infinitely often, then $V$ converges to $V*$\n",
    "\n",
    "**Proof:** Let's split the sequence $(s_0, s_1, ... )$ into subsequences defined as $\\mathcal{S}^{k} = (s_0^{k}, s_1^{k}, ...)$, where each $k$ corresponds to a state. This is possible since every state appears in the original sequence infinitely often. \\\n",
    "From the lecture we know that $(TV)(s)$ has a contraction property. Consider setting where $r = r(s_k, a, s_k')$ then for all $V(s_k), U(s_k)$\n",
    "$$\n",
    "|(TV)(s_k) - (TU)(s_k)| \\le \\gamma ||V(s_k) - U(s_k)||_{\\infty}.\n",
    "$$\n",
    "Now we can apply Banach fixed-point theorem. \n",
    "Let $(\\mathcal{V_k}, d)$ be a non-empty complete metric space with a contraction mapping $T:\\mathcal{V_k} \\to \\mathcal{V_k}$. \n",
    "Then $T$ admits a unique fixed-point $V^{*}(s_k)$ in $\\mathcal{V_k}$ (i.e. $TV^{*}(s_k)=V^{*}(s_k)$). \n",
    "Furthermore, $V^{*}(s_k)$ can be found as follows: start with an arbitrary element $V_{0}(s_k)\\in \\mathcal{V_k}$ and define a sequence $(V_{n}(s_k))_{{n\\in {\\mathbb N}}}$ by $V_{n}(s_k)=TV_{n-1}(s_k)$ for $n\\geq 1$. \n",
    "Then $lim _{n\\to \\infty }V_{n}(s_k)=V^{*}(s_k)$. \\\n",
    "Finally, for all $k$ we have $(V^{*}(s_1), V^{*}(s_2), ..., V^{*}(s_k)) = V^{*}$."
   ]
  },
  {
   "cell_type": "markdown",
   "metadata": {},
   "source": [
    "# HW Part 2: Policy iteration\n",
    "\n",
    "## Policy iteration implementateion (3 pts)\n",
    "\n",
    "Let's implement exact policy iteration (PI), which has the following pseudocode:\n",
    "\n",
    "---\n",
    "Initialize $\\pi_0$   `// random or fixed action`\n",
    "\n",
    "For $n=0, 1, 2, \\dots$\n",
    "- Compute the state-value function $V^{\\pi_{n}}$\n",
    "- Using $V^{\\pi_{n}}$, compute the state-action-value function $Q^{\\pi_{n}}$\n",
    "- Compute new policy $\\pi_{n+1}(s) = \\operatorname*{argmax}_a Q^{\\pi_{n}}(s,a)$\n",
    "---\n",
    "\n",
    "Unlike VI, policy iteration has to maintain a policy - chosen actions from all states - and estimate $V^{\\pi_{n}}$ based on this policy. It only changes policy once values converged.\n",
    "\n",
    "\n",
    "Below are a few helpers that you may or may not use in your implementation."
   ]
  },
  {
   "cell_type": "code",
   "execution_count": 553,
   "metadata": {},
   "outputs": [],
   "source": [
    "transition_probs = {\n",
    "    's0': {\n",
    "        'a0': {'s0': 0.5, 's2': 0.5},\n",
    "        'a1': {'s2': 1}\n",
    "    },\n",
    "    's1': {\n",
    "        'a0': {'s0': 0.7, 's1': 0.1, 's2': 0.2},\n",
    "        'a1': {'s1': 0.95, 's2': 0.05}\n",
    "    },\n",
    "    's2': {\n",
    "        'a0': {'s0': 0.4, 's1': 0.6},\n",
    "        'a1': {'s0': 0.3, 's1': 0.3, 's2': 0.4}\n",
    "    }\n",
    "}\n",
    "rewards = {\n",
    "    's1': {'a0': {'s0': +5}},\n",
    "    's2': {'a1': {'s0': -1}}\n",
    "}\n",
    "\n",
    "from mdp import MDP\n",
    "mdp = MDP(transition_probs, rewards, initial_state='s0')"
   ]
  },
  {
   "cell_type": "markdown",
   "metadata": {},
   "source": [
    "Let's write a function called `compute_vpi` that computes the state-value function $V^{\\pi}$ for an arbitrary policy $\\pi$.\n",
    "\n",
    "Unlike VI, this time you must find the exact solution, not just a single iteration.\n",
    "\n",
    "Recall that $V^{\\pi}$ satisfies the following linear equation:\n",
    "$$V^{\\pi}(s) = \\sum_{s'} P(s,\\pi(s),s')[ R(s,\\pi(s),s') + \\gamma V^{\\pi}(s')]$$\n",
    "\n",
    "You'll have to solve a linear system in your code. (Find an exact solution, e.g., with `np.linalg.solve`.)"
   ]
  },
  {
   "cell_type": "markdown",
   "metadata": {},
   "source": [
    "$V^{\\pi}(s) = \\sum_{s'} P(s,\\pi(s),s')[ R(s,\\pi(s),s') + \\gamma V^{\\pi}(s')]$ \\\n",
    "$V^{\\pi}(s) = \\sum_{s'} P(s,\\pi(s),s') R(s,\\pi(s),s') + \\gamma \\sum_{s'} P(s,\\pi(s),s') V^{\\pi}(s')$ \\\n",
    "$V^{\\pi}_{[s x 1]} = \\sum_{s'}(P \\odot R)_{[s x 1]} + \\gamma P_{[s x s']} V^{\\pi}_{[s' x 1]}$ \\\n",
    "$(I - \\gamma P) V^{\\pi} = \\sum_{s'}(P \\odot R)$ \\\n",
    "$A V^{\\pi} = B$.\n"
   ]
  },
  {
   "cell_type": "code",
   "execution_count": 292,
   "metadata": {},
   "outputs": [],
   "source": [
    "def compute_vpi(mdp, policy, gamma):\n",
    "    \"\"\"\n",
    "    Computes V^pi(s) FOR ALL STATES under given policy.\n",
    "    :param policy: a dict of currently chosen actions {s : a}\n",
    "    :returns: a dict {state : V^pi(state) for all states}\n",
    "    \"\"\"\n",
    "    # MY CODE HERE\n",
    "    states = mdp.get_all_states()\n",
    "    probs = {s: {s: 0 for s in states} for s in states}\n",
    "    rewards = {s: {s: 0 for s in states} for s in states}\n",
    "\n",
    "    for (s, a) in policy.items():\n",
    "        next_states = mdp.get_next_states(s, a)\n",
    "        \n",
    "        for next_s in next_states.keys():\n",
    "            probs[s][next_s] = mdp.get_transition_prob(s, a, next_s)\n",
    "            rewards[s][next_s] = mdp.get_reward(s, a, next_s)\n",
    "            \n",
    "    probs_matrix = np.array([list(probs[s].values()) for s in sorted(probs.keys())])\n",
    "    rewards_matrix = np.array([list(rewards[s].values()) for s in sorted(rewards.keys())])\n",
    "    \n",
    "    B = (probs_matrix * rewards_matrix).sum(axis=1)\n",
    "    A = np.identity(probs_matrix.shape[0]) - gamma * probs_matrix\n",
    "    \n",
    "    vpi_values = np.linalg.solve(A, B)\n",
    "\n",
    "    return {s: v for (s, v) in zip(states, vpi_values)}"
   ]
  },
  {
   "cell_type": "code",
   "execution_count": 295,
   "metadata": {},
   "outputs": [
    {
     "name": "stdout",
     "output_type": "stream",
     "text": [
      "{'s0': 'a0', 's1': 'a0', 's2': 'a1'}\n",
      "{'s0': 6.432568550643525, 's1': 10.086737548964734, 's2': 7.109681029658636}\n"
     ]
    }
   ],
   "source": [
    "# test_policy = {s: np.random.choice(\n",
    "#     mdp.get_possible_actions(s)) for s in mdp.get_all_states()}\n",
    "\n",
    "test_policy = {'s0': 'a0', 's1': 'a0', 's2': 'a1'}\n",
    "new_vpi = compute_vpi(mdp, test_policy, gamma=0.95)\n",
    "\n",
    "print(test_policy)\n",
    "print(new_vpi)\n",
    "\n",
    "assert type(\n",
    "    new_vpi) is dict, \"compute_vpi must return a dict {state : V^pi(state) for all states}\""
   ]
  },
  {
   "cell_type": "markdown",
   "metadata": {},
   "source": [
    "Once we've got new state values, it's time to update our policy."
   ]
  },
  {
   "cell_type": "code",
   "execution_count": 568,
   "metadata": {},
   "outputs": [
    {
     "data": {
      "text/plain": [
       "False"
      ]
     },
     "execution_count": 568,
     "metadata": {},
     "output_type": "execute_result"
    }
   ],
   "source": [
    "mdp.get_possible_actions((1, 1)) == None"
   ]
  },
  {
   "cell_type": "code",
   "execution_count": 570,
   "metadata": {},
   "outputs": [],
   "source": [
    "def compute_new_policy(mdp, vpi, gamma):\n",
    "    \"\"\"\n",
    "    Computes new policy as argmax of state values\n",
    "    :param vpi: a dict {state : V^pi(state) for all states}\n",
    "    :returns: a dict {state : optimal action for all states}\n",
    "    \"\"\"\n",
    "    # MY CODE HERE\n",
    "    states = mdp.get_all_states()\n",
    "    actions = mdp.get_possible_actions(states[0])\n",
    "    q_state_action = {s: {a: 0 for a in actions for s in states} for s in states}\n",
    "    \n",
    "    for s in states:\n",
    "        for a in mdp.get_possible_actions(s):\n",
    "            next_states = mdp.get_next_states(s, a)\n",
    "            \n",
    "            for next_s in next_states.keys():\n",
    "                prob = mdp.get_transition_prob(s, a, next_s)\n",
    "                reward = mdp.get_reward(s, a, next_s)\n",
    "\n",
    "                q_state_action[s][a] += prob * (reward + gamma * vpi[next_s])\n",
    "    \n",
    "    new_policy = {}\n",
    "    for s in states:\n",
    "        max_q = q_state_action[s][actions[0]]\n",
    "        max_a = actions[0]\n",
    "        \n",
    "        for a in actions[1:]:\n",
    "            if max_q < q_state_action[s][a]:\n",
    "                max_q = q_state_action[s][a]\n",
    "                max_a = a\n",
    "        # записываем, если это не дыра\n",
    "        if len(mdp.get_possible_actions(s)) != 0:\n",
    "            new_policy[s] = max_a\n",
    "        \n",
    "    return new_policy"
   ]
  },
  {
   "cell_type": "code",
   "execution_count": 325,
   "metadata": {},
   "outputs": [
    {
     "name": "stdout",
     "output_type": "stream",
     "text": [
      "{'s0': 6.432568550643525, 's1': 10.086737548964734, 's2': 7.109681029658636}\n",
      "{'s0': 'a1', 's1': 'a0', 's2': 'a0'}\n"
     ]
    }
   ],
   "source": [
    "new_policy = compute_new_policy(mdp, new_vpi, gamma=0.95)\n",
    "\n",
    "print(new_vpi)\n",
    "print(new_policy)\n",
    "\n",
    "assert type(\n",
    "    new_policy) is dict, \"compute_new_policy must return a dict {state : optimal action for all states}\""
   ]
  },
  {
   "cell_type": "markdown",
   "metadata": {},
   "source": [
    "__Main loop__"
   ]
  },
  {
   "cell_type": "code",
   "execution_count": 572,
   "metadata": {},
   "outputs": [],
   "source": [
    "def policy_iteration(mdp, policy={}, gamma=0.9, num_iter=1000, min_difference=1e-2):\n",
    "    \"\"\" \n",
    "    Run the policy iteration loop for num_iter iterations or till difference between V(s) is below min_difference.\n",
    "    If policy is not given, initialize it at random.\n",
    "    \"\"\"\n",
    "    # MY CODE HERE\n",
    "    \n",
    "    # Initialization\n",
    "    state_values = {s: 0 for s in mdp.get_all_states()}\n",
    "    for s in mdp.get_all_states():\n",
    "        actions = mdp.get_possible_actions(s)\n",
    "        if len(actions) > 0:\n",
    "            policy[s] = np.random.choice(actions)\n",
    "            \n",
    "    for i in range(num_iter): \n",
    "        # Policy improvement\n",
    "        vpi = compute_vpi(mdp, policy, gamma)\n",
    "        new_policy = compute_new_policy(mdp, vpi, gamma)\n",
    "        \n",
    "        n_changes = (np.array(list(policy.values())) != np.array(list(new_policy.values()))).sum()\n",
    "        \n",
    "        diff = max(abs(state_values[s] - vpi[s]) for s in mdp.get_all_states())\n",
    "        \n",
    "        print(\"iter %4i   |   diff: %6.5f   |   V(start): %.3f  |  N changes: %4i\" %\n",
    "              (i, diff, state_values[mdp._initial_state], n_changes))\n",
    "        \n",
    "        policy = new_policy\n",
    "        state_values = vpi\n",
    "        if n_changes == 0 or diff < min_difference:\n",
    "            print(\"Terminated\")\n",
    "            break\n",
    "\n",
    "    return state_values, policy"
   ]
  },
  {
   "cell_type": "markdown",
   "metadata": {},
   "source": [
    "__Your PI Results__\n",
    "\n",
    "Compare PI and VI on the MDP from bonus 1, then on small & large FrozenLake\n",
    "\n",
    "__1. Default MDP__"
   ]
  },
  {
   "cell_type": "code",
   "execution_count": 484,
   "metadata": {
    "scrolled": true
   },
   "outputs": [
    {
     "name": "stdout",
     "output_type": "stream",
     "text": [
      "iter    0   |   diff: 0.89473   |   V(start): 0.000  |  N changes:    2\n",
      "iter    1   |   diff: 9.54540   |   V(start): -0.732  |  N changes:    1\n",
      "iter    2   |   diff: 2.22765   |   V(start): 5.804  |  N changes:    0\n",
      "Terminated\n"
     ]
    }
   ],
   "source": [
    "state_values, policy = policy_iteration(mdp, policy={}, gamma=0.9, num_iter=100, min_difference=1e-5)"
   ]
  },
  {
   "cell_type": "code",
   "execution_count": 488,
   "metadata": {},
   "outputs": [
    {
     "name": "stdout",
     "output_type": "stream",
     "text": [
      "PI results:\n",
      "{'s0': 8.031919916894893, 's1': 11.171970913211824, 's2': 8.924355463216548}\n",
      "{'s0': 'a1', 's1': 'a0', 's2': 'a0'}\n"
     ]
    }
   ],
   "source": [
    "print(\"PI results:\")\n",
    "print(state_values)\n",
    "print(policy)"
   ]
  },
  {
   "cell_type": "code",
   "execution_count": 489,
   "metadata": {},
   "outputs": [
    {
     "name": "stdout",
     "output_type": "stream",
     "text": [
      "VI results:\n",
      "{'s0': 3.7810348735476405, 's1': 7.294006423867229, 's2': 4.202140275227048}\n",
      "{'s0': 'a1', 's1': 'a0', 's2': 'a1'}\n"
     ]
    }
   ],
   "source": [
    "print(\"VI results:\")\n",
    "print({'s0': 3.7810348735476405, 's1': 7.294006423867229, 's2': 4.202140275227048})\n",
    "print({'s0': 'a1', 's1': 'a0', 's2': 'a1'})"
   ]
  },
  {
   "cell_type": "markdown",
   "metadata": {},
   "source": [
    "__2. MDP with long convergence__"
   ]
  },
  {
   "cell_type": "code",
   "execution_count": 508,
   "metadata": {},
   "outputs": [],
   "source": [
    "transition_probs = {\n",
    "    's0': {\n",
    "        'a0': {'s0': 0.8, 's1': 0.2},\n",
    "        'a1': {'s0': 0.4, 's1': 0.6}\n",
    "    },\n",
    "    's1': {\n",
    "        'a0': {'s0': 0.2, 's1': 0.8},\n",
    "        'a1': {'s0': 0.6, 's1': 0.4}\n",
    "    },\n",
    "    's2': {\n",
    "        'a0': {'s0': 0.2, 's1': 0.8},\n",
    "        'a1': {'s0': 0.6, 's1': 0.4}\n",
    "    }\n",
    "}\n",
    "rewards = {\n",
    "    's0': {'a0': {'s0': +10}, \n",
    "           'a1': {'s0': +20}},\n",
    "    's1': {'a0': {'s1': +10},\n",
    "           'a1': {'s1': +20}},\n",
    "    's2': {'a0': {'s1': +10},\n",
    "           'a1': {'s1': +20}}\n",
    "}\n",
    "\n",
    "\n",
    "from mdp import MDP\n",
    "from numpy import random\n",
    "mdp = MDP(transition_probs, rewards, initial_state=random.choice(tuple(transition_probs.keys())))"
   ]
  },
  {
   "cell_type": "code",
   "execution_count": 509,
   "metadata": {
    "collapsed": true
   },
   "outputs": [
    {
     "name": "stdout",
     "output_type": "stream",
     "text": [
      "iter    0   |   diff: 8.00000   |   V(start): 8.000 \n",
      "iter    1   |   diff: 7.20000   |   V(start): 15.200 \n",
      "iter    2   |   diff: 6.48000   |   V(start): 21.680 \n",
      "iter    3   |   diff: 5.83200   |   V(start): 27.512 \n",
      "iter    4   |   diff: 5.24880   |   V(start): 32.761 \n",
      "iter    5   |   diff: 4.72392   |   V(start): 37.485 \n",
      "iter    6   |   diff: 4.25153   |   V(start): 41.736 \n",
      "iter    7   |   diff: 3.82638   |   V(start): 45.563 \n",
      "iter    8   |   diff: 3.44374   |   V(start): 49.006 \n",
      "iter    9   |   diff: 3.09936   |   V(start): 52.106 \n",
      "iter   10   |   diff: 2.78943   |   V(start): 54.895 \n",
      "iter   11   |   diff: 2.51048   |   V(start): 57.406 \n",
      "iter   12   |   diff: 2.25944   |   V(start): 59.665 \n",
      "iter   13   |   diff: 2.03349   |   V(start): 61.699 \n",
      "iter   14   |   diff: 1.83014   |   V(start): 63.529 \n",
      "iter   15   |   diff: 1.64713   |   V(start): 65.176 \n",
      "iter   16   |   diff: 1.48242   |   V(start): 66.658 \n",
      "iter   17   |   diff: 1.33417   |   V(start): 67.992 \n",
      "iter   18   |   diff: 1.20076   |   V(start): 69.193 \n",
      "iter   19   |   diff: 1.08068   |   V(start): 70.274 \n",
      "iter   20   |   diff: 0.97261   |   V(start): 71.246 \n",
      "iter   21   |   diff: 0.87535   |   V(start): 72.122 \n",
      "iter   22   |   diff: 0.78782   |   V(start): 72.910 \n",
      "iter   23   |   diff: 0.70904   |   V(start): 73.619 \n",
      "iter   24   |   diff: 0.63813   |   V(start): 74.257 \n",
      "iter   25   |   diff: 0.57432   |   V(start): 74.831 \n",
      "iter   26   |   diff: 0.51689   |   V(start): 75.348 \n",
      "iter   27   |   diff: 0.46520   |   V(start): 75.813 \n",
      "iter   28   |   diff: 0.41868   |   V(start): 76.232 \n",
      "iter   29   |   diff: 0.37681   |   V(start): 76.609 \n",
      "iter   30   |   diff: 0.33913   |   V(start): 76.948 \n",
      "iter   31   |   diff: 0.30522   |   V(start): 77.253 \n",
      "iter   32   |   diff: 0.27469   |   V(start): 77.528 \n",
      "iter   33   |   diff: 0.24723   |   V(start): 77.775 \n",
      "iter   34   |   diff: 0.22250   |   V(start): 77.997 \n",
      "iter   35   |   diff: 0.20025   |   V(start): 78.198 \n",
      "iter   36   |   diff: 0.18023   |   V(start): 78.378 \n",
      "iter   37   |   diff: 0.16220   |   V(start): 78.540 \n",
      "iter   38   |   diff: 0.14598   |   V(start): 78.686 \n",
      "iter   39   |   diff: 0.13139   |   V(start): 78.818 \n",
      "iter   40   |   diff: 0.11825   |   V(start): 78.936 \n",
      "iter   41   |   diff: 0.10642   |   V(start): 79.042 \n",
      "iter   42   |   diff: 0.09578   |   V(start): 79.138 \n",
      "iter   43   |   diff: 0.08620   |   V(start): 79.224 \n",
      "iter   44   |   diff: 0.07758   |   V(start): 79.302 \n",
      "iter   45   |   diff: 0.06982   |   V(start): 79.372 \n",
      "iter   46   |   diff: 0.06284   |   V(start): 79.434 \n",
      "iter   47   |   diff: 0.05656   |   V(start): 79.491 \n",
      "iter   48   |   diff: 0.05090   |   V(start): 79.542 \n",
      "iter   49   |   diff: 0.04581   |   V(start): 79.588 \n",
      "iter   50   |   diff: 0.04123   |   V(start): 79.629 \n",
      "iter   51   |   diff: 0.03711   |   V(start): 79.666 \n",
      "iter   52   |   diff: 0.03340   |   V(start): 79.699 \n",
      "iter   53   |   diff: 0.03006   |   V(start): 79.729 \n",
      "iter   54   |   diff: 0.02705   |   V(start): 79.757 \n",
      "iter   55   |   diff: 0.02435   |   V(start): 79.781 \n",
      "iter   56   |   diff: 0.02191   |   V(start): 79.803 \n",
      "iter   57   |   diff: 0.01972   |   V(start): 79.823 \n",
      "iter   58   |   diff: 0.01775   |   V(start): 79.840 \n",
      "iter   59   |   diff: 0.01597   |   V(start): 79.856 \n",
      "iter   60   |   diff: 0.01438   |   V(start): 79.871 \n",
      "iter   61   |   diff: 0.01294   |   V(start): 79.884 \n",
      "iter   62   |   diff: 0.01164   |   V(start): 79.895 \n",
      "iter   63   |   diff: 0.01048   |   V(start): 79.906 \n",
      "iter   64   |   diff: 0.00943   |   V(start): 79.915 \n",
      "iter   65   |   diff: 0.00849   |   V(start): 79.924 \n",
      "iter   66   |   diff: 0.00764   |   V(start): 79.931 \n",
      "iter   67   |   diff: 0.00688   |   V(start): 79.938 \n",
      "iter   68   |   diff: 0.00619   |   V(start): 79.944 \n",
      "iter   69   |   diff: 0.00557   |   V(start): 79.950 \n",
      "iter   70   |   diff: 0.00501   |   V(start): 79.955 \n",
      "iter   71   |   diff: 0.00451   |   V(start): 79.959 \n",
      "iter   72   |   diff: 0.00406   |   V(start): 79.963 \n",
      "iter   73   |   diff: 0.00365   |   V(start): 79.967 \n",
      "iter   74   |   diff: 0.00329   |   V(start): 79.970 \n",
      "iter   75   |   diff: 0.00296   |   V(start): 79.973 \n",
      "iter   76   |   diff: 0.00266   |   V(start): 79.976 \n",
      "iter   77   |   diff: 0.00240   |   V(start): 79.978 \n",
      "iter   78   |   diff: 0.00216   |   V(start): 79.981 \n",
      "iter   79   |   diff: 0.00194   |   V(start): 79.983 \n",
      "iter   80   |   diff: 0.00175   |   V(start): 79.984 \n",
      "iter   81   |   diff: 0.00157   |   V(start): 79.986 \n",
      "iter   82   |   diff: 0.00142   |   V(start): 79.987 \n",
      "iter   83   |   diff: 0.00127   |   V(start): 79.989 \n",
      "iter   84   |   diff: 0.00115   |   V(start): 79.990 \n",
      "iter   85   |   diff: 0.00103   |   V(start): 79.991 \n",
      "iter   86   |   diff: 0.00093   |   V(start): 79.992 \n",
      "iter   87   |   diff: 0.00084   |   V(start): 79.992 \n",
      "iter   88   |   diff: 0.00075   |   V(start): 79.993 \n",
      "iter   89   |   diff: 0.00068   |   V(start): 79.994 \n",
      "iter   90   |   diff: 0.00061   |   V(start): 79.995 \n",
      "iter   91   |   diff: 0.00055   |   V(start): 79.995 \n",
      "iter   92   |   diff: 0.00049   |   V(start): 79.996 \n",
      "iter   93   |   diff: 0.00044   |   V(start): 79.996 \n",
      "iter   94   |   diff: 0.00040   |   V(start): 79.996 \n",
      "iter   95   |   diff: 0.00036   |   V(start): 79.997 \n",
      "iter   96   |   diff: 0.00032   |   V(start): 79.997 \n",
      "iter   97   |   diff: 0.00029   |   V(start): 79.997 \n",
      "iter   98   |   diff: 0.00026   |   V(start): 79.998 \n",
      "iter   99   |   diff: 0.00024   |   V(start): 79.998 \n",
      "iter  100   |   diff: 0.00021   |   V(start): 79.998 \n",
      "iter  101   |   diff: 0.00019   |   V(start): 79.998 \n",
      "iter  102   |   diff: 0.00017   |   V(start): 79.998 \n",
      "iter  103   |   diff: 0.00015   |   V(start): 79.999 \n",
      "iter  104   |   diff: 0.00014   |   V(start): 79.999 \n",
      "iter  105   |   diff: 0.00013   |   V(start): 79.999 \n",
      "iter  106   |   diff: 0.00011   |   V(start): 79.999 \n",
      "iter  107   |   diff: 0.00010   |   V(start): 79.999 \n",
      "iter  108   |   diff: 0.00009   |   V(start): 79.999 \n",
      "iter  109   |   diff: 0.00008   |   V(start): 79.999 \n",
      "iter  110   |   diff: 0.00007   |   V(start): 79.999 \n",
      "iter  111   |   diff: 0.00007   |   V(start): 79.999 \n",
      "iter  112   |   diff: 0.00006   |   V(start): 79.999 \n",
      "iter  113   |   diff: 0.00005   |   V(start): 80.000 \n",
      "iter  114   |   diff: 0.00005   |   V(start): 80.000 \n",
      "iter  115   |   diff: 0.00004   |   V(start): 80.000 \n",
      "iter  116   |   diff: 0.00004   |   V(start): 80.000 \n",
      "iter  117   |   diff: 0.00004   |   V(start): 80.000 \n",
      "iter  118   |   diff: 0.00003   |   V(start): 80.000 \n",
      "iter  119   |   diff: 0.00003   |   V(start): 80.000 \n",
      "iter  120   |   diff: 0.00003   |   V(start): 80.000 \n",
      "iter  121   |   diff: 0.00002   |   V(start): 80.000 \n",
      "iter  122   |   diff: 0.00002   |   V(start): 80.000 \n",
      "iter  123   |   diff: 0.00002   |   V(start): 80.000 \n",
      "iter  124   |   diff: 0.00002   |   V(start): 80.000 \n",
      "iter  125   |   diff: 0.00002   |   V(start): 80.000 \n",
      "iter  126   |   diff: 0.00001   |   V(start): 80.000 \n",
      "iter  127   |   diff: 0.00001   |   V(start): 80.000 \n",
      "iter  128   |   diff: 0.00001   |   V(start): 80.000 \n",
      "iter  129   |   diff: 0.00001   |   V(start): 80.000 \n",
      "iter  130   |   diff: 0.00001   |   V(start): 80.000 \n"
     ]
    }
   ],
   "source": [
    "state_values1_vi = value_iteration(mdp, state_values=None, gamma=0.9, num_iter=1000, min_difference=1e-5)\n",
    "policy1_vi = np.array([get_optimal_action(mdp, state_values1_vi, state, gamma)\n",
    "                           for state in sorted(mdp.get_all_states())])"
   ]
  },
  {
   "cell_type": "code",
   "execution_count": 512,
   "metadata": {},
   "outputs": [
    {
     "name": "stdout",
     "output_type": "stream",
     "text": [
      "iter    0   |   diff: 80.00000   |   V(start): 0.000  |  N changes:    1\n",
      "iter    1   |   diff: 0.00000   |   V(start): 80.000  |  N changes:    0\n",
      "Terminated\n"
     ]
    }
   ],
   "source": [
    "state_values1_pi, policy1_pi = policy_iteration(mdp, policy={}, gamma=0.9, num_iter=10, min_difference=1e-5)"
   ]
  },
  {
   "cell_type": "code",
   "execution_count": 513,
   "metadata": {},
   "outputs": [
    {
     "name": "stdout",
     "output_type": "stream",
     "text": [
      "VI results:\n",
      "{'s0': 79.99991893027061, 's1': 79.99991893027061, 's2': 79.99991893027061}\n",
      "['a0' 'a0' 'a0']\n"
     ]
    }
   ],
   "source": [
    "print(\"VI results:\")\n",
    "print(state_values1_vi)\n",
    "print(policy1_vi)"
   ]
  },
  {
   "cell_type": "code",
   "execution_count": 541,
   "metadata": {},
   "outputs": [
    {
     "name": "stdout",
     "output_type": "stream",
     "text": [
      "PI results:\n",
      "{'s0': 80.0000000000001, 's1': 80.0000000000001, 's2': 80.00000000000009}\n",
      "['a0', 'a0', 'a0']\n"
     ]
    }
   ],
   "source": [
    "print(\"PI results:\")\n",
    "print(state_values1_pi)\n",
    "print(list(policy1_pi.values()))"
   ]
  },
  {
   "cell_type": "markdown",
   "metadata": {},
   "source": [
    "__3. Small FrozenLake MDP__"
   ]
  },
  {
   "cell_type": "code",
   "execution_count": 557,
   "metadata": {},
   "outputs": [
    {
     "name": "stdout",
     "output_type": "stream",
     "text": [
      "*FFF\n",
      "FHFH\n",
      "FFFH\n",
      "HFFG\n",
      "\n"
     ]
    }
   ],
   "source": [
    "from mdp import FrozenLakeEnv\n",
    "mdp = FrozenLakeEnv(slip_chance=0)\n",
    "mdp.render()"
   ]
  },
  {
   "cell_type": "code",
   "execution_count": 577,
   "metadata": {
    "collapsed": true
   },
   "outputs": [
    {
     "name": "stdout",
     "output_type": "stream",
     "text": [
      "iter    0   |   diff: 1.00000   |   V(start): 0.000 \n",
      "iter    1   |   diff: 0.90000   |   V(start): 0.000 \n",
      "iter    2   |   diff: 0.81000   |   V(start): 0.000 \n",
      "iter    3   |   diff: 0.72900   |   V(start): 0.000 \n",
      "iter    4   |   diff: 0.65610   |   V(start): 0.000 \n",
      "iter    5   |   diff: 0.59049   |   V(start): 0.590 \n",
      "iter    6   |   diff: 0.00000   |   V(start): 0.590 \n"
     ]
    }
   ],
   "source": [
    "state_values2_vi = value_iteration(mdp, state_values=None, gamma=0.9, num_iter=1000, min_difference=1e-10)\n",
    "policy2_vi = np.array([get_optimal_action(mdp, state_values2_vi, state, gamma)\n",
    "                           for state in sorted(mdp.get_all_states())])"
   ]
  },
  {
   "cell_type": "code",
   "execution_count": 578,
   "metadata": {
    "collapsed": true
   },
   "outputs": [
    {
     "name": "stdout",
     "output_type": "stream",
     "text": [
      "iter    0   |   diff: 1.00000   |   V(start): 0.000  |  N changes:    5\n",
      "iter    1   |   diff: 0.81000   |   V(start): 0.000  |  N changes:    2\n",
      "iter    2   |   diff: 0.72900   |   V(start): -0.000  |  N changes:    2\n",
      "iter    3   |   diff: 0.65610   |   V(start): 0.000  |  N changes:    1\n",
      "iter    4   |   diff: 0.00000   |   V(start): 0.590  |  N changes:    0\n",
      "Terminated\n"
     ]
    }
   ],
   "source": [
    "state_values2_pi, policy2_pi = policy_iteration(mdp, policy={}, gamma=0.9, num_iter=10, min_difference=1e-10)"
   ]
  },
  {
   "cell_type": "code",
   "execution_count": 587,
   "metadata": {},
   "outputs": [
    {
     "name": "stdout",
     "output_type": "stream",
     "text": [
      "VI results:\n",
      "{(0, 0): 0.5904900000000002, (0, 1): 0.6561000000000001, (0, 2): 0.7290000000000001, (0, 3): 0.6561000000000001, (1, 0): 0.6561000000000001, (1, 1): 0, (1, 2): 0.81, (1, 3): 0, (2, 0): 0.7290000000000001, (2, 1): 0.81, (2, 2): 0.9, (2, 3): 0, (3, 0): 0, (3, 1): 0.9, (3, 2): 1.0, (3, 3): 0}\n",
      "['down' 'right' 'down' 'left' 'down' None 'down' None 'right' 'down'\n",
      " 'down' None None 'right' 'right' None]\n"
     ]
    },
    {
     "data": {
      "image/png": "[encoded data removed]",
      "text/plain": [
       "<Figure size 300x300 with 1 Axes>"
      ]
     },
     "metadata": {},
     "output_type": "display_data"
    }
   ],
   "source": [
    "print(\"VI results:\")\n",
    "print(state_values2_vi)\n",
    "print(policy2_vi)\n",
    "\n",
    "draw_policy(mdp, state_values2_vi)"
   ]
  },
  {
   "cell_type": "code",
   "execution_count": 588,
   "metadata": {},
   "outputs": [
    {
     "name": "stdout",
     "output_type": "stream",
     "text": [
      "PI results:\n",
      "{(0, 0): 0.5904900000000002, (0, 1): 0.6561000000000001, (0, 2): 0.7290000000000001, (0, 3): 0.6561000000000001, (1, 0): 0.6561000000000001, (1, 1): 0.0, (1, 2): 0.81, (1, 3): 0.0, (2, 0): 0.7290000000000001, (2, 1): 0.81, (2, 2): 0.9, (2, 3): 0.0, (3, 0): 0.0, (3, 1): 0.9, (3, 2): 1.0, (3, 3): 0.0}\n",
      "['down', 'right', 'down', 'left', 'down', 'down', 'right', 'down', 'down', 'right', 'right']\n"
     ]
    },
    {
     "data": {
      "image/png": "[encoded data removed]",
      "text/plain": [
       "<Figure size 300x300 with 1 Axes>"
      ]
     },
     "metadata": {},
     "output_type": "display_data"
    }
   ],
   "source": [
    "print(\"PI results:\")\n",
    "print(state_values2_pi)\n",
    "print(list(policy2_pi.values()))\n",
    "draw_policy(mdp, state_values2_pi)"
   ]
  },
  {
   "cell_type": "markdown",
   "metadata": {},
   "source": [
    "__4. Large FrozenLake MDP__"
   ]
  },
  {
   "cell_type": "code",
   "execution_count": 589,
   "metadata": {},
   "outputs": [
    {
     "name": "stdout",
     "output_type": "stream",
     "text": [
      "*FFFFFFF\n",
      "FFFFFFFF\n",
      "FFFHFFFF\n",
      "FFFFFHFF\n",
      "FFFHFFFF\n",
      "FHHFFFHF\n",
      "FHFFHFHF\n",
      "FFFHFFFG\n",
      "\n"
     ]
    }
   ],
   "source": [
    "mdp = FrozenLakeEnv(map_name='8x8', slip_chance=0.1)\n",
    "mdp.render()"
   ]
  },
  {
   "cell_type": "code",
   "execution_count": 590,
   "metadata": {
    "collapsed": true
   },
   "outputs": [
    {
     "name": "stdout",
     "output_type": "stream",
     "text": [
      "iter    0   |   diff: 0.90000   |   V(start): 0.000 \n",
      "iter    1   |   diff: 0.72900   |   V(start): 0.000 \n",
      "iter    2   |   diff: 0.59049   |   V(start): 0.000 \n",
      "iter    3   |   diff: 0.47830   |   V(start): 0.000 \n",
      "iter    4   |   diff: 0.40894   |   V(start): 0.000 \n",
      "iter    5   |   diff: 0.34868   |   V(start): 0.000 \n",
      "iter    6   |   diff: 0.29655   |   V(start): 0.000 \n",
      "iter    7   |   diff: 0.25292   |   V(start): 0.000 \n",
      "iter    8   |   diff: 0.21619   |   V(start): 0.000 \n",
      "iter    9   |   diff: 0.18482   |   V(start): 0.000 \n",
      "iter   10   |   diff: 0.15757   |   V(start): 0.000 \n",
      "iter   11   |   diff: 0.13430   |   V(start): 0.000 \n",
      "iter   12   |   diff: 0.11445   |   V(start): 0.000 \n",
      "iter   13   |   diff: 0.09751   |   V(start): 0.098 \n",
      "iter   14   |   diff: 0.04772   |   V(start): 0.139 \n",
      "iter   15   |   diff: 0.03479   |   V(start): 0.173 \n",
      "iter   16   |   diff: 0.01283   |   V(start): 0.186 \n",
      "iter   17   |   diff: 0.00734   |   V(start): 0.194 \n",
      "iter   18   |   diff: 0.00255   |   V(start): 0.196 \n",
      "iter   19   |   diff: 0.00125   |   V(start): 0.197 \n",
      "iter   20   |   diff: 0.00042   |   V(start): 0.198 \n",
      "iter   21   |   diff: 0.00019   |   V(start): 0.198 \n",
      "iter   22   |   diff: 0.00006   |   V(start): 0.198 \n",
      "iter   23   |   diff: 0.00003   |   V(start): 0.198 \n",
      "iter   24   |   diff: 0.00001   |   V(start): 0.198 \n",
      "iter   25   |   diff: 0.00000   |   V(start): 0.198 \n",
      "iter   26   |   diff: 0.00000   |   V(start): 0.198 \n",
      "iter   27   |   diff: 0.00000   |   V(start): 0.198 \n",
      "iter   28   |   diff: 0.00000   |   V(start): 0.198 \n",
      "iter   29   |   diff: 0.00000   |   V(start): 0.198 \n",
      "iter   30   |   diff: 0.00000   |   V(start): 0.198 \n",
      "iter   31   |   diff: 0.00000   |   V(start): 0.198 \n",
      "iter   32   |   diff: 0.00000   |   V(start): 0.198 \n",
      "iter   33   |   diff: 0.00000   |   V(start): 0.198 \n",
      "iter   34   |   diff: 0.00000   |   V(start): 0.198 \n",
      "iter   35   |   diff: 0.00000   |   V(start): 0.198 \n",
      "iter   36   |   diff: 0.00000   |   V(start): 0.198 \n",
      "iter   37   |   diff: 0.00000   |   V(start): 0.198 \n"
     ]
    }
   ],
   "source": [
    "state_values3_vi = value_iteration(mdp, state_values=None, gamma=0.9, num_iter=1000, min_difference=1e-10)\n",
    "policy3_vi = np.array([get_optimal_action(mdp, state_values3_vi, state, gamma)\n",
    "                           for state in sorted(mdp.get_all_states())])"
   ]
  },
  {
   "cell_type": "code",
   "execution_count": 591,
   "metadata": {
    "collapsed": true
   },
   "outputs": [
    {
     "name": "stdout",
     "output_type": "stream",
     "text": [
      "iter    0   |   diff: 0.94241   |   V(start): 0.000  |  N changes:   37\n",
      "iter    1   |   diff: 0.79932   |   V(start): 0.000  |  N changes:   16\n",
      "iter    2   |   diff: 0.30800   |   V(start): 0.152  |  N changes:   12\n",
      "iter    3   |   diff: 0.18787   |   V(start): 0.154  |  N changes:    9\n",
      "iter    4   |   diff: 0.10400   |   V(start): 0.166  |  N changes:    1\n",
      "iter    5   |   diff: 0.05584   |   V(start): 0.198  |  N changes:    1\n",
      "iter    6   |   diff: 0.01848   |   V(start): 0.198  |  N changes:    0\n",
      "Terminated\n"
     ]
    }
   ],
   "source": [
    "state_values3_pi, policy3_pi = policy_iteration(mdp, policy={}, gamma=0.9, num_iter=10, min_difference=1e-10)"
   ]
  },
  {
   "cell_type": "code",
   "execution_count": 594,
   "metadata": {
    "scrolled": true
   },
   "outputs": [
    {
     "name": "stdout",
     "output_type": "stream",
     "text": [
      "VI results:\n",
      "{(0, 0): 0.1981684761818299, (0, 1): 0.2223445468143728, (0, 2): 0.24939386588589876, (0, 3): 0.2796305153611386, (0, 4): 0.31337222605793275, (0, 5): 0.3501900597430125, (0, 6): 0.39118770232600264, (0, 7): 0.4341019275245064, (1, 0): 0.20337359652105763, (1, 1): 0.22955579652939892, (1, 2): 0.25934276621637564, (1, 3): 0.2936808680767568, (1, 4): 0.3470339443033557, (1, 5): 0.3904326260130019, (1, 6): 0.4393760035789964, (1, 7): 0.49007888170523783, (2, 0): 0.18924044250472394, (2, 1): 0.2107255842147303, (2, 2): 0.2275230913370816, (2, 3): 0, (2, 4): 0.3707059346733854, (2, 5): 0.41732245390226097, (2, 6): 0.49352220460701646, (2, 7): 0.5533992739104313, (3, 0): 0.20890905452733374, (3, 1): 0.23700151258861346, (3, 2): 0.26918572845430805, (3, 3): 0.30704795134066126, (3, 4): 0.37907154486501793, (3, 5): 0, (3, 6): 0.5553576874758606, (3, 7): 0.625046675774255, (4, 0): 0.18715576498620812, (4, 1): 0.210631583374304, (4, 2): 0.2275188612992404, (4, 3): 0, (4, 4): 0.4509313420428272, (4, 5): 0.509011678983245, (4, 6): 0.5969195753644135, (4, 7): 0.7060845425037034, (5, 0): 0.15873944461295436, (5, 1): 0, (5, 2): 0, (5, 3): 0.40361708541205576, (5, 4): 0.4794147232771889, (5, 5): 0.5668182875126688, (5, 6): 0, (5, 7): 0.7993201940736274, (6, 0): 0.153121090154806, (6, 1): 0, (6, 2): 0.2860823675376213, (6, 3): 0.3398035457229562, (6, 4): 0, (6, 5): 0.6731415123027102, (6, 6): 0, (6, 7): 0.9424083769633508, (7, 0): 0.1805316556769577, (7, 1): 0.2043423235984635, (7, 2): 0.24092212226738036, (7, 3): 0, (7, 4): 0.7048602223065029, (7, 5): 0.8310389040774201, (7, 6): 0.9424083769633508, (7, 7): 0}\n",
      "['right' 'right' 'right' 'right' 'right' 'right' 'down' 'down' 'right'\n",
      " 'right' 'right' 'right' 'right' 'right' 'down' 'down' 'right' 'down'\n",
      " 'down' None 'right' 'right' 'down' 'down' 'right' 'right' 'right' 'right'\n",
      " 'down' None 'right' 'down' 'right' 'up' 'up' None 'right' 'right' 'right'\n",
      " 'down' 'up' None None 'right' 'right' 'down' None 'down' 'down' None\n",
      " 'right' 'up' None 'down' None 'down' 'right' 'right' 'up' None 'right'\n",
      " 'right' 'right' None]\n"
     ]
    },
    {
     "data": {
      "image/png": "[encoded data removed]",
      "text/plain": [
       "<Figure size 300x300 with 1 Axes>"
      ]
     },
     "metadata": {},
     "output_type": "display_data"
    }
   ],
   "source": [
    "print(\"VI results:\")\n",
    "print(state_values3_vi)\n",
    "print(policy3_vi)\n",
    "draw_policy(mdp, state_values3_vi)"
   ]
  },
  {
   "cell_type": "code",
   "execution_count": 593,
   "metadata": {
    "scrolled": true
   },
   "outputs": [
    {
     "name": "stdout",
     "output_type": "stream",
     "text": [
      "PI results:\n",
      "{(0, 0): 0.19816847619717398, (0, 1): 0.22234454682008542, (0, 2): 0.24939386588788756, (0, 3): 0.27963051536190003, (0, 4): 0.31337222605820325, (0, 5): 0.35019005974312006, (0, 6): 0.3911877023260406, (0, 7): 0.4341019275245208, (1, 0): 0.20337359653404302, (1, 1): 0.22955579653316943, (1, 2): 0.25934276621763525, (1, 3): 0.2936808680771085, (1, 4): 0.34703394430348516, (1, 5): 0.3904326260130394, (1, 6): 0.43937600357900836, (1, 7): 0.4900788817052414, (2, 0): 0.18924044251784294, (2, 1): 0.2107255842218003, (2, 2): 0.22752309133827528, (2, 3): 0.0, (2, 4): 0.37070593467342344, (2, 5): 0.41732245390227246, (2, 6): 0.49352220460701934, (2, 7): 0.5533992739104322, (3, 0): 0.20890905453672834, (3, 1): 0.2370015125904629, (3, 2): 0.26918572845468425, (3, 3): 0.30704795134066687, (3, 4): 0.3790715448650208, (3, 5): 0.0, (3, 6): 0.5553576874758612, (3, 7): 0.6250466757742553, (4, 0): 0.18715576500334344, (4, 1): 0.21063158338194715, (4, 2): 0.22751886130048193, (4, 3): 0.0, (4, 4): 0.45093134204282814, (4, 5): 0.5090116789832453, (4, 6): 0.5969195753644138, (4, 7): 0.7060845425037037, (5, 0): 0.15873944466252177, (5, 1): 0.0, (5, 2): 0.0, (5, 3): 0.40361708541205643, (5, 4): 0.4794147232771892, (5, 5): 0.566818287512669, (5, 6): 0.0, (5, 7): 0.7993201940736275, (6, 0): 0.15312109015561487, (6, 1): 0.0, (6, 2): 0.2860823675376305, (6, 3): 0.339803545722959, (6, 4): 0.0, (6, 5): 0.6731415123027104, (6, 6): 0.0, (6, 7): 0.9424083769633509, (7, 0): 0.18053165567729898, (7, 1): 0.20434232359854054, (7, 2): 0.24092212226741508, (7, 3): 0.0, (7, 4): 0.704860222306503, (7, 5): 0.8310389040774202, (7, 6): 0.9424083769633509, (7, 7): 0.0}\n",
      "['right', 'right', 'right', 'right', 'right', 'right', 'down', 'down', 'right', 'right', 'right', 'right', 'right', 'right', 'down', 'down', 'right', 'down', 'down', 'right', 'right', 'down', 'down', 'right', 'right', 'right', 'right', 'down', 'right', 'down', 'right', 'up', 'up', 'right', 'right', 'right', 'down', 'up', 'right', 'right', 'down', 'down', 'down', 'right', 'up', 'down', 'down', 'right', 'right', 'up', 'right', 'right', 'right']\n"
     ]
    },
    {
     "data": {
      "image/png": "[encoded data removed]",
      "text/plain": [
       "<Figure size 300x300 with 1 Axes>"
      ]
     },
     "metadata": {},
     "output_type": "display_data"
    }
   ],
   "source": [
    "print(\"PI results:\")\n",
    "print(state_values3_pi)\n",
    "print(list(policy3_pi.values()))\n",
    "draw_policy(mdp, state_values3_pi)"
   ]
  },
  {
   "cell_type": "markdown",
   "metadata": {},
   "source": [
    "## Policy iteration convergence (3 pts)\n",
    "\n",
    "**Note:** Assume that $\\mathcal{S}, \\mathcal{A}$ are finite.\n",
    "\n",
    "We can define another Bellman operator:\n",
    "\n",
    "$$(T_{\\pi}V)(s) = \\mathbb{E}_{r, s'|s, a = \\pi(s)}\\left[r + \\gamma V(s')\\right]$$\n",
    "\n",
    "And rewrite policy iteration algorithm in operator form:\n",
    "\n",
    "\n",
    "---\n",
    "\n",
    "Initialize $\\pi_0$\n",
    "\n",
    "**for** $k = 0,1,2,...$ **do**\n",
    "\n",
    "&nbsp;&nbsp;&nbsp;&nbsp; Solve $V_k = T_{\\pi_k}V_k$   \n",
    "\n",
    "&nbsp;&nbsp;&nbsp;&nbsp; Select $\\pi_{k+1}$ s.t. $T_{\\pi_{k+1}}V_k = TV_k$ \n",
    "\n",
    "**end for**\n",
    "\n",
    "---\n",
    "\n",
    "To prove convergence of the algorithm we need to prove two properties: contraction an monotonicity.\n",
    "\n",
    "#### Monotonicity (0.5 pts)\n",
    "\n",
    "For all $V, U$ if $V(s) \\le U(s)$   $\\forall s \\in \\mathcal{S}$ then $(T_\\pi V)(s) \\le (T_\\pi U)(s)$   $\\forall s \\in  \\mathcal{S}$\n",
    "\n",
    "**Proof:**\n",
    "Consider setting where $r =r(s, a, s')$. Then\n",
    "$$\n",
    "[T_\\pi V](s) \n",
    "= \\mathbb{E}_{s'} [r + \\gamma V(s') | s, a \\sim \\pi(s)] \\\\\n",
    "= \\mathbb{E}_{s'} [r | s, a]+ \\gamma \\sum_{s'} p(s'| s, a) V(s') \\\\\n",
    "\\le \\mathbb{E}_{s'} [r | s, a]+ \\gamma \\sum_{s'} p(s'| s, a) U(s') \\\\\n",
    "= [T_\\pi U](s).\n",
    "$$\n",
    "Monotonicity holds.\n",
    "\n",
    "#### Contraction (1 pts)\n",
    "\n",
    "$$\n",
    "||T_\\pi V - T_\\pi U||_{\\infty} \\le \\gamma ||V - U||_{\\infty}\n",
    "$$\n",
    "\n",
    "For all $V, U$\n",
    "\n",
    "**Proof:** Let's rewrite lhs of given inequality\n",
    "$$\n",
    "|T_\\pi V - T_\\pi U| \n",
    "= \\big|\\mathbb{E}_{s'} [r + \\gamma V(s') | s, a \\sim \\pi(s)] - \\mathbb{E}_{s'} [r + \\gamma U(s') | s, a \\sim \\pi(s)]\\big| \\\\\n",
    "= \\big|\\mathbb{E}_{s'} [r | s, a] + \\gamma \\sum_{s'} p(s'| s, a) V(s') - \\mathbb{E}_{s'} [r | s, a] - \\gamma \\sum_{s'} p(s'| s, a) U(s')\\big| \\\\\n",
    "= \\gamma \\big|\\sum_{s'} p(s'| s, a) (V(s') - U(s'))\\big| \\\\\n",
    "\\le \\gamma \\sum_{s'} p(s'| s, a) \\big|V(s') - U(s')\\big| \\\\\n",
    "= \\gamma \\mathbb{E}_{s'} [\\big|V(s') - U(s')\\big| | s, a] \\\\\n",
    "\\le \\gamma \\max_{s'} \\big|V(s') - U(s')\\big| \\\\\n",
    "= \\gamma ||V - U||_{\\infty}.\n",
    "$$\n",
    "\n",
    "Finally, taking max over $s'$ we get\n",
    "$$\n",
    "||T_\\pi V - T_\\pi U||_{\\infty} = \\max_{s'} |T_\\pi V - T_\\pi U| \\le \\gamma ||V - U||_{\\infty}.\n",
    "$$\n",
    "Contraction holds.\n",
    "\n",
    "#### Convergence (1.5 pts)\n",
    "\n",
    "Prove that there exists iteration $k_0$ such that $\\pi_k = \\pi^*$ for all $k \\ge k_0$\n",
    "\n",
    "**Proof:** We know that \n",
    "$\\pi_{n+1}(s) = \\operatorname*{argmax}_a Q^{\\pi_{n}}(s,a)$, where $Q^{\\pi_{n}}$ calculated from $V^{\\pi_{n}}$ from the following\n",
    "$$\n",
    "Q^{\\pi_{n}}(s,a) \n",
    "= \\mathbb{E}_{s'} [r(s, a, s') + \\gamma V^{\\pi_{n}}(s') | s, a \\sim \\pi(s)] \n",
    "= [T_{\\pi_n} V] (s)\n",
    "$$\n",
    "Therefore, we know that $Q^{\\pi_{n}}$ has a contraction property. Consider $T$ which takes argmax over a from $Q^{\\pi_{n}}$. Then we can apply Banach fixed-point theorem on it. \\\n",
    "Let $(\\mathcal{P}, d)$ be a non-empty complete space with a contraction mapping $T:\\mathcal{P} \\to \\mathcal{P}$. Then $T$ admits a unique fixed-point $\\pi^{*}$ in $\\mathcal{P}$ (i.e. $T(\\pi^{*})=\\pi^{*}$). Furthermore, $\\pi^{*}$ can be found as follows: start with an arbitrary element $\\pi_{0}\\in \\mathcal{P}$ and define a sequence $(\\pi_{k})_{{k\\in {\\mathbb N}}}$ by $\\pi_{k}=T(\\pi_{k-1})$ for $k\\geq 1$. Then $lim _{k\\to \\infty }\\pi_{k}=\\pi^{*}$. Since the limit exists there is some $k_0$ such that $\\pi_k = \\pi^*$ for all $k \\ge k_0$ by definition of the limit."
   ]
  },
  {
   "cell_type": "code",
   "execution_count": null,
   "metadata": {},
   "outputs": [],
   "source": []
  },
  {
   "cell_type": "code",
   "execution_count": null,
   "metadata": {},
   "outputs": [],
   "source": []
  },
  {
   "cell_type": "code",
   "execution_count": null,
   "metadata": {},
   "outputs": [],
   "source": []
  }
 ],
 "metadata": {
  "kernelspec": {
   "display_name": "Python 3 (ipykernel)",
   "language": "python",
   "name": "python3"
  },
  "language_info": {
   "codemirror_mode": {
    "name": "ipython",
    "version": 3
   },
   "file_extension": ".py",
   "mimetype": "text/x-python",
   "name": "python",
   "nbconvert_exporter": "python",
   "pygments_lexer": "ipython3",
   "version": "3.9.16"
  }
 },
 "nbformat": 4,
 "nbformat_minor": 2
}
