{
  "cells": [
    {
      "cell_type": "markdown",
      "metadata": {
        "id": "kXUExbbWbBnl"
      },
      "source": [
        "# Approximate q-learning\n",
        "\n",
        "In this notebook you will teach a __PyTorch__ neural network to do Q-learning."
      ]
    },
    {
      "cell_type": "code",
      "execution_count": null,
      "metadata": {
        "id": "ephEk4cMbBnn",
        "colab": {
          "base_uri": "https://localhost:8080/"
        },
        "outputId": "888af5ef-cd6f-49a6-8067-2e0ad04c37e3"
      },
      "outputs": [
        {
          "output_type": "stream",
          "name": "stdout",
          "text": [
            "Starting virtual X frame buffer: Xvfb.\n"
          ]
        }
      ],
      "source": [
        "import sys, os\n",
        "if 'google.colab' in sys.modules and not os.path.exists('.setup_complete'):\n",
        "    !wget -q https://raw.githubusercontent.com/yandexdataschool/Practical_RL/master/setup_colab.sh -O- | bash\n",
        "    !touch .setup_complete\n",
        "\n",
        "# This code creates a virtual display to draw game images on.\n",
        "# It will have no effect if your machine has a monitor.\n",
        "if type(os.environ.get(\"DISPLAY\")) is not str or len(os.environ.get(\"DISPLAY\")) == 0:\n",
        "    !bash ../xvfb start\n",
        "    os.environ['DISPLAY'] = ':1'"
      ]
    },
    {
      "cell_type": "code",
      "source": [
        "!pip install gym==0.22.0"
      ],
      "metadata": {
        "id": "sfqfvCt6vBAs"
      },
      "execution_count": null,
      "outputs": []
    },
    {
      "cell_type": "code",
      "source": [
        "!pip show gym"
      ],
      "metadata": {
        "colab": {
          "base_uri": "https://localhost:8080/"
        },
        "id": "1E9ZxQMqvCE5",
        "outputId": "2f951cfd-563d-49a3-e211-6ea39f6d7284"
      },
      "execution_count": null,
      "outputs": [
        {
          "output_type": "stream",
          "name": "stdout",
          "text": [
            "Name: gym\n",
            "Version: 0.22.0\n",
            "Summary: Gym: A universal API for reinforcement learning environments.\n",
            "Home-page: https://github.com/openai/gym\n",
            "Author: Gym Community\n",
            "Author-email: jkterry@umd.edu\n",
            "License: MIT\n",
            "Location: /usr/local/lib/python3.8/dist-packages\n",
            "Requires: cloudpickle, gym-notices, importlib-metadata, numpy\n",
            "Required-by: dopamine-rl\n"
          ]
        }
      ]
    },
    {
      "cell_type": "code",
      "execution_count": null,
      "metadata": {
        "id": "6C8WeEVFbBnp"
      },
      "outputs": [],
      "source": [
        "import gym\n",
        "import numpy as np\n",
        "import pandas as pd\n",
        "import matplotlib.pyplot as plt\n",
        "%matplotlib inline"
      ]
    },
    {
      "cell_type": "code",
      "source": [
        "!pip install gym[classic_control]"
      ],
      "metadata": {
        "colab": {
          "base_uri": "https://localhost:8080/"
        },
        "id": "ZSnNjITlcPz5",
        "outputId": "db442f69-8d8e-406e-c04d-1c9181c4b068"
      },
      "execution_count": null,
      "outputs": [
        {
          "output_type": "stream",
          "name": "stdout",
          "text": [
            "Looking in indexes: https://pypi.org/simple, https://us-python.pkg.dev/colab-wheels/public/simple/\n",
            "Requirement already satisfied: gym[classic_control] in /usr/local/lib/python3.8/dist-packages (0.22.0)\n",
            "Requirement already satisfied: importlib-metadata>=4.10.0 in /usr/local/lib/python3.8/dist-packages (from gym[classic_control]) (6.0.0)\n",
            "Requirement already satisfied: cloudpickle>=1.2.0 in /usr/local/lib/python3.8/dist-packages (from gym[classic_control]) (2.2.1)\n",
            "Requirement already satisfied: numpy>=1.18.0 in /usr/local/lib/python3.8/dist-packages (from gym[classic_control]) (1.22.4)\n",
            "Requirement already satisfied: gym-notices>=0.0.4 in /usr/local/lib/python3.8/dist-packages (from gym[classic_control]) (0.0.8)\n",
            "Requirement already satisfied: pygame==2.1.0 in /usr/local/lib/python3.8/dist-packages (from gym[classic_control]) (2.1.0)\n",
            "Requirement already satisfied: zipp>=0.5 in /usr/local/lib/python3.8/dist-packages (from importlib-metadata>=4.10.0->gym[classic_control]) (3.15.0)\n"
          ]
        }
      ]
    },
    {
      "cell_type": "code",
      "execution_count": null,
      "metadata": {
        "id": "lp2XszsvbBnq",
        "colab": {
          "base_uri": "https://localhost:8080/",
          "height": 324
        },
        "outputId": "a595faac-445d-45b3-d188-6cfe13461d4a"
      },
      "outputs": [
        {
          "output_type": "stream",
          "name": "stderr",
          "text": [
            "/usr/local/lib/python3.8/dist-packages/gym/envs/registration.py:505: UserWarning: \u001b[33mWARN: The environment CartPole-v0 is out of date. You should consider upgrading to version `v1` with the environment ID `CartPole-v1`.\u001b[0m\n",
            "  logger.warn(\n"
          ]
        },
        {
          "output_type": "display_data",
          "data": {
            "text/plain": [
              "<Figure size 432x288 with 1 Axes>"
            ],
            "image/png": "[encoded data removed]"
          },
          "metadata": {
            "needs_background": "light"
          }
        }
      ],
      "source": [
        "env = gym.make(\"CartPole-v0\").env\n",
        "env.reset()\n",
        "n_actions = env.action_space.n\n",
        "state_dim = env.observation_space.shape\n",
        "\n",
        "plt.imshow(env.render(\"rgb_array\"))\n",
        "env.close()"
      ]
    },
    {
      "cell_type": "code",
      "source": [
        "n_actions, state_dim\n"
      ],
      "metadata": {
        "colab": {
          "base_uri": "https://localhost:8080/"
        },
        "id": "KoMnaUqockVw",
        "outputId": "ab6a7306-e7a9-4ba5-9280-4bd666fe2617"
      },
      "execution_count": null,
      "outputs": [
        {
          "output_type": "execute_result",
          "data": {
            "text/plain": [
              "(2, (4,))"
            ]
          },
          "metadata": {},
          "execution_count": 12
        }
      ]
    },
    {
      "cell_type": "markdown",
      "metadata": {
        "id": "IgTNqUBjbBnr"
      },
      "source": [
        "# Approximate Q-learning: building the network\n",
        "\n",
        "To train a neural network policy one must have a neural network policy. Let's build it.\n",
        "\n",
        "\n",
        "Since we're working with a pre-extracted features (cart positions, angles and velocities), we don't need a complicated network yet. In fact, let's build something like this for starters:\n",
        "\n",
        "![img](https://raw.githubusercontent.com/yandexdataschool/Practical_RL/master/yet_another_week/_resource/qlearning_scheme.png)\n",
        "\n",
        "For your first run, please only use linear layers (`nn.Linear`) and activations. Stuff like batch normalization or dropout may ruin everything if used haphazardly. \n",
        "\n",
        "Also please avoid using nonlinearities like sigmoid & tanh: since agent's observations are not normalized, sigmoids might be saturated at initialization. Instead, use non-saturating nonlinearities like ReLU.\n",
        "\n",
        "Ideally you should start small with maybe 1-2 hidden layers with < 200 neurons and then increase network size if agent doesn't beat the target score."
      ]
    },
    {
      "cell_type": "code",
      "execution_count": null,
      "metadata": {
        "id": "NlHr4ru9bBnt"
      },
      "outputs": [],
      "source": [
        "import torch\n",
        "import torch.nn as nn\n",
        "import torch.nn.functional as F"
      ]
    },
    {
      "cell_type": "code",
      "execution_count": null,
      "metadata": {
        "id": "piRqcZx5bBnu"
      },
      "outputs": [],
      "source": [
        "hid_size = 32\n",
        "\n",
        "network = nn.Sequential(\n",
        "    nn.Linear(state_dim[0], hid_size),\n",
        "    nn.ReLU(),\n",
        "    nn.Linear(hid_size, hid_size),\n",
        "    nn.ReLU(),\n",
        "    nn.Linear(hid_size, n_actions)\n",
        ")\n",
        "\n",
        "# network.add_module('layer1', <YOUR CODE>)\n",
        "\n",
        "\n",
        "# hint: use state_dim[0] as input size"
      ]
    },
    {
      "cell_type": "code",
      "source": [
        "epsilon = 0.2\n",
        "np.random.choice(2, p=(epsilon, 1-epsilon))\n",
        "np.random.binomial(1, p=epsilon)"
      ],
      "metadata": {
        "colab": {
          "base_uri": "https://localhost:8080/"
        },
        "id": "kT8qbELReuNf",
        "outputId": "a97cf679-9c56-4b25-8c13-497e40ce5ebe"
      },
      "execution_count": null,
      "outputs": [
        {
          "output_type": "execute_result",
          "data": {
            "text/plain": [
              "0"
            ]
          },
          "metadata": {},
          "execution_count": 15
        }
      ]
    },
    {
      "cell_type": "code",
      "source": [
        "state = env.reset()\n",
        "state"
      ],
      "metadata": {
        "colab": {
          "base_uri": "https://localhost:8080/"
        },
        "id": "GASRyBL5f8vZ",
        "outputId": "51271a58-7fee-4b8d-c883-379c73bf07da"
      },
      "execution_count": null,
      "outputs": [
        {
          "output_type": "execute_result",
          "data": {
            "text/plain": [
              "array([-0.03434229,  0.01259203, -0.04634296,  0.00639029], dtype=float32)"
            ]
          },
          "metadata": {},
          "execution_count": 16
        }
      ]
    },
    {
      "cell_type": "code",
      "source": [
        "state[None, :]"
      ],
      "metadata": {
        "colab": {
          "base_uri": "https://localhost:8080/"
        },
        "id": "86eMi9O9g9OX",
        "outputId": "4364e416-dd7d-4e63-ebc3-e3971851a58f"
      },
      "execution_count": null,
      "outputs": [
        {
          "output_type": "execute_result",
          "data": {
            "text/plain": [
              "array([[-0.03434229,  0.01259203, -0.04634296,  0.00639029]],\n",
              "      dtype=float32)"
            ]
          },
          "metadata": {},
          "execution_count": 17
        }
      ]
    },
    {
      "cell_type": "code",
      "source": [
        "state = torch.tensor(state[None])\n",
        "state"
      ],
      "metadata": {
        "colab": {
          "base_uri": "https://localhost:8080/"
        },
        "id": "Ynt3dq7tft0Z",
        "outputId": "c70c32c0-2708-437e-b899-7352340978fd"
      },
      "execution_count": null,
      "outputs": [
        {
          "output_type": "execute_result",
          "data": {
            "text/plain": [
              "tensor([[-0.0343,  0.0126, -0.0463,  0.0064]])"
            ]
          },
          "metadata": {},
          "execution_count": 18
        }
      ]
    },
    {
      "cell_type": "code",
      "source": [
        "q_values = network(state).detach().numpy()\n",
        "q_values"
      ],
      "metadata": {
        "colab": {
          "base_uri": "https://localhost:8080/"
        },
        "id": "sS3QR4yWgAZu",
        "outputId": "49fc7a26-b6e2-44fd-d5d0-a385b44546c6"
      },
      "execution_count": null,
      "outputs": [
        {
          "output_type": "execute_result",
          "data": {
            "text/plain": [
              "array([[-0.13244218,  0.04381878]], dtype=float32)"
            ]
          },
          "metadata": {},
          "execution_count": 19
        }
      ]
    },
    {
      "cell_type": "code",
      "source": [
        "np.argmax(q_values, axis=1)"
      ],
      "metadata": {
        "colab": {
          "base_uri": "https://localhost:8080/"
        },
        "id": "lSrNVw64hkIa",
        "outputId": "660ac2df-f41a-4714-8ff1-beaf8b4e903b"
      },
      "execution_count": null,
      "outputs": [
        {
          "output_type": "execute_result",
          "data": {
            "text/plain": [
              "array([1])"
            ]
          },
          "metadata": {},
          "execution_count": 20
        }
      ]
    },
    {
      "cell_type": "code",
      "execution_count": null,
      "metadata": {
        "id": "UFdsFxVwbBnv"
      },
      "outputs": [],
      "source": [
        "def get_action(state, epsilon=0):\n",
        "    \"\"\"\n",
        "    sample actions with epsilon-greedy policy\n",
        "    recap: with p = epsilon pick random action, else pick action with highest Q(s,a)\n",
        "    \"\"\"\n",
        "    state = torch.tensor(state[None], dtype=torch.float32)\n",
        "    q_values = network(state).detach().numpy()\n",
        "\n",
        "    choose_random = np.random.binomial(1, p=epsilon)\n",
        "\n",
        "    if choose_random == 1:\n",
        "        return np.random.choice(n_actions)\n",
        "\n",
        "    return int(np.argmax(q_values, axis=1)[0])"
      ]
    },
    {
      "cell_type": "code",
      "execution_count": null,
      "metadata": {
        "id": "hkw496O6bBnw",
        "colab": {
          "base_uri": "https://localhost:8080/"
        },
        "outputId": "dbfea89f-c254-4e8b-de1b-bb70210dc72a"
      },
      "outputs": [
        {
          "output_type": "stream",
          "name": "stderr",
          "text": [
            "<ipython-input-22-a33e8fbd8be3>:2: UserWarning: Creating a tensor from a list of numpy.ndarrays is extremely slow. Please consider converting the list to a single numpy.ndarray with numpy.array() before converting to a tensor. (Triggered internally at ../torch/csrc/utils/tensor_new.cpp:230.)\n",
            "  assert tuple(network(torch.tensor([s]*3, dtype=torch.float32)).size()) == (\n"
          ]
        },
        {
          "output_type": "stream",
          "name": "stdout",
          "text": [
            "e=0.0 tests passed\n",
            "e=0.1 tests passed\n",
            "e=0.5 tests passed\n",
            "e=1.0 tests passed\n"
          ]
        }
      ],
      "source": [
        "s = env.reset()\n",
        "assert tuple(network(torch.tensor([s]*3, dtype=torch.float32)).size()) == (\n",
        "    3, n_actions), \"please make sure your model maps state s -> [Q(s,a0), ..., Q(s, a_last)]\"\n",
        "assert isinstance(list(network.modules(\n",
        "))[-1], nn.Linear), \"please make sure you predict q-values without nonlinearity (ignore if you know what you're doing)\"\n",
        "assert isinstance(get_action(\n",
        "    s), int), \"get_action(s) must return int, not %s. try int(action)\" % (type(get_action(s)))\n",
        "\n",
        "# test epsilon-greedy exploration\n",
        "for eps in [0., 0.1, 0.5, 1.0]:\n",
        "    state_frequencies = np.bincount(\n",
        "        [get_action(s, epsilon=eps) for i in range(10000)], minlength=n_actions)\n",
        "    best_action = state_frequencies.argmax()\n",
        "    assert abs(state_frequencies[best_action] -\n",
        "               10000 * (1 - eps + eps / n_actions)) < 200\n",
        "    for other_action in range(n_actions):\n",
        "        if other_action != best_action:\n",
        "            assert abs(state_frequencies[other_action] -\n",
        "                       10000 * (eps / n_actions)) < 200\n",
        "    print('e=%.1f tests passed' % eps)"
      ]
    },
    {
      "cell_type": "markdown",
      "metadata": {
        "id": "Oz0d4OctbBnx"
      },
      "source": [
        "### Q-learning via gradient descent\n",
        "\n",
        "We shall now train our agent's Q-function by minimizing the TD loss:\n",
        "$$ L = { 1 \\over N} \\sum_i (Q_{\\theta}(s,a) - [r(s,a) + \\gamma \\cdot max_{a'} Q_{-}(s', a')]) ^2 $$\n",
        "\n",
        "\n",
        "Where\n",
        "* $s, a, r, s'$ are current state, action, reward and next state respectively\n",
        "* $\\gamma$ is a discount factor defined two cells above.\n",
        "\n",
        "The tricky part is with  $Q_{-}(s',a')$. From an engineering standpoint, it's the same as $Q_{\\theta}$ - the output of your neural network policy. However, when doing gradient descent, __we won't propagate gradients through it__ to make training more stable (see lectures).\n",
        "\n",
        "To do so, we shall use `x.detach()` function which basically says \"consider this thing constant when doingbackprop\"."
      ]
    },
    {
      "cell_type": "code",
      "source": [
        "torch.max(state, axis=1)"
      ],
      "metadata": {
        "colab": {
          "base_uri": "https://localhost:8080/"
        },
        "id": "ixoZ9thxl2Lj",
        "outputId": "da036db2-3e3c-47f3-ce33-70dce7d6d4c0"
      },
      "execution_count": null,
      "outputs": [
        {
          "output_type": "execute_result",
          "data": {
            "text/plain": [
              "torch.return_types.max(\n",
              "values=tensor([0.0126]),\n",
              "indices=tensor([1]))"
            ]
          },
          "metadata": {},
          "execution_count": 23
        }
      ]
    },
    {
      "cell_type": "code",
      "execution_count": null,
      "metadata": {
        "id": "WR2OoTF_bBny"
      },
      "outputs": [],
      "source": [
        "def compute_td_loss(states, actions, rewards, next_states, is_done, gamma=0.99, check_shapes=False):\n",
        "    \"\"\" Compute td loss using torch operations only. Use the formula above. \"\"\"\n",
        "    states = torch.tensor(\n",
        "        states, dtype=torch.float32)                                  # shape: [batch_size, state_size]\n",
        "    actions = torch.tensor(actions, dtype=torch.long)                 # shape: [batch_size]\n",
        "    rewards = torch.tensor(rewards, dtype=torch.float32)              # shape: [batch_size]\n",
        "    # shape: [batch_size, state_size]\n",
        "    next_states = torch.tensor(next_states, dtype=torch.float32)\n",
        "    is_done = torch.tensor(is_done, dtype=torch.uint8)                # shape: [batch_size]\n",
        "\n",
        "    # get q-values for all actions in current states\n",
        "    predicted_qvalues = network(states)                               # shape: [batch_size, n_actions]\n",
        "\n",
        "    # select q-values for chosen actions\n",
        "    predicted_qvalues_for_actions = predicted_qvalues[                # shape: [batch_size]\n",
        "      range(states.shape[0]), actions\n",
        "    ]\n",
        "\n",
        "    # compute q-values for all actions in next states\n",
        "    with torch.no_grad():\n",
        "        predicted_next_qvalues = network(next_states)\n",
        "\n",
        "    # compute V*(next_states) using predicted next q-values\n",
        "    next_state_values = torch.max(predicted_next_qvalues, axis=1).values  # max over actions\n",
        "    assert next_state_values.dtype == torch.float32\n",
        "\n",
        "    # compute \"target q-values\" for loss - it's what's inside square parentheses in the above formula.\n",
        "    target_qvalues_for_actions = rewards + gamma * next_state_values\n",
        "\n",
        "    # at the last state we shall use simplified formula: Q(s,a) = r(s,a) since s' doesn't exist\n",
        "    target_qvalues_for_actions = torch.where(\n",
        "        is_done, rewards, target_qvalues_for_actions)\n",
        "\n",
        "    # mean squared error loss to minimize\n",
        "    loss = torch.mean((predicted_qvalues_for_actions -\n",
        "                       target_qvalues_for_actions.detach()) ** 2)\n",
        "\n",
        "    if check_shapes:\n",
        "        assert predicted_next_qvalues.data.dim(\n",
        "        ) == 2, \"make sure you predicted q-values for all actions in next state\"\n",
        "        assert next_state_values.data.dim(\n",
        "        ) == 1, \"make sure you computed V(s') as maximum over just the actions axis and not all axes\"\n",
        "        assert target_qvalues_for_actions.data.dim(\n",
        "        ) == 1, \"there's something wrong with target q-values, they must be a vector\"\n",
        "\n",
        "    return loss"
      ]
    },
    {
      "cell_type": "code",
      "execution_count": null,
      "metadata": {
        "id": "IuvLr0YLbBnz",
        "colab": {
          "base_uri": "https://localhost:8080/"
        },
        "outputId": "559dfd6e-fe6e-4c70-eb3c-74579dd71221"
      },
      "outputs": [
        {
          "output_type": "stream",
          "name": "stderr",
          "text": [
            "<ipython-input-24-a53b42147a7c>:31: UserWarning: where received a uint8 condition tensor. This behavior is deprecated and will be removed in a future version of PyTorch. Use a boolean condition instead. (Triggered internally at ../aten/src/ATen/native/TensorCompare.cpp:413.)\n",
            "  target_qvalues_for_actions = torch.where(\n"
          ]
        }
      ],
      "source": [
        "# sanity checks\n",
        "s = env.reset()\n",
        "a = env.action_space.sample()\n",
        "next_s, r, done, _ = env.step(a)\n",
        "loss = compute_td_loss([s], [a], [r], [next_s], [done], check_shapes=True)\n",
        "loss.backward()\n",
        "\n",
        "assert len(loss.size()) == 0, \"you must return scalar loss - mean over batch\"\n",
        "assert np.any(next(network.parameters()).grad.detach().numpy() !=\n",
        "              0), \"loss must be differentiable w.r.t. network weights\""
      ]
    },
    {
      "cell_type": "markdown",
      "metadata": {
        "id": "4UQi9aKXbBn0"
      },
      "source": [
        "### Playing the game"
      ]
    },
    {
      "cell_type": "code",
      "execution_count": null,
      "metadata": {
        "id": "_a7iC0C1bBn0"
      },
      "outputs": [],
      "source": [
        "opt = torch.optim.Adam(network.parameters(), lr=1e-4)"
      ]
    },
    {
      "cell_type": "code",
      "execution_count": null,
      "metadata": {
        "id": "8XVdD1pjbBn1"
      },
      "outputs": [],
      "source": [
        "def generate_session(env, t_max=1000, epsilon=0, train=False):\n",
        "    \"\"\"play env with approximate q-learning agent and train it at the same time\"\"\"\n",
        "    total_reward = 0\n",
        "    s = env.reset()\n",
        "\n",
        "    for t in range(t_max):\n",
        "        a = get_action(s, epsilon=epsilon)\n",
        "        next_s, r, done, _ = env.step(a)\n",
        "\n",
        "        if train:\n",
        "            opt.zero_grad()\n",
        "            compute_td_loss([s], [a], [r], [next_s], [done]).backward()\n",
        "            opt.step()\n",
        "\n",
        "        total_reward += r\n",
        "        s = next_s\n",
        "        if done:\n",
        "            break\n",
        "\n",
        "    return total_reward"
      ]
    },
    {
      "cell_type": "code",
      "execution_count": null,
      "metadata": {
        "id": "teFh-Qr5bBn1"
      },
      "outputs": [],
      "source": [
        "epsilon = 0.5"
      ]
    },
    {
      "cell_type": "code",
      "execution_count": null,
      "metadata": {
        "id": "xCwJv6iDbBn1",
        "colab": {
          "base_uri": "https://localhost:8080/"
        },
        "outputId": "5c8298eb-6cac-4214-fbd3-1d333dd6fa67"
      },
      "outputs": [
        {
          "output_type": "stream",
          "name": "stdout",
          "text": [
            "epoch #0\tmean reward = 14.300\tepsilon = 0.500\n",
            "epoch #1\tmean reward = 13.600\tepsilon = 0.495\n",
            "epoch #2\tmean reward = 13.440\tepsilon = 0.490\n",
            "epoch #3\tmean reward = 13.780\tepsilon = 0.485\n",
            "epoch #4\tmean reward = 13.730\tepsilon = 0.480\n",
            "epoch #5\tmean reward = 13.440\tepsilon = 0.475\n",
            "epoch #6\tmean reward = 13.640\tepsilon = 0.471\n",
            "epoch #7\tmean reward = 13.760\tepsilon = 0.466\n",
            "epoch #8\tmean reward = 15.940\tepsilon = 0.461\n",
            "epoch #9\tmean reward = 13.570\tepsilon = 0.457\n",
            "epoch #10\tmean reward = 15.240\tepsilon = 0.452\n",
            "epoch #11\tmean reward = 12.910\tepsilon = 0.448\n",
            "epoch #12\tmean reward = 18.880\tepsilon = 0.443\n",
            "epoch #13\tmean reward = 15.980\tepsilon = 0.439\n",
            "epoch #14\tmean reward = 18.620\tepsilon = 0.434\n",
            "epoch #15\tmean reward = 20.370\tepsilon = 0.430\n",
            "epoch #16\tmean reward = 20.710\tepsilon = 0.426\n",
            "epoch #17\tmean reward = 27.820\tepsilon = 0.421\n",
            "epoch #18\tmean reward = 31.480\tepsilon = 0.417\n",
            "epoch #19\tmean reward = 27.560\tepsilon = 0.413\n",
            "epoch #20\tmean reward = 32.660\tepsilon = 0.409\n",
            "epoch #21\tmean reward = 39.170\tepsilon = 0.405\n",
            "epoch #22\tmean reward = 39.300\tepsilon = 0.401\n",
            "epoch #23\tmean reward = 41.360\tepsilon = 0.397\n",
            "epoch #24\tmean reward = 48.010\tepsilon = 0.393\n",
            "epoch #25\tmean reward = 46.990\tepsilon = 0.389\n",
            "epoch #26\tmean reward = 58.020\tepsilon = 0.385\n",
            "epoch #27\tmean reward = 63.760\tepsilon = 0.381\n",
            "epoch #28\tmean reward = 55.080\tepsilon = 0.377\n",
            "epoch #29\tmean reward = 65.700\tepsilon = 0.374\n",
            "epoch #30\tmean reward = 62.610\tepsilon = 0.370\n",
            "epoch #31\tmean reward = 71.990\tepsilon = 0.366\n",
            "epoch #32\tmean reward = 88.250\tepsilon = 0.362\n",
            "epoch #33\tmean reward = 97.210\tepsilon = 0.359\n",
            "epoch #34\tmean reward = 117.980\tepsilon = 0.355\n",
            "epoch #35\tmean reward = 125.430\tepsilon = 0.352\n",
            "epoch #36\tmean reward = 140.510\tepsilon = 0.348\n",
            "epoch #37\tmean reward = 149.170\tepsilon = 0.345\n",
            "epoch #38\tmean reward = 155.730\tepsilon = 0.341\n",
            "epoch #39\tmean reward = 156.420\tepsilon = 0.338\n",
            "epoch #40\tmean reward = 159.320\tepsilon = 0.334\n",
            "epoch #41\tmean reward = 137.490\tepsilon = 0.331\n",
            "epoch #42\tmean reward = 68.960\tepsilon = 0.328\n",
            "epoch #43\tmean reward = 57.790\tepsilon = 0.325\n",
            "epoch #44\tmean reward = 75.280\tepsilon = 0.321\n",
            "epoch #45\tmean reward = 70.990\tepsilon = 0.318\n",
            "epoch #46\tmean reward = 85.350\tepsilon = 0.315\n",
            "epoch #47\tmean reward = 79.090\tepsilon = 0.312\n",
            "epoch #48\tmean reward = 115.050\tepsilon = 0.309\n",
            "epoch #49\tmean reward = 62.890\tepsilon = 0.306\n",
            "epoch #50\tmean reward = 31.290\tepsilon = 0.303\n",
            "epoch #51\tmean reward = 31.210\tepsilon = 0.299\n",
            "epoch #52\tmean reward = 31.730\tepsilon = 0.296\n",
            "epoch #53\tmean reward = 98.420\tepsilon = 0.294\n",
            "epoch #54\tmean reward = 289.860\tepsilon = 0.291\n",
            "epoch #55\tmean reward = 99.200\tepsilon = 0.288\n",
            "epoch #56\tmean reward = 271.570\tepsilon = 0.285\n",
            "epoch #57\tmean reward = 260.550\tepsilon = 0.282\n",
            "epoch #58\tmean reward = 426.030\tepsilon = 0.279\n",
            "You Win!\n"
          ]
        }
      ],
      "source": [
        "for i in range(1000):\n",
        "    session_rewards = [generate_session(env, epsilon=epsilon, train=True) for _ in range(100)]\n",
        "    print(\"epoch #{}\\tmean reward = {:.3f}\\tepsilon = {:.3f}\".format(i, np.mean(session_rewards), epsilon))\n",
        "\n",
        "    epsilon *= 0.99\n",
        "    assert epsilon >= 1e-4, \"Make sure epsilon is always nonzero during training\"\n",
        "\n",
        "    if np.mean(session_rewards) > 300:\n",
        "        print(\"You Win!\")\n",
        "        break"
      ]
    },
    {
      "cell_type": "markdown",
      "metadata": {
        "id": "kxq9uEx-bBn2"
      },
      "source": [
        "### How to interpret results\n",
        "\n",
        "\n",
        "Welcome to the f.. world of deep f...n reinforcement learning. Don't expect agent's reward to smoothly go up. Hope for it to go increase eventually. If it deems you worthy.\n",
        "\n",
        "Seriously though,\n",
        "* __ mean reward__ is the average reward per game. For a correct implementation it may stay low for some 10 epochs, then start growing while oscilating insanely and converges by ~50-100 steps depending on the network architecture. \n",
        "* If it never reaches target score by the end of for loop, try increasing the number of hidden neurons or look at the epsilon.\n",
        "* __ epsilon__ - agent's willingness to explore. If you see that agent's already at < 0.01 epsilon before it's is at least 200, just reset it back to 0.1 - 0.5."
      ]
    },
    {
      "cell_type": "markdown",
      "metadata": {
        "id": "dqd_lvKUbBn2"
      },
      "source": [
        "### Record videos\n",
        "\n",
        "As usual, we now use `gym.wrappers.Monitor` to record a video of our agent playing the game. Unlike our previous attempts with state binarization, this time we expect our agent to act ~~(or fail)~~ more smoothly since there's no more binarization error at play.\n",
        "\n",
        "As you already did with tabular q-learning, we set epsilon=0 for final evaluation to prevent agent from exploring himself to death."
      ]
    },
    {
      "cell_type": "code",
      "execution_count": null,
      "metadata": {
        "id": "2HBR6JmDbBn2",
        "colab": {
          "base_uri": "https://localhost:8080/"
        },
        "outputId": "7f6b0f2d-c5ec-41b9-8573-c4f9d1960294"
      },
      "outputs": [
        {
          "output_type": "stream",
          "name": "stderr",
          "text": [
            "/usr/local/lib/python3.8/dist-packages/gym/envs/registration.py:505: UserWarning: \u001b[33mWARN: The environment CartPole-v0 is out of date. You should consider upgrading to version `v1` with the environment ID `CartPole-v1`.\u001b[0m\n",
            "  logger.warn(\n"
          ]
        }
      ],
      "source": [
        "# Record sessions\n",
        "\n",
        "import gym.wrappers\n",
        "\n",
        "with gym.wrappers.Monitor(gym.make(\"CartPole-v0\"), directory=\"videos\", force=True) as env_monitor:\n",
        "    sessions = [generate_session(env_monitor, epsilon=0, train=False) for _ in range(100)]"
      ]
    },
    {
      "cell_type": "code",
      "execution_count": null,
      "metadata": {
        "id": "vgYJdhsvbBn3",
        "colab": {
          "base_uri": "https://localhost:8080/",
          "height": 501
        },
        "outputId": "86ebc38b-8f14-49db-96eb-40215946333b"
      },
      "outputs": [
        {
          "output_type": "execute_result",
          "data": {
            "text/plain": [
              "<IPython.core.display.HTML object>"
            ],
            "text/html": [
              "\n",
              "<video width=\"640\" height=\"480\" controls>\n",
              "  <source src=\"data:video/mp4;base64,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\" type=\"video/mp4\">\n",
              "</video>\n"
            ]
          },
          "metadata": {},
          "execution_count": 32
        }
      ],
      "source": [
        "# Show video. This may not work in some setups. If it doesn't\n",
        "# work for you, you can download the videos and view them locally.\n",
        "\n",
        "from pathlib import Path\n",
        "from base64 import b64encode\n",
        "from IPython.display import HTML\n",
        "\n",
        "video_paths = sorted([s for s in Path('videos').iterdir() if s.suffix == '.mp4'])\n",
        "video_path = video_paths[-1]  # You can also try other indices\n",
        "\n",
        "if 'google.colab' in sys.modules:\n",
        "    # https://stackoverflow.com/a/57378660/1214547\n",
        "    with video_path.open('rb') as fp:\n",
        "        mp4 = fp.read()\n",
        "    data_url = 'data:video/mp4;base64,' + b64encode(mp4).decode()\n",
        "else:\n",
        "    data_url = str(video_path)\n",
        "\n",
        "HTML(\"\"\"\n",
        "<video width=\"640\" height=\"480\" controls>\n",
        "  <source src=\"{}\" type=\"video/mp4\">\n",
        "</video>\n",
        "\"\"\".format(data_url))"
      ]
    },
    {
      "cell_type": "code",
      "source": [],
      "metadata": {
        "id": "1mZaJNK-5QQO"
      },
      "execution_count": null,
      "outputs": []
    }
  ],
  "metadata": {
    "language_info": {
      "name": "python"
    },
    "colab": {
      "provenance": []
    },
    "kernelspec": {
      "name": "python3",
      "display_name": "Python 3"
    },
    "gpuClass": "standard"
  },
  "nbformat": 4,
  "nbformat_minor": 0
}