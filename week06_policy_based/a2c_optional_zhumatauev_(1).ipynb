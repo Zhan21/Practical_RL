{
  "cells": [
    {
      "cell_type": "code",
      "execution_count": 1,
      "metadata": {
        "id": "wp22ET-Vzn7P",
        "colab": {
          "base_uri": "https://localhost:8080/"
        },
        "outputId": "b2f2e645-5f28-40c1-de8e-2bdb30403f70"
      },
      "outputs": [
        {
          "output_type": "stream",
          "name": "stdout",
          "text": [
            "setup complete\n",
            "Starting virtual X frame buffer: Xvfb.\n"
          ]
        }
      ],
      "source": [
        "import sys\n",
        "if 'google.colab' in sys.modules:\n",
        "    import os\n",
        "\n",
        "    # Undo the recent upgrade of importlib-metadata\n",
        "    ## Thanks to @Mxhiu: https://stackoverflow.com/a/73932581/14473118\n",
        "    os.system(\"pip install -q importlib-metadata==4.13.0\")\n",
        "    os.system('apt-get install -y xvfb')\n",
        "    os.system('wget https://raw.githubusercontent.com/yandexdataschool/Practical_RL/master/xvfb -O ../xvfb')\n",
        "    # Download `atari_wrappers.py` script from github\n",
        "    os.system(\"wget https://raw.githubusercontent.com/Zhan21/Practical_RL/master/week06_policy_based/atari_wrappers.py\")  # from my git, commented one line\n",
        "    # Download `env_batch.py` script from github    \n",
        "    os.system(\"wget https://raw.githubusercontent.com/yandexdataschool/Practical_RL/master/week06_policy_based/env_batch.py\")\n",
        "    # Download `runners.py` script from github    \n",
        "    os.system(\"wget https://raw.githubusercontent.com/yandexdataschool/Practical_RL/master/week06_policy_based/runners.py\")\n",
        "    \n",
        "    os.system('apt-get install -y python-opengl ffmpeg')\n",
        "    os.system('pip install pyglet==1.2.4')\n",
        "    # Update the gym environment to be compatible with the atari environment.\n",
        "    os.system('pip install gym[atari,accept-rom-license]==0.22.0')  # 0.21.0 doesn't work\n",
        "    os.system('python -m pip install -U pygame --user')\n",
        "\n",
        "    print('setup complete')\n",
        "\n",
        "# XVFB will be launched if you run on a server\n",
        "import os\n",
        "if type(os.environ.get(\"DISPLAY\")) is not str or len(os.environ.get(\"DISPLAY\")) == 0:\n",
        "    !bash ../xvfb start\n",
        "    os.environ['DISPLAY'] = ':1'"
      ]
    },
    {
      "cell_type": "markdown",
      "metadata": {
        "id": "1MD0tT7kzn7S"
      },
      "source": [
        "# Implementing Advantage-Actor Critic (A2C)"
      ]
    },
    {
      "cell_type": "markdown",
      "metadata": {
        "id": "C5VyCUuKzn7V"
      },
      "source": [
        "In this notebook you will implement Advantage Actor Critic algorithm that trains on a batch of Atari 2600 environments running in parallel.\n",
        "\n",
        "Firstly, we will use environment wrappers implemented in file `atari_wrappers.py`. These wrappers preprocess observations (resize, grayscale, take max between frames, skip frames and stack them together) and rewards. Some of the wrappers help to reset the environment and pass `done` flag equal to `True` when agent dies.\n",
        "File `env_batch.py` includes implementation of `ParallelEnvBatch` class that allows to run multiple environments in parallel. To create an environment we can use `nature_dqn_env` function. Note that if you are using\n",
        "PyTorch and not using `tensorboardX` you will need to implement a wrapper that will log **raw** total rewards that the *unwrapped* environment returns and redefine the implemention of `nature_dqn_env` function here.\n",
        "\n"
      ]
    },
    {
      "cell_type": "code",
      "execution_count": 2,
      "metadata": {
        "colab": {
          "base_uri": "https://localhost:8080/"
        },
        "id": "0ytxsdA7zn7W",
        "outputId": "d2004214-8fea-46cf-86a2-694fdbe0b399"
      },
      "outputs": [
        {
          "output_type": "stream",
          "name": "stderr",
          "text": [
            "\n"
          ]
        }
      ],
      "source": [
        "import numpy as np\n",
        "from atari_wrappers import nature_dqn_env, NumpySummaries\n",
        "\n",
        "\n",
        "env = nature_dqn_env(\"SpaceInvadersNoFrameskip-v4\", nenvs=8, summaries='Numpy')\n",
        "obs = env.reset()\n",
        "assert obs.shape == (8, 84, 84, 4)\n",
        "assert obs.dtype == np.uint8"
      ]
    },
    {
      "cell_type": "markdown",
      "metadata": {
        "id": "DIZhEgOdzn7Y"
      },
      "source": [
        "Next, we will need to implement a model that predicts logits and values. It is suggested that you use the same model as in [Nature DQN paper](https://web.stanford.edu/class/psych209/Readings/MnihEtAlHassibis15NatureControlDeepRL.pdf) with a modification that instead of having a single output layer, it will have two output layers taking as input the output of the last hidden layer. **Note** that this model is different from the model you used in homework where you implemented DQN. You can use your favorite deep learning framework here. We suggest that you use orthogonal initialization with parameter $\\sqrt{2}$ for kernels and initialize biases with zeros."
      ]
    },
    {
      "cell_type": "markdown",
      "metadata": {
        "id": "uZPDlShwzn7a"
      },
      "source": [
        "From the paper:\n",
        "\"The exact architecture, shown schematically in Fig. 1, is as follows. The input to the neural network consists of an 84 x 84 x 4 image produced by the preprocessing map \\phi.\n",
        "1. The first hidden layer convolves 32 filters of 8 x 8 with stride 4 with the input image and applies a rectifier nonlinearity. \n",
        "2. The second hidden layer convolves 64 filters of 4 x 4 with stride 2, again followed by a rectifier nonlinearity. \n",
        "3. This is followed by a third convolutional layer that convolves 64 filters of 3 x 3 with stride 1 followed by a rectifier. \n",
        "4. The final hidden layer is fully-connected and consists of 512 rectifier units. \n",
        "5. The output layer is a fully-connected linear layer with a single output for each valid action. The number of valid actions varied between 4 and 18 on the games we considered\""
      ]
    },
    {
      "cell_type": "code",
      "execution_count": 3,
      "metadata": {
        "id": "3flLaaZlzn7b"
      },
      "outputs": [],
      "source": [
        "# import tensorflow as torch\n",
        "# import torch as tf\n",
        "import torch\n",
        "import torch.nn.functional as F\n",
        "from torch import nn\n",
        "\n",
        "\n",
        "class DQNAgent(nn.Module):\n",
        "    def __init__(self, n_actions):\n",
        "\n",
        "        super().__init__()\n",
        "        self.n_actions = n_actions\n",
        "        \n",
        "        self.network = nn.Sequential(                    # in: 84x84\n",
        "            nn.Conv2d(4, 32, kernel_size=8, stride=4),   # 20x20\n",
        "            nn.ReLU(),\n",
        "            nn.Conv2d(32, 64, kernel_size=4, stride=2),  # 9x9\n",
        "            nn.ReLU(),\n",
        "            nn.Conv2d(64, 64, kernel_size=3, stride=1),  # 7x7\n",
        "            nn.ReLU(),\n",
        "            nn.Flatten(),\n",
        "            nn.Linear(7 * 7 * 64, 512),\n",
        "            nn.ReLU()\n",
        "        )\n",
        "        \n",
        "        self.pi_head = nn.Sequential(\n",
        "            nn.Linear(512, 512),\n",
        "            nn.ReLU(),\n",
        "            nn.Linear(512, self.n_actions)\n",
        "        )\n",
        "\n",
        "        self.value_head = nn.Sequential(\n",
        "            nn.Linear(512, 512),\n",
        "            nn.ReLU(),\n",
        "            nn.Linear(512, 1)\n",
        "        )\n",
        "    \n",
        "    def initialize_weights(m):\n",
        "        if isinstance(m, nn.Conv2d):\n",
        "            nn.init.orthogonal_(m.weight, np.sqrt(2))\n",
        "            # if m.bias is not None:\n",
        "            nn.init.zero_(m.bias)\n",
        "        elif isinstance(m, nn.Linear):\n",
        "            nn.init.zero_(m.bias)\n",
        "\n",
        "    def forward(self, x):\n",
        "        x = x / 255\n",
        "        x = torch.Tensor(x).permute(0,3,1,2)\n",
        "        x = self.network(x)\n",
        "        pi = self.pi_head(x)\n",
        "        value = self.value_head(x)\n",
        "        return value, pi"
      ]
    },
    {
      "cell_type": "code",
      "execution_count": 4,
      "metadata": {
        "colab": {
          "base_uri": "https://localhost:8080/"
        },
        "id": "ijyObzQxzn7c",
        "outputId": "7007977c-b0f9-41ff-fdc5-7e3248304048"
      },
      "outputs": [
        {
          "output_type": "execute_result",
          "data": {
            "text/plain": [
              "(tensor([[-0.0421],\n",
              "         [-0.0420],\n",
              "         [-0.0421],\n",
              "         [-0.0420],\n",
              "         [-0.0420],\n",
              "         [-0.0420],\n",
              "         [-0.0421],\n",
              "         [-0.0421]], grad_fn=<AddmmBackward0>),\n",
              " tensor([[-0.0447,  0.0392,  0.0160, -0.0162,  0.0185, -0.0052],\n",
              "         [-0.0447,  0.0392,  0.0160, -0.0162,  0.0186, -0.0052],\n",
              "         [-0.0447,  0.0392,  0.0160, -0.0162,  0.0186, -0.0052],\n",
              "         [-0.0447,  0.0392,  0.0160, -0.0162,  0.0186, -0.0052],\n",
              "         [-0.0447,  0.0392,  0.0160, -0.0162,  0.0186, -0.0052],\n",
              "         [-0.0447,  0.0392,  0.0160, -0.0162,  0.0185, -0.0052],\n",
              "         [-0.0447,  0.0392,  0.0160, -0.0162,  0.0186, -0.0052],\n",
              "         [-0.0447,  0.0392,  0.0160, -0.0162,  0.0186, -0.0052]],\n",
              "        grad_fn=<AddmmBackward0>))"
            ]
          },
          "metadata": {},
          "execution_count": 4
        }
      ],
      "source": [
        "n_actions, n_envs = 6, 8\n",
        "inputs = torch.rand([n_envs, 84, 84, 4])\n",
        "model = DQNAgent(n_actions)\n",
        "model.forward(inputs)"
      ]
    },
    {
      "cell_type": "markdown",
      "metadata": {
        "id": "dNWV8Xjlzn7d"
      },
      "source": [
        "You will also need to define and use a policy that wraps the model. While the model computes logits for all actions, the policy will sample actions and also compute their log probabilities.  `policy.act` should return a dictionary of all the arrays that are needed to interact with an environment and train the model.\n",
        " Note that actions must be an `np.ndarray` while the other\n",
        "tensors need to have the type determined by your deep learning framework."
      ]
    },
    {
      "cell_type": "code",
      "execution_count": 29,
      "metadata": {
        "id": "F_1XEmEQzn7f"
      },
      "outputs": [],
      "source": [
        "class Policy:\n",
        "    def __init__(self, model):\n",
        "        self.model = model\n",
        "\n",
        "    def act(self, inputs):\n",
        "        # <Implement policy by calling model, sampling actions and computing their log probs>\n",
        "        # Should return a dict containing keys ['actions', 'logits', 'log_probs', 'values'].\n",
        "        dct = {}\n",
        "        dct['values'], dct['logits'] = self.model(torch.Tensor(inputs).to('cuda'))\n",
        "        dct['values'], dct['logits'] = dct['values'].to('cpu'), dct['logits'].to('cpu')\n",
        "        dct['probs'] = F.softmax(dct['logits'], 1)\n",
        "        dct['log_probs'] = F.log_softmax(dct['logits'], 1)\n",
        "\n",
        "        probs = dct['probs'].detach().numpy()\n",
        "        chosen_actions = []\n",
        "        for i in range(probs.shape[0]):\n",
        "            chosen_actions.append(np.random.choice(probs.shape[1], p=probs[i]))\n",
        "        dct['actions'] = np.array(chosen_actions)\n",
        "\n",
        "        return dct"
      ]
    },
    {
      "cell_type": "markdown",
      "metadata": {
        "id": "360zHiwszn7g"
      },
      "source": [
        "Next will pass the environment and policy to a runner that collects partial trajectories from the environment.\n",
        "The class that does is is already implemented for you."
      ]
    },
    {
      "cell_type": "code",
      "execution_count": 7,
      "metadata": {
        "id": "gbFzn7wyzn7h"
      },
      "outputs": [],
      "source": [
        "from runners import EnvRunner"
      ]
    },
    {
      "cell_type": "markdown",
      "metadata": {
        "id": "0f_JFosazn7h"
      },
      "source": [
        "This runner interacts with the environment for a given number of steps and returns a dictionary containing\n",
        "keys\n",
        "\n",
        "* 'observations'\n",
        "* 'rewards'\n",
        "* 'resets'\n",
        "* 'actions'\n",
        "* all other keys that you defined in `Policy`\n",
        "\n",
        "under each of these keys there is a python `list` of interactions with the environment. This list has length $T$ that is size of partial trajectory. Partial trajectory for given moment `t` is part of `ComputeValueTargets.__call__` input argument `trajectory` from moment `t` to the end (i.e. it's different at each iteration in the algorithm)."
      ]
    },
    {
      "cell_type": "markdown",
      "metadata": {
        "id": "jZtK85Mdzn7h"
      },
      "source": [
        "To train the part of the model that predicts state values you will need to compute the value targets.\n",
        "Any callable could be passed to `EnvRunner` to be applied to each partial trajectory after it is collected.\n",
        "Thus, we can implement and use `ComputeValueTargets` callable.\n",
        "The formula for the value targets is simple:\n",
        "\n",
        "$$\n",
        "\\hat v(s_t) = \\left( \\sum_{t'=0}^{T - 1} \\gamma^{t'}r_{t+t'} \\right) + \\gamma^T \\hat{v}(s_{t+T}),\n",
        "$$\n",
        "\n",
        "In implementation, however, do not forget to use\n",
        "`trajectory['resets']` flags to check if you need to add the value targets at the next step when\n",
        "computing value targets for the current step. You can access `trajectory['state']['latest_observation']`\n",
        "to get last observations in partial trajectory &mdash; $s_{t+T}$."
      ]
    },
    {
      "cell_type": "code",
      "execution_count": 30,
      "metadata": {
        "id": "Jlo9bcdHzn7j"
      },
      "outputs": [],
      "source": [
        "class ComputeValueTargets:\n",
        "    def __init__(self, policy, gamma=0.99):\n",
        "        self.policy = policy\n",
        "        self.gamma = gamma\n",
        "\n",
        "    def __call__(self, trajectory):\n",
        "        # This method should modify trajectory inplace by adding\n",
        "        # an item with key 'value_targets' to it.\n",
        "        # <Compute value targets for a given partial trajectory>\n",
        "        v_critic = self.policy.act(\n",
        "                  trajectory['state']['latest_observation']\n",
        "                  )['values']\n",
        "        v_t = v_critic.detach().numpy().squeeze()  # [8,]\n",
        "        value_targets = []\n",
        "        n_steps = trajectory['state']['env_steps']\n",
        "        \n",
        "        for i in range(1, n_steps+1):\n",
        "            v_t = trajectory['rewards'][-i] + self.gamma * v_t\n",
        "            value_targets.append(v_t)\n",
        "\n",
        "        trajectory['value_targets'] = value_targets[::-1]\n",
        "        \n",
        "        ### TODO: resets"
      ]
    },
    {
      "cell_type": "code",
      "execution_count": 12,
      "metadata": {
        "id": "NVjqMcv4zn7k"
      },
      "outputs": [],
      "source": [
        "# from multiprocessing import Process, Pipe\n",
        "# pconn, wconn = zip(*[Pipe() for _ in range(8)])\n",
        "# pconn"
      ]
    },
    {
      "cell_type": "code",
      "execution_count": 13,
      "metadata": {
        "id": "_uctgcY-zn7l"
      },
      "outputs": [],
      "source": [
        "# actions = policy.act(torch.rand([8, 84, 84, 4]))[\"actions\"]\n",
        "# for conn, a in zip(pconn, actions):\n",
        "#         conn.send((\"step\", a))\n",
        "# [conn.recv() for conn in pconn]"
      ]
    },
    {
      "cell_type": "markdown",
      "metadata": {
        "id": "IQoA9HBczn7m"
      },
      "source": [
        "After computing value targets we will transform lists of interactions into tensors\n",
        "with the first dimension `batch_size` which is equal to `env_steps * nenvs`, i.e. you essentially need\n",
        "to flatten the first two dimensions."
      ]
    },
    {
      "cell_type": "code",
      "source": [
        "class MergeTimeBatch:\n",
        "    \"\"\" Merges first two axes typically representing time and env batch. \"\"\"\n",
        "    def __call__(self, trajectory):\n",
        "        # Modify trajectory inplace.\n",
        "        env_steps = trajectory['state']['env_steps']\n",
        "        nenvs = trajectory['actions'][0].shape[0]\n",
        "\n",
        "        # observations\n",
        "        np_obs = np.array(trajectory['observations'])\n",
        "        np_obs = np_obs.reshape((env_steps*nenvs,) + np_obs[0, 0].shape)\n",
        "        trajectory['observations'] = torch.Tensor(np_obs)\n",
        "\n",
        "        for key in trajectory.keys():\n",
        "          if key in ['values', 'logits', 'log_probs', 'probs']:  # gradients leaking\n",
        "            trajectory[key] = torch.cat(trajectory[key], dim=0)\n",
        "\n",
        "          elif key in ['actions', 'rewards', 'resets', 'value_targets']:\n",
        "            np_traj = np.array(trajectory[key]).reshape(env_steps*nenvs, -1)\n",
        "            trajectory[key]  = torch.Tensor(np_traj)"
      ],
      "metadata": {
        "id": "w5q3jjwbB_EL"
      },
      "execution_count": 31,
      "outputs": []
    },
    {
      "cell_type": "code",
      "execution_count": 32,
      "metadata": {
        "id": "OGxAHN3wzn7m"
      },
      "outputs": [],
      "source": [
        "class MergeTimeBatch:\n",
        "    \"\"\" Merges first two axes typically representing time and env batch. \"\"\"\n",
        "    def __call__(self, trajectory):\n",
        "        # Modify trajectory inplace.\n",
        "        env_steps = trajectory['state']['env_steps']\n",
        "        nenvs = trajectory['actions'][0].shape[0]\n",
        "\n",
        "        # observations\n",
        "        obs = trajectory['observations']\n",
        "        obs = np.stack(obs).reshape((env_steps*nenvs,) + obs[0].shape[1:])\n",
        "        trajectory['observations'] = torch.Tensor(obs)\n",
        "\n",
        "        for key in trajectory.keys():\n",
        "          if key in ['values', 'logits', 'log_probs', 'probs']:  # gradients leaking\n",
        "            trajectory[key] = torch.cat(trajectory[key], dim=0)\n",
        "\n",
        "          elif key in ['actions', 'rewards', 'resets', 'value_targets']:\n",
        "            trajectory[key]  = torch.Tensor(trajectory[key]).view(env_steps*nenvs, -1)"
      ]
    },
    {
      "cell_type": "code",
      "source": [
        "env = nature_dqn_env(\"SpaceInvadersNoFrameskip-v4\", nenvs=8, summaries='Numpy')\n",
        "env.action_space.n"
      ],
      "metadata": {
        "colab": {
          "base_uri": "https://localhost:8080/"
        },
        "id": "EkvaLbNo2C27",
        "outputId": "820459d3-8929-4c50-cb38-5c330842b083"
      },
      "execution_count": 15,
      "outputs": [
        {
          "output_type": "execute_result",
          "data": {
            "text/plain": [
              "6"
            ]
          },
          "metadata": {},
          "execution_count": 15
        }
      ]
    },
    {
      "cell_type": "markdown",
      "metadata": {
        "id": "dcMfxGI9zn7n"
      },
      "source": [
        "Now is the time to implement the advantage actor critic algorithm itself. You can look into your lecture,\n",
        "[Mnih et al. 2016](https://arxiv.org/abs/1602.01783) paper, and [lecture](https://www.youtube.com/watch?v=Tol_jw5hWnI&list=PLkFD6_40KJIxJMR-j5A1mkxK26gh_qg37&index=20) by Sergey Levine."
      ]
    },
    {
      "cell_type": "code",
      "source": [
        "def to_one_hot(y_tensor, ndims):\n",
        "    \"\"\" helper: take an integer vector and convert it to 1-hot matrix. \"\"\"\n",
        "    y_tensor = y_tensor.type(torch.LongTensor).view(-1, 1)\n",
        "    y_one_hot = torch.zeros(\n",
        "        y_tensor.size()[0], ndims).scatter_(1, y_tensor, 1)\n",
        "    return y_one_hot"
      ],
      "metadata": {
        "id": "QKZEwFA544Zp"
      },
      "execution_count": 33,
      "outputs": []
    },
    {
      "cell_type": "code",
      "execution_count": 34,
      "metadata": {
        "id": "1Iqzdw2mzn7n"
      },
      "outputs": [],
      "source": [
        "class A2C:\n",
        "    def __init__(self,\n",
        "                 policy,\n",
        "                 optimizer,\n",
        "                 value_loss_coef=0.25,\n",
        "                 entropy_coef=0.01,\n",
        "                 max_grad_norm=0.5):\n",
        "        self.policy = policy\n",
        "        self.optimizer = optimizer\n",
        "        self.value_loss_coef = value_loss_coef\n",
        "        self.entropy_coef = entropy_coef\n",
        "        self.max_grad_norm = max_grad_norm\n",
        "\n",
        "    @staticmethod\n",
        "    def to_one_hot(y_tensor, ndims):\n",
        "        \"\"\" helper: take an integer vector and convert it to 1-hot matrix. \"\"\"\n",
        "        y_tensor = y_tensor.type(torch.LongTensor).view(-1, 1)\n",
        "        y_one_hot = torch.zeros(\n",
        "            y_tensor.size()[0], ndims).scatter_(1, y_tensor, 1)\n",
        "        return y_one_hot\n",
        "\n",
        "    def policy_loss(self, trajectory):\n",
        "        # You will need to compute advantages here.\n",
        "        onehot_actions = to_one_hot(trajectory['actions'], env.action_space.n)\n",
        "\n",
        "        log_probs_for_actions = trajectory['log_probs'][onehot_actions > 0].unsqueeze(1)  # [40, 1]\n",
        "        advantages = (trajectory['value_targets'] - trajectory['values'].detach())  # [40, 1]\n",
        "\n",
        "        pi_loss = -torch.mean(log_probs_for_actions * advantages)\n",
        "        self.advantages = torch.mean(advantages)\n",
        "        return pi_loss\n",
        "\n",
        "    def value_loss(self, trajectory):\n",
        "        return F.mse_loss(trajectory['value_targets'], trajectory['values'])\n",
        "\n",
        "    def loss(self, trajectory):\n",
        "        pi_loss = self.policy_loss(trajectory)\n",
        "        v_loss = self.value_loss(trajectory)\n",
        "        self.entropy = -torch.mean((trajectory['log_probs'] * trajectory['probs']).sum(1))\n",
        "\n",
        "        main_loss = pi_loss + self.value_loss_coef * v_loss - self.entropy_coef * self.entropy\n",
        "        return main_loss\n",
        "\n",
        "    def step(self, trajectory):\n",
        "        loss = self.loss(trajectory)\n",
        "        loss.backward()\n",
        "\n",
        "        self.grad_norm = nn.utils.clip_grad_norm_(policy.model.parameters(), self.max_grad_norm)\n",
        "        self.optimizer.step()\n",
        "        self.optimizer.zero_grad()"
      ]
    },
    {
      "cell_type": "markdown",
      "metadata": {
        "id": "JqT0arPHzn7o"
      },
      "source": [
        "Now you can train your model. With reasonable hyperparameters training on a single GTX1080 for 10 million steps across all batched environments (which translates to about 5 hours of wall clock time)\n",
        "it should be possible to achieve *average raw reward over last 100 episodes* (the average is taken over 100 last\n",
        "episodes in each environment in the batch) of about 600. You should plot this quantity with respect to\n",
        "`runner.step_var` &mdash; the number of interactions with all environments. It is highly\n",
        "encouraged to also provide plots of the following quantities (these are useful for debugging as well):\n",
        "\n",
        "* [Coefficient of Determination](https://en.wikipedia.org/wiki/Coefficient_of_determination) between\n",
        "value targets and value predictions\n",
        "* Entropy of the policy $\\pi$\n",
        "* Value loss\n",
        "* Policy loss\n",
        "* Value targets\n",
        "* Value predictions\n",
        "* Gradient norm\n",
        "* Advantages\n",
        "* A2C loss\n",
        "\n",
        "For optimization we suggest you use RMSProp with learning rate starting from 7e-4 and linearly decayed to 0, smoothing constant (alpha in PyTorch and decay in TensorFlow) equal to 0.99 and epsilon equal to 1e-5."
      ]
    },
    {
      "cell_type": "code",
      "source": [
        "from collections import defaultdict\n",
        "NumpySummaries._summaries = defaultdict(list)\n",
        "NumpySummaries._summaries"
      ],
      "metadata": {
        "colab": {
          "base_uri": "https://localhost:8080/"
        },
        "id": "yWyV-hVG6jrm",
        "outputId": "6007d060-d19d-4c50-911f-88b083c25f7b"
      },
      "execution_count": 24,
      "outputs": [
        {
          "output_type": "execute_result",
          "data": {
            "text/plain": [
              "defaultdict(list, {})"
            ]
          },
          "metadata": {},
          "execution_count": 24
        }
      ]
    },
    {
      "cell_type": "code",
      "execution_count": 35,
      "metadata": {
        "id": "ZTvq4Jpdzn7o"
      },
      "outputs": [],
      "source": [
        "env = nature_dqn_env(\"SpaceInvadersNoFrameskip-v4\", nenvs=8, summaries='Numpy')\n",
        "\n",
        "model = DQNAgent(env.action_space.n).to('cuda')\n",
        "policy = Policy(model)\n",
        "runner = EnvRunner(\n",
        "    env, policy, nsteps=5,\n",
        "    transforms=[\n",
        "        ComputeValueTargets(policy),\n",
        "        MergeTimeBatch()],\n",
        "    )\n",
        "\n",
        "optimizer = torch.optim.RMSprop(policy.model.parameters(), lr=7e-4, alpha=0.99, eps=1e-5)\n",
        "a2c = A2C(policy, optimizer, value_loss_coef=0.25, entropy_coef=0.01, max_grad_norm=0.5)"
      ]
    },
    {
      "cell_type": "code",
      "source": [
        "from IPython.display import clear_output\n",
        "import matplotlib.pyplot as plt\n",
        "\n",
        "num_epochs = 10**7\n",
        "\n",
        "# def train(a2c, runner, policy, num_epochs=10**6):\n",
        "for i in range(num_epochs):\n",
        "    NumpySummaries.set_step(runner.step_var)  # update step_var\n",
        "\n",
        "    trajectory = runner.get_next()  # generate session\n",
        "    a2c.step(trajectory)            # gradient step\n",
        "\n",
        "    env.add_summary_scalar('loss', a2c.loss(trajectory).item())\n",
        "    env.add_summary_scalar('policy_loss', a2c.policy_loss(trajectory).item())\n",
        "    env.add_summary_scalar('value_loss', a2c.value_loss(trajectory).item())\n",
        "    env.add_summary_scalar('entropy', a2c.entropy.item())\n",
        "    env.add_summary_scalar('advantages', a2c.advantages.item())\n",
        "    env.add_summary_scalar('grad_norm', a2c.grad_norm.item())\n",
        "    \n",
        "    summary = [\"SpaceInvadersNoFrameskip-v4/reward_mean_100\", \n",
        "               \"loss\", \"policy_loss\", \"value_loss\", \"entropy\", \"advantages\", \"grad_norm\"]\n",
        "    if i % 50 == 0:\n",
        "        clear_output(True)\n",
        "        fig, axs = plt.subplots(nrows=2, ncols=4, figsize=(20, 10))\n",
        "\n",
        "        for ax, name in zip(axs.ravel(), summary):\n",
        "            history = np.array(NumpySummaries.get_values(name))\n",
        "            if len(history) > 0:\n",
        "                print(name + \":\\t\" + f\"{history[-1][1]}\")\n",
        "                \n",
        "                ax.set_title(name)\n",
        "                ax.set_xlabel(\"Steps\")\n",
        "                ax.plot(history[:, 0], history[:, 1])\n",
        "                ax.grid()\n",
        "        plt.show()\n",
        "# train(a2c, runner, policy, num_epochs)"
      ],
      "metadata": {
        "colab": {
          "base_uri": "https://localhost:8080/",
          "height": 742
        },
        "id": "Zox1LNuz6UYP",
        "outputId": "13d07d4c-0f6d-4739-ee78-7638695a4e9b"
      },
      "execution_count": null,
      "outputs": [
        {
          "output_type": "stream",
          "name": "stdout",
          "text": [
            "SpaceInvadersNoFrameskip-v4/reward_mean_100:\t426.725\n",
            "loss:\t0.036442190408706665\n",
            "policy_loss:\t0.003608801867812872\n",
            "value_loss:\t0.17657944560050964\n",
            "entropy:\t1.1311471462249756\n",
            "advantages:\t-0.0006771683692932129\n",
            "grad_norm:\t0.6160533428192139\n"
          ]
        },
        {
          "output_type": "display_data",
          "data": {
            "text/plain": [
              "<Figure size 1440x720 with 8 Axes>"
            ],
            "image/png": "[encoded data removed]"
          },
          "metadata": {
            "needs_background": "light"
          }
        }
      ]
    },
    {
      "cell_type": "code",
      "source": [],
      "metadata": {
        "id": "dwf2PdN5r6E0"
      },
      "execution_count": null,
      "outputs": []
    },
    {
      "cell_type": "markdown",
      "metadata": {
        "id": "jr6GGYROzn7o"
      },
      "source": [
        "### Target networks?\n",
        "\n",
        "You may recall a technique called \"target networks\" we used a few weeks ago when we trained a DQN agent to play Atari Breakout and wonder why we have not suggested using them here. The answer is that this is more historical than practical.\n",
        "\n",
        "While the \"chasing the target\" problem is still present in actor-critic value estimation and target networks do show up in follow-up papers, the original A3C/A2C papers do not mention them and do not explain this omission.\n",
        "\n",
        "The hypothesis why this may not be a big deal (compared to Q-learning) goes like this. An A3C/A2C agent selects actions based on policy, not an epsilon greedy exploration function, for which the argmax can change drastically due to tiny errors in function approximation. Therefore, errors in the value target caused by target chasing will cause less damage.\n",
        "\n",
        "Also, the actor-critic gradient relies on the advantage function $A(s_t, a_t) = Q(s_t, a_t) - V(s_t)$. Compare this to the $Q$-function $Q(s_t, a_t) = r(s_t, a_t) + \\gamma \\cdot \\mathbb{E}_{s_{t+1} \\mid s_t, a_t} V(s_{t+1})$ used in Q-learning and SARSA: we would expect that any bias in $V$-function approximation will be carried over from $V(s_{t+1})$ to $V(s_t)$ by gradient updates. However, in the formula for the advantage function the two approximations ($Q$-function and $V$-function) come with opposite signs, and thus the errors will cancel out.\n",
        "\n",
        "The last reason may be computational. Authors were concerned to beat existent algorithms in the wall-clock learning time, and any overhead of parameter copying (target network update) counted against this goal."
      ]
    }
  ],
  "metadata": {
    "kernelspec": {
      "display_name": "my_env",
      "language": "python",
      "name": "python3"
    },
    "language_info": {
      "codemirror_mode": {
        "name": "ipython",
        "version": 3
      },
      "file_extension": ".py",
      "mimetype": "text/x-python",
      "name": "python",
      "nbconvert_exporter": "python",
      "pygments_lexer": "ipython3",
      "version": "3.9.16"
    },
    "colab": {
      "provenance": []
    },
    "accelerator": "GPU",
    "gpuClass": "standard"
  },
  "nbformat": 4,
  "nbformat_minor": 0
}